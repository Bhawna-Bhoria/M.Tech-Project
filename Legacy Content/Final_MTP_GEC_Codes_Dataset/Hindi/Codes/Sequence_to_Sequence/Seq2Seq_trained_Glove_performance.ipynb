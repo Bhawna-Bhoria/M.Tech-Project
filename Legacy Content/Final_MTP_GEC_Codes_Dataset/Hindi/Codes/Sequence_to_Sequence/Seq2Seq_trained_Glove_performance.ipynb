{
 "cells": [
  {
   "cell_type": "code",
   "execution_count": 2,
   "id": "517dafb0-329c-4b3d-8aeb-95d69fb26f08",
   "metadata": {},
   "outputs": [],
   "source": [
    "## LOADING THE REQUIRED LIBRARIES\n",
    "\n",
    "import pandas as pd\n",
    "import numpy as np\n",
    "import os\n",
    "import re\n",
    "import matplotlib.pyplot as plt\n",
    "import seaborn as sns\n",
    "import warnings \n",
    "warnings.filterwarnings('ignore')\n",
    "from tqdm import tqdm \n",
    "import tensorflow as tf\n",
    "from  tensorflow.keras.preprocessing.sequence import pad_sequences\n",
    "from  sklearn.model_selection import train_test_split\n",
    "from tqdm import tqdm"
   ]
  },
  {
   "cell_type": "code",
   "execution_count": 3,
   "id": "7b1edf60-c346-4aed-85f9-bd7c47c2b673",
   "metadata": {},
   "outputs": [],
   "source": [
    "import os\n",
    "os.environ[\"CUDA_DEVICE_ORDER\"]=\"PCI_BUS_ID\"\n",
    "# The GPU id to use, \"0\" to  \"7\" \n",
    "os.environ[\"CUDA_VISIBLE_DEVICES\"]=\"1,2,3,4,5,7\""
   ]
  },
  {
   "cell_type": "code",
   "execution_count": 4,
   "id": "963a0035-8557-430c-aca2-997594ddddf8",
   "metadata": {},
   "outputs": [
    {
     "name": "stdout",
     "output_type": "stream",
     "text": [
      "Num GPUs Available:  6\n"
     ]
    }
   ],
   "source": [
    "print(\"Num GPUs Available: \", len(tf.config.list_physical_devices('GPU')))\n",
    "from tensorflow.python.client import device_lib"
   ]
  },
  {
   "cell_type": "code",
   "execution_count": 2,
   "id": "373120f0-6266-41f6-9d0e-687c119c28cd",
   "metadata": {},
   "outputs": [
    {
     "name": "stdout",
     "output_type": "stream",
     "text": [
      "Sat Jan 21 10:44:50 2023       \n",
      "+-----------------------------------------------------------------------------+\n",
      "| NVIDIA-SMI 460.84       Driver Version: 460.84       CUDA Version: 11.2     |\n",
      "|-------------------------------+----------------------+----------------------+\n",
      "| GPU  Name        Persistence-M| Bus-Id        Disp.A | Volatile Uncorr. ECC |\n",
      "| Fan  Temp  Perf  Pwr:Usage/Cap|         Memory-Usage | GPU-Util  Compute M. |\n",
      "|                               |                      |               MIG M. |\n",
      "|===============================+======================+======================|\n",
      "|   0  GeForce GTX 108...  Off  | 00000000:04:00.0 Off |                  N/A |\n",
      "| 20%   26C    P8     9W / 250W |   3581MiB / 11178MiB |      0%      Default |\n",
      "|                               |                      |                  N/A |\n",
      "+-------------------------------+----------------------+----------------------+\n",
      "|   1  GeForce GTX 108...  Off  | 00000000:06:00.0 Off |                  N/A |\n",
      "| 20%   26C    P8     7W / 250W |    251MiB / 11178MiB |      0%      Default |\n",
      "|                               |                      |                  N/A |\n",
      "+-------------------------------+----------------------+----------------------+\n",
      "|   2  GeForce GTX 108...  Off  | 00000000:07:00.0 Off |                  N/A |\n",
      "| 20%   26C    P8     8W / 250W |  10976MiB / 11178MiB |      0%      Default |\n",
      "|                               |                      |                  N/A |\n",
      "+-------------------------------+----------------------+----------------------+\n",
      "|   3  GeForce GTX 108...  Off  | 00000000:08:00.0 Off |                  N/A |\n",
      "| 20%   26C    P8     7W / 250W |    251MiB / 11178MiB |      0%      Default |\n",
      "|                               |                      |                  N/A |\n",
      "+-------------------------------+----------------------+----------------------+\n",
      "|   4  GeForce GTX 108...  Off  | 00000000:0C:00.0 Off |                  N/A |\n",
      "| 20%   32C    P8     7W / 250W |    251MiB / 11178MiB |      0%      Default |\n",
      "|                               |                      |                  N/A |\n",
      "+-------------------------------+----------------------+----------------------+\n",
      "|   5  GeForce GTX 108...  Off  | 00000000:0D:00.0 Off |                  N/A |\n",
      "| 20%   26C    P8     8W / 250W |    251MiB / 11178MiB |      0%      Default |\n",
      "|                               |                      |                  N/A |\n",
      "+-------------------------------+----------------------+----------------------+\n",
      "|   6  GeForce GTX 108...  Off  | 00000000:0E:00.0 Off |                  N/A |\n",
      "| 20%   29C    P8     7W / 250W |    251MiB / 11178MiB |      0%      Default |\n",
      "|                               |                      |                  N/A |\n",
      "+-------------------------------+----------------------+----------------------+\n",
      "|   7  GeForce GTX 108...  Off  | 00000000:0F:00.0 Off |                  N/A |\n",
      "| 20%   27C    P8     8W / 250W |    251MiB / 11178MiB |      0%      Default |\n",
      "|                               |                      |                  N/A |\n",
      "+-------------------------------+----------------------+----------------------+\n",
      "                                                                               \n",
      "+-----------------------------------------------------------------------------+\n",
      "| Processes:                                                                  |\n",
      "|  GPU   GI   CI        PID   Type   Process name                  GPU Memory |\n",
      "|        ID   ID                                                   Usage      |\n",
      "|=============================================================================|\n",
      "|    0   N/A  N/A      9609      C   /usr/bin/python3                 3579MiB |\n",
      "|    1   N/A  N/A      9609      C   /usr/bin/python3                  249MiB |\n",
      "|    2   N/A  N/A      9609      C   /usr/bin/python3                  249MiB |\n",
      "|    2   N/A  N/A     15019      C   /usr/bin/python3                10725MiB |\n",
      "|    3   N/A  N/A      9609      C   /usr/bin/python3                  249MiB |\n",
      "|    4   N/A  N/A      9609      C   /usr/bin/python3                  249MiB |\n",
      "|    5   N/A  N/A      9609      C   /usr/bin/python3                  249MiB |\n",
      "|    6   N/A  N/A      9609      C   /usr/bin/python3                  249MiB |\n",
      "|    7   N/A  N/A      9609      C   /usr/bin/python3                  249MiB |\n",
      "+-----------------------------------------------------------------------------+\n"
     ]
    }
   ],
   "source": [
    "!nvidia-smi"
   ]
  },
  {
   "cell_type": "code",
   "execution_count": 5,
   "id": "4437b529-291c-4eea-8e7b-77e0bb19a460",
   "metadata": {},
   "outputs": [
    {
     "data": {
      "text/html": [
       "<div>\n",
       "<style scoped>\n",
       "    .dataframe tbody tr th:only-of-type {\n",
       "        vertical-align: middle;\n",
       "    }\n",
       "\n",
       "    .dataframe tbody tr th {\n",
       "        vertical-align: top;\n",
       "    }\n",
       "\n",
       "    .dataframe thead th {\n",
       "        text-align: right;\n",
       "    }\n",
       "</style>\n",
       "<table border=\"1\" class=\"dataframe\">\n",
       "  <thead>\n",
       "    <tr style=\"text-align: right;\">\n",
       "      <th></th>\n",
       "      <th>enc_input</th>\n",
       "      <th>dec_input</th>\n",
       "      <th>dec_output</th>\n",
       "    </tr>\n",
       "  </thead>\n",
       "  <tbody>\n",
       "    <tr>\n",
       "      <th>0</th>\n",
       "      <td>परन्तु वे दोनों उन बातों को ज़्यादा समय तक अप ...</td>\n",
       "      <td>परन्तु वे दोनों उन बातों को ज़्यादा समय तक अपन...</td>\n",
       "      <td>परन्तु वे दोनों उन बातों को ज़्यादा समय तक अपन...</td>\n",
       "    </tr>\n",
       "    <tr>\n",
       "      <th>1</th>\n",
       "      <td>देश में हिन्दी को विस्थापित कर का षड़यंत्र चल ...</td>\n",
       "      <td>देश में हिन्दी को विस्थापित करने का षड़यंत्र च...</td>\n",
       "      <td>देश में हिन्दी को विस्थापित करने का षड़यंत्र च...</td>\n",
       "    </tr>\n",
       "  </tbody>\n",
       "</table>\n",
       "</div>"
      ],
      "text/plain": [
       "                                           enc_input  \\\n",
       "0  परन्तु वे दोनों उन बातों को ज़्यादा समय तक अप ...   \n",
       "1  देश में हिन्दी को विस्थापित कर का षड़यंत्र चल ...   \n",
       "\n",
       "                                           dec_input  \\\n",
       "0  परन्तु वे दोनों उन बातों को ज़्यादा समय तक अपन...   \n",
       "1  देश में हिन्दी को विस्थापित करने का षड़यंत्र च...   \n",
       "\n",
       "                                          dec_output  \n",
       "0  परन्तु वे दोनों उन बातों को ज़्यादा समय तक अपन...  \n",
       "1  देश में हिन्दी को विस्थापित करने का षड़यंत्र च...  "
      ]
     },
     "execution_count": 5,
     "metadata": {},
     "output_type": "execute_result"
    }
   ],
   "source": [
    "df= pd.read_csv('DATA/etoori_train.csv')\n",
    "df.columns = [\"enc_input\",\"dec_input\"] \n",
    "df[\"dec_output\"] = df.dec_input\n",
    "df.head(2)\n"
   ]
  },
  {
   "cell_type": "code",
   "execution_count": 6,
   "id": "bfaa0f9b-0460-4e91-8080-6eb37dd93ee9",
   "metadata": {},
   "outputs": [
    {
     "data": {
      "text/html": [
       "<div>\n",
       "<style scoped>\n",
       "    .dataframe tbody tr th:only-of-type {\n",
       "        vertical-align: middle;\n",
       "    }\n",
       "\n",
       "    .dataframe tbody tr th {\n",
       "        vertical-align: top;\n",
       "    }\n",
       "\n",
       "    .dataframe thead th {\n",
       "        text-align: right;\n",
       "    }\n",
       "</style>\n",
       "<table border=\"1\" class=\"dataframe\">\n",
       "  <thead>\n",
       "    <tr style=\"text-align: right;\">\n",
       "      <th></th>\n",
       "      <th>enc_input</th>\n",
       "      <th>dec_input</th>\n",
       "      <th>dec_output</th>\n",
       "    </tr>\n",
       "  </thead>\n",
       "  <tbody>\n",
       "    <tr>\n",
       "      <th>0</th>\n",
       "      <td>परन्तु वे दोनों उन बातों को ज़्यादा समय तक अप ...</td>\n",
       "      <td>&lt;start&gt; परन्तु वे दोनों उन बातों को ज़्यादा सम...</td>\n",
       "      <td>परन्तु वे दोनों उन बातों को ज़्यादा समय तक अपन...</td>\n",
       "    </tr>\n",
       "    <tr>\n",
       "      <th>1</th>\n",
       "      <td>देश में हिन्दी को विस्थापित कर का षड़यंत्र चल ...</td>\n",
       "      <td>&lt;start&gt; देश में हिन्दी को विस्थापित करने का षड...</td>\n",
       "      <td>देश में हिन्दी को विस्थापित करने का षड़यंत्र च...</td>\n",
       "    </tr>\n",
       "  </tbody>\n",
       "</table>\n",
       "</div>"
      ],
      "text/plain": [
       "                                           enc_input  \\\n",
       "0  परन्तु वे दोनों उन बातों को ज़्यादा समय तक अप ...   \n",
       "1  देश में हिन्दी को विस्थापित कर का षड़यंत्र चल ...   \n",
       "\n",
       "                                           dec_input  \\\n",
       "0  <start> परन्तु वे दोनों उन बातों को ज़्यादा सम...   \n",
       "1  <start> देश में हिन्दी को विस्थापित करने का षड...   \n",
       "\n",
       "                                          dec_output  \n",
       "0  परन्तु वे दोनों उन बातों को ज़्यादा समय तक अपन...  \n",
       "1  देश में हिन्दी को विस्थापित करने का षड़यंत्र च...  "
      ]
     },
     "execution_count": 6,
     "metadata": {},
     "output_type": "execute_result"
    }
   ],
   "source": [
    "## THE INPUTS TO THE DECODER REQUIRES SPECIAL TOKENS FOR THE START AND THE END SO WE ARE GOING TO USE \n",
    "## <start> AS BEGINING TOKEN\n",
    "## <end>  AS END TOKEN\n",
    "\n",
    "df[\"dec_input\"]= \"<start> \" + df[\"dec_input\"]\n",
    "df[\"dec_output\"] =  df[\"dec_output\"] + \" <end>\" \n",
    "df.head(2)"
   ]
  },
  {
   "cell_type": "code",
   "execution_count": 7,
   "id": "bbcdec5c-901b-4b1d-a223-a130541f6507",
   "metadata": {},
   "outputs": [
    {
     "data": {
      "text/plain": [
       "'<start> परन्तु वे दोनों उन बातों को ज़्यादा समय तक अपने हृदय में गाँठ बनाकर नहीं रखते थे । '"
      ]
     },
     "execution_count": 7,
     "metadata": {},
     "output_type": "execute_result"
    }
   ],
   "source": [
    "df[\"dec_input\"][0]"
   ]
  },
  {
   "cell_type": "code",
   "execution_count": 8,
   "id": "0379679c-9f5e-4708-8222-eb8497438f6b",
   "metadata": {},
   "outputs": [
    {
     "data": {
      "text/plain": [
       "'परन्तु वे दोनों उन बातों को ज़्यादा समय तक अपने हृदय में गाँठ बनाकर नहीं रखते थे ।  <end>'"
      ]
     },
     "execution_count": 8,
     "metadata": {},
     "output_type": "execute_result"
    }
   ],
   "source": [
    "df[\"dec_output\"][0]"
   ]
  },
  {
   "cell_type": "code",
   "execution_count": 9,
   "id": "e38472d8-b8a9-4dee-a523-9ed4f4542f06",
   "metadata": {},
   "outputs": [],
   "source": [
    "df_train ,df_val = train_test_split(df,test_size=0.2,random_state = 3)"
   ]
  },
  {
   "cell_type": "code",
   "execution_count": 10,
   "id": "b7fac1ca-62e5-4954-b735-58150277b619",
   "metadata": {},
   "outputs": [
    {
     "data": {
      "text/plain": [
       "(112000, 3)"
      ]
     },
     "execution_count": 10,
     "metadata": {},
     "output_type": "execute_result"
    }
   ],
   "source": [
    "## IN THE COLUMN WHICH HAS DECODER INPUTS ADDING \"<end>\" TOKEN TO BE LEARNED BY THE TOKENIZER\n",
    "df_train[\"dec_input\"].iloc[0]  = df_train.iloc[0][\"dec_input\"] + \" <end>\"\n",
    "df_train.shape"
   ]
  },
  {
   "cell_type": "code",
   "execution_count": 11,
   "id": "c426c9b7-d64e-4034-b10a-bcc8da549c49",
   "metadata": {},
   "outputs": [
    {
     "data": {
      "text/plain": [
       "(28000, 3)"
      ]
     },
     "execution_count": 11,
     "metadata": {},
     "output_type": "execute_result"
    }
   ],
   "source": [
    "df_val.shape"
   ]
  },
  {
   "cell_type": "code",
   "execution_count": 12,
   "id": "fcca3ecc-41fa-427b-b8b5-b568beae4c48",
   "metadata": {},
   "outputs": [],
   "source": [
    "\"\"\" Tokenisation \"\"\"\n",
    "from indicnlp.tokenize import indic_tokenize\n",
    "def tokenization(indic_string):\n",
    "    tokens = []\n",
    "    for t in indic_tokenize.trivial_tokenize(indic_string):\n",
    "        if t != '<' or t != '>' or t != 'start' or t != 'end':\n",
    "            tokens.append(t)\n",
    "    return tokens"
   ]
  },
  {
   "cell_type": "code",
   "execution_count": 13,
   "id": "a5788711-883d-476a-9a7f-d7633a78560f",
   "metadata": {},
   "outputs": [
    {
     "name": "stdout",
     "output_type": "stream",
     "text": [
      "<class 'pandas.core.series.Series'>\n"
     ]
    },
    {
     "data": {
      "text/plain": [
       "1522      [अवध, के, माटी, रतनों, को, ढूंढने, वाली, इस, स...\n",
       "107460                       [यही, तो, कला, के, दिन, है, ।]\n",
       "134546    [इसीलिए, तो, जिधर, सिर, मुडाता, हूँ, ओले, उसी,...\n",
       "120290    [फोन, पर, बात, बंद, हुई, तो, सीआई, रोते, हुए, ...\n",
       "109794                     [परिजनों, ने, उसे, थेने, लाए, ।]\n",
       "                                ...                        \n",
       "11261                        [प्रायः, झपट्टा, मारती, है, ।]\n",
       "104704    [अप, गांव, को, उन्नत, कर, का, उनका, एक, दीर्घक...\n",
       "48056     [लेकिन, कई, क्षेत्र, ऐसे, हैंं, जहां, इस, लाइन...\n",
       "77049     [वास्तव, में, हज़रत, अली, अलैहिस्सलाम, साहस, औ...\n",
       "71530     [सुप्रीम, कोर्ट, दो, साल, से, ज्यादा, की, सजा,...\n",
       "Name: enc_input, Length: 112000, dtype: object"
      ]
     },
     "execution_count": 13,
     "metadata": {},
     "output_type": "execute_result"
    }
   ],
   "source": [
    "enc_token_ip = df_train['enc_input'].apply(lambda x: tokenization(x))\n",
    "print(type(enc_token_ip))\n",
    "enc_token_ip"
   ]
  },
  {
   "cell_type": "code",
   "execution_count": 14,
   "id": "41b260a5-8c55-4235-8290-2f56c05750e4",
   "metadata": {},
   "outputs": [
    {
     "name": "stdout",
     "output_type": "stream",
     "text": [
      "73829\n",
      "<class 'dict'>\n"
     ]
    }
   ],
   "source": [
    "vocab_ip= {}\n",
    "vocab_ip['<unk>']=0\n",
    "count= 0 \n",
    "for i in enc_token_ip:\n",
    "    for j in i:\n",
    "        if j not in vocab_ip:\n",
    "            count=count+1\n",
    "            vocab_ip[j]=count\n",
    "        else:\n",
    "            continue\n",
    "vocab_ip_length= len(vocab_ip)\n",
    "print(vocab_ip_length)\n",
    "print(type(vocab_ip))\n",
    "#print(vocab_ip)"
   ]
  },
  {
   "cell_type": "code",
   "execution_count": 15,
   "id": "3d6e8471-45e1-4f42-b959-b55c7469988d",
   "metadata": {},
   "outputs": [],
   "source": [
    "#vocab_ip"
   ]
  },
  {
   "cell_type": "code",
   "execution_count": 16,
   "id": "3aa06f12-1379-4aef-8f41-b969bd9dbca4",
   "metadata": {},
   "outputs": [
    {
     "name": "stdout",
     "output_type": "stream",
     "text": [
      "<class 'pandas.core.series.Series'>\n"
     ]
    }
   ],
   "source": [
    "from indicnlp.tokenize import indic_tokenize\n",
    "\n",
    "def tokenization(indic_string):\n",
    "    tokens = []\n",
    "    for t in indic_tokenize.trivial_tokenize(indic_string):\n",
    "\n",
    "        if t != '<' and t != '>' and t != 'start' and t != 'end':\n",
    "            tokens.append(t)\n",
    "    tokens.insert(0,'<start>')\n",
    "    tokens.append('<end>')\n",
    "    return tokens\n",
    "\n",
    "\n",
    "dec_token_ip = df_train['dec_input'].apply(lambda x: tokenization(x))\n",
    "\n",
    "print(type(dec_token_ip))\n"
   ]
  },
  {
   "cell_type": "code",
   "execution_count": 17,
   "id": "8836d2d2-0fe3-4088-a175-c9891c2adced",
   "metadata": {},
   "outputs": [
    {
     "name": "stdout",
     "output_type": "stream",
     "text": [
      "72971\n",
      "<class 'dict'>\n"
     ]
    }
   ],
   "source": [
    "vocab_dec= {}\n",
    "vocab_dec['<unk>']=0\n",
    "count= 0 \n",
    "for i in dec_token_ip:\n",
    "    for j in i:\n",
    "        if j not in vocab_dec:\n",
    "            count=count+1\n",
    "            vocab_dec[j]=count\n",
    "        else:\n",
    "            continue\n",
    "\n",
    "print(len(vocab_dec))\n",
    "print(type(vocab_dec))\n",
    "#print(vocab_dec)\n",
    "vocab_dec_length=len(vocab_dec)"
   ]
  },
  {
   "cell_type": "code",
   "execution_count": 18,
   "id": "a69ccf53-7cd8-4c6b-956b-6d3266401507",
   "metadata": {},
   "outputs": [
    {
     "name": "stdout",
     "output_type": "stream",
     "text": [
      "20\n"
     ]
    },
    {
     "data": {
      "text/plain": [
       "1"
      ]
     },
     "execution_count": 18,
     "metadata": {},
     "output_type": "execute_result"
    }
   ],
   "source": [
    "print(vocab_dec['<end>'])\n",
    "vocab_dec['<start>']"
   ]
  },
  {
   "cell_type": "code",
   "execution_count": null,
   "id": "07f45956-af25-402e-ac64-e064a2a00ce5",
   "metadata": {},
   "outputs": [],
   "source": []
  },
  {
   "cell_type": "code",
   "execution_count": 19,
   "id": "c5432949-1ed6-48f3-82a5-0229d39f1389",
   "metadata": {},
   "outputs": [
    {
     "name": "stdout",
     "output_type": "stream",
     "text": [
      "loaded glove vectors\n"
     ]
    }
   ],
   "source": [
    "\"\"\"# Glove embeddings \"\"\"\n",
    "\n",
    "embeddings_index = dict()\n",
    "\n",
    "with open (\"models/hi-d300-glove.txt\", encoding=\"utf8\", errors='ignore') as f: \n",
    "\n",
    "    for line in f:\n",
    "\n",
    "        values = line.split()\n",
    "        word = values[0]\n",
    "        coefs = np.asarray(values[1:], dtype='float32')\n",
    "        embeddings_index[word] = coefs\n",
    "   \n",
    "f.close()\n",
    "\n",
    "print('loaded glove vectors')"
   ]
  },
  {
   "cell_type": "code",
   "execution_count": null,
   "id": "a446f596-e318-4247-bc7d-16bc60c007fa",
   "metadata": {},
   "outputs": [],
   "source": []
  },
  {
   "cell_type": "code",
   "execution_count": 20,
   "id": "930bb035-0282-4ea4-84cf-2c05dae4066f",
   "metadata": {},
   "outputs": [
    {
     "data": {
      "text/plain": [
       "'hi-d300-glove.txt.word2vec'"
      ]
     },
     "execution_count": 20,
     "metadata": {},
     "output_type": "execute_result"
    }
   ],
   "source": [
    "from gensim.scripts.glove2word2vec import glove2word2vec\n",
    "\n",
    "#glove_input_file = glove_filename\n",
    "glove_filename = \"hi-d300-glove.txt\"\n",
    "word2vec_output_file = glove_filename+'.word2vec'\n",
    "glove_path = \"models/hi-d300-glove.txt\"\n",
    "word2vec_output_file"
   ]
  },
  {
   "cell_type": "code",
   "execution_count": 21,
   "id": "426957a7-f33f-448d-9899-cb238ef65bad",
   "metadata": {},
   "outputs": [
    {
     "data": {
      "text/plain": [
       "1732951"
      ]
     },
     "execution_count": 21,
     "metadata": {},
     "output_type": "execute_result"
    }
   ],
   "source": [
    "len(embeddings_index)"
   ]
  },
  {
   "cell_type": "code",
   "execution_count": 22,
   "id": "9ad3ef3f-b23d-4d39-89fa-e4b9d7ffcee4",
   "metadata": {},
   "outputs": [
    {
     "data": {
      "text/plain": [
       "300"
      ]
     },
     "execution_count": 22,
     "metadata": {},
     "output_type": "execute_result"
    }
   ],
   "source": [
    "word = \"पूजा\"\n",
    "embeddings_index.get(word).shape[0]"
   ]
  },
  {
   "cell_type": "code",
   "execution_count": 23,
   "id": "701590e2-de6c-4438-b6a5-b4b605e43904",
   "metadata": {},
   "outputs": [
    {
     "name": "stdout",
     "output_type": "stream",
     "text": [
      "Embedding Shape is 300\n",
      "Nearest Neighbors to पूजा using Glove are:\n"
     ]
    }
   ],
   "source": [
    "word = \"पूजा\"\n",
    "print(\"Embedding Shape is {}\".format(embeddings_index.get(word).shape[0]))\n",
    "print(\"Nearest Neighbors to {} using Glove are:\".format(word))\n",
    "\n"
   ]
  },
  {
   "cell_type": "code",
   "execution_count": 24,
   "id": "01d13fda-fa06-4f71-8290-d07935e944fd",
   "metadata": {},
   "outputs": [],
   "source": [
    "#embeddings_index.most_similar(word)"
   ]
  },
  {
   "cell_type": "code",
   "execution_count": 43,
   "id": "8bfa5d74-50ca-4658-9131-5e83588efb1c",
   "metadata": {},
   "outputs": [
    {
     "name": "stdout",
     "output_type": "stream",
     "text": [
      "(73829, 300)\n",
      "[[ 0.013644    0.037186   -0.018494   ... -0.004903    0.023412\n",
      "   0.01087   ]\n",
      " [-0.472978   -0.23835599 -0.46332401 ... -0.025699   -0.50801802\n",
      "   0.014579  ]\n",
      " [-1.28005195 -1.167081    0.087567   ... -0.13499101 -0.88774598\n",
      "   0.325504  ]\n",
      " ...\n",
      " [ 0.033654   -0.056473    0.19569001 ... -0.201353   -0.018469\n",
      "  -0.119836  ]\n",
      " [-0.027771    0.128667   -0.077422   ... -0.024443    0.056033\n",
      "  -0.043912  ]\n",
      " [ 0.          0.          0.         ...  0.          0.\n",
      "   0.        ]]\n"
     ]
    }
   ],
   "source": [
    "## FORMING EMBEDDING MATRIX FOR encoder SENTENCE\n",
    "Embedding_dimensions=300\n",
    "import numpy as np\n",
    "embedding_matrix_enc = np.zeros((vocab_ip_length,Embedding_dimensions))\n",
    "\n",
    "for word, i in vocab_ip.items():\n",
    "    embedding_vector = embeddings_index.get(word)\n",
    "    if embedding_vector is not None:\n",
    "        embedding_matrix_enc[i] = embedding_vector\n",
    "\n",
    "print(embedding_matrix_enc.shape)\n",
    "\n",
    "print(embedding_matrix_enc)\n",
    "#embedding_matrix_fasttext_enc"
   ]
  },
  {
   "cell_type": "code",
   "execution_count": 44,
   "id": "7f60a05d-09d6-4fb9-ad6e-8bddedfb74f1",
   "metadata": {},
   "outputs": [
    {
     "data": {
      "text/plain": [
       "300"
      ]
     },
     "execution_count": 44,
     "metadata": {},
     "output_type": "execute_result"
    }
   ],
   "source": [
    "len(embedding_matrix_enc[0])"
   ]
  },
  {
   "cell_type": "code",
   "execution_count": 45,
   "id": "7d786cd3-af64-4c57-813b-f65d343b68bb",
   "metadata": {},
   "outputs": [
    {
     "name": "stdout",
     "output_type": "stream",
     "text": [
      "(72971, 300)\n",
      "[[ 0.013644    0.037186   -0.018494   ... -0.004903    0.023412\n",
      "   0.01087   ]\n",
      " [ 0.          0.          0.         ...  0.          0.\n",
      "   0.        ]\n",
      " [-0.472978   -0.23835599 -0.46332401 ... -0.025699   -0.50801802\n",
      "   0.014579  ]\n",
      " ...\n",
      " [-0.36101699 -0.103008   -0.007559   ... -0.044359   -0.37095201\n",
      "   0.28727201]\n",
      " [ 0.033654   -0.056473    0.19569001 ... -0.201353   -0.018469\n",
      "  -0.119836  ]\n",
      " [-0.027771    0.128667   -0.077422   ... -0.024443    0.056033\n",
      "  -0.043912  ]]\n"
     ]
    }
   ],
   "source": [
    "## FORMING EMBEDDING MATRIX FOR decoder SENTENCE\n",
    "Embedding_dimensions=300\n",
    "import numpy as np\n",
    "embedding_matrix_dec  = np.zeros((vocab_dec_length,Embedding_dimensions))\n",
    "\n",
    "for word, i in vocab_dec.items():\n",
    "    embedding_vector = embeddings_index.get(word)\n",
    "    if embedding_vector is not None:\n",
    "        embedding_matrix_dec[i] = embedding_vector\n",
    "        \n",
    "print(embedding_matrix_dec.shape)\n",
    "\n",
    "print(embedding_matrix_dec)\n",
    "#embedding_matrix_fasttext_dec"
   ]
  },
  {
   "cell_type": "code",
   "execution_count": null,
   "id": "20c5f94d-f33f-4425-ac7e-9636caa8b322",
   "metadata": {},
   "outputs": [],
   "source": []
  },
  {
   "cell_type": "code",
   "execution_count": 46,
   "id": "9dfc006a-43ba-4398-9425-ccaa4f052a7c",
   "metadata": {},
   "outputs": [],
   "source": [
    "from sklearn.manifold import TSNE"
   ]
  },
  {
   "cell_type": "code",
   "execution_count": 47,
   "id": "e2d3aa06-98d0-4f56-a167-e9d9b2c3f114",
   "metadata": {},
   "outputs": [],
   "source": [
    "num_points = 200\n",
    "\n",
    "tsne = TSNE(perplexity=30, n_components=2, init='pca', n_iter=5000, method='exact')\n",
    "#two_d_embeddings = tsne.fit_transform(final_embeddings[1:num_points+1, :])\n",
    "two_d_embeddings = tsne.fit_transform(embedding_matrix_dec[1:num_points+1, :])\n"
   ]
  },
  {
   "cell_type": "code",
   "execution_count": 35,
   "id": "828e1c44-da17-4846-93d5-0074dd718c26",
   "metadata": {},
   "outputs": [],
   "source": [
    "from matplotlib.font_manager import FontProperties\n",
    "from six.moves import range\n",
    "from six.moves.urllib.request import urlretrieve\n",
    "from sklearn.manifold import TSNE\n",
    "\n",
    "%matplotlib inline\n",
    "hindi_font = FontProperties(fname='models/Nirmala.ttf')"
   ]
  },
  {
   "cell_type": "code",
   "execution_count": 36,
   "id": "586e3f17-59ad-4229-9c90-6a924b016aba",
   "metadata": {},
   "outputs": [],
   "source": [
    "from matplotlib import pylab\n",
    "def plot(embeddings, labels):\n",
    "    assert embeddings.shape[0] >= len(labels), 'More labels than embeddings'\n",
    "    pylab.figure(figsize=(15, 15))\n",
    "    for i, label in enumerate(labels):\n",
    "        x, y = embeddings[i, :]\n",
    "        pylab.scatter(x, y)\n",
    "        pylab.annotate(label, xy=(x, y), xytext=(5, 2), textcoords='offset points', ha='right', va='bottom', fontproperties=hindi_font)\n",
    "    pylab.show()\n",
    "\n"
   ]
  },
  {
   "cell_type": "code",
   "execution_count": 37,
   "id": "d308ac1e-0710-45fc-9f19-8152dbdcd07a",
   "metadata": {},
   "outputs": [],
   "source": [
    "#list(vocab_dec.keys())"
   ]
  },
  {
   "cell_type": "code",
   "execution_count": 38,
   "id": "25ddc279-b631-4fef-b287-09929f8847d0",
   "metadata": {},
   "outputs": [
    {
     "data": {
      "image/png": "[encoded data removed]",
      "text/plain": [
       "<Figure size 1500x1500 with 1 Axes>"
      ]
     },
     "metadata": {},
     "output_type": "display_data"
    }
   ],
   "source": [
    "\n",
    "words = list(vocab_dec.keys())[1:num_points+1]\n",
    "#word = \"पूजा\"\n",
    "plot(two_d_embeddings, words)\n"
   ]
  },
  {
   "cell_type": "code",
   "execution_count": 27,
   "id": "1166eeec-79d6-4eb6-9f0b-08db9f3363d7",
   "metadata": {},
   "outputs": [
    {
     "name": "stdout",
     "output_type": "stream",
     "text": [
      "['अवध के माटी रतनों को ढूंढने वाली इस संस्था और इससे जुड़े लोगों का मकसद बड़ा हैं ।']\n"
     ]
    }
   ],
   "source": [
    "\"\"\"# Data Pipeline\"\"\"\n",
    "\n",
    "print([df_train[\"enc_input\"].apply(str).values[0]])"
   ]
  },
  {
   "cell_type": "code",
   "execution_count": 28,
   "id": "ef51d4f3-ce48-460d-8bfe-8ca1bfd1f1c8",
   "metadata": {},
   "outputs": [],
   "source": [
    "def texts_to_sequences1(s):\n",
    "    l=[]\n",
    "    bigl=[]\n",
    "    s=s[0]\n",
    "    #print(s)\n",
    "    ts= s.split()\n",
    "    #print(ts)\n",
    "    for w in ts:\n",
    "        if w in vocab_ip:\n",
    "            l.append(vocab_ip[w])\n",
    "        else:\n",
    "            l.append(vocab_ip['<unk>'])\n",
    "    bigl.append(l)\n",
    "    l = []\n",
    "    return bigl"
   ]
  },
  {
   "cell_type": "code",
   "execution_count": 29,
   "id": "ad2f2374-3c1b-4dcb-a45e-198c33d31416",
   "metadata": {},
   "outputs": [],
   "source": [
    "def texts_to_sequences2(s):\n",
    "    l=[]\n",
    "    bigl=[]\n",
    "    s=s[0]\n",
    "    #print(s)\n",
    "    ts= s.split()\n",
    "    #print(ts)\n",
    "    for w in ts:\n",
    "        if w in vocab_dec:\n",
    "            l.append(vocab_dec[w])\n",
    "        else:\n",
    "           l.append(vocab_dec['<unk>'])  \n",
    "    bigl.append(l)\n",
    "    l = []\n",
    "    return bigl"
   ]
  },
  {
   "cell_type": "code",
   "execution_count": 30,
   "id": "3298e937-c14e-4409-b9d2-6a40097c0f88",
   "metadata": {},
   "outputs": [
    {
     "name": "stdout",
     "output_type": "stream",
     "text": [
      "['अवध के माटी रतनों को ढूंढने वाली इस संस्था और इससे जुड़े लोगों का मकसद बड़ा हैं ।']\n",
      "18\n",
      "[[1, 2, 3, 4, 5, 6, 7, 8, 9, 10, 11, 12, 13, 14, 15, 16, 17, 18]]\n",
      "18\n",
      "[[2, 3, 4, 5, 6, 7, 8, 9, 10, 11, 12, 13, 14, 15, 16, 17, 25, 19]]\n"
     ]
    }
   ],
   "source": [
    "a = texts_to_sequences1([df_train[\"enc_input\"].apply(str).values[0]])\n",
    "b = texts_to_sequences2([df_train[\"enc_input\"].apply(str).values[0]])\n",
    "\n",
    "print([df_train[\"enc_input\"].apply(str).values[0]])\n",
    "print(len(a[0]))\n",
    "print(a)\n",
    "print(len(b[0]))\n",
    "print(b)"
   ]
  },
  {
   "cell_type": "code",
   "execution_count": 31,
   "id": "0ac04556-0560-4608-bc6e-6fcac853195d",
   "metadata": {},
   "outputs": [],
   "source": [
    "#THIS CLASS CONVERTS TEXT DATA TO INTEGER SEQUENCES AND RETURNS THE PADDED SEQUENCES\n",
    "class Dataset :\n",
    "    def __init__(self, data ,texts_to_sequences1,texts_to_sequences2, max_len):\n",
    "        ## SETTING THE REQUIRED ATTRIBUTES\n",
    "        self.encoder_inp = data[\"enc_input\"].apply(str).values\n",
    "        self.decoder_inp = data[\"dec_input\"].apply(str).values\n",
    "        self.decoder_out = data[\"dec_output\"].apply(str).values\n",
    "        self.max_len = max_len\n",
    "        self.texts_to_sequences1=texts_to_sequences1\n",
    "        self.texts_to_sequences2= texts_to_sequences2\n",
    "\n",
    "        \n",
    "    def __getitem__(self,i):\n",
    "        # INPUT SEQUENCES\n",
    "        self.encoder_seq = self.texts_to_sequences1([self.encoder_inp[i]])\n",
    "        #print(self.encoder_seq)\n",
    "\n",
    "        # DECODER INPUT SEQUENCES \n",
    "        self.decoder_inp_seq = self.texts_to_sequences2([self.decoder_inp[i]])\n",
    "        # DECODER INPUT SEQUENCES\n",
    "        self.decoder_out_seq = self.texts_to_sequences2([self.decoder_out[i]])\n",
    "        \n",
    "        # PADDING THE ENCODER INPUT SEQUENCES\n",
    "        self.encoder_seq = pad_sequences(self.encoder_seq, padding=\"post\",maxlen = self.max_len)\n",
    "        # PADDING THE DECODER INPUT SEQUENCES\n",
    "        self.decoder_inp_seq = pad_sequences(self.decoder_inp_seq, padding=\"post\",maxlen = self.max_len)\n",
    "        # PADDING DECODER OUTPUT SEQUENCES\n",
    "        self.decoder_out_seq = pad_sequences(self.decoder_out_seq ,padding=\"post\", maxlen = self.max_len)\n",
    "\n",
    "        ##  RETURNING THE ENCODER INPUT , DECODER INPUT , AND DECODER OUTPUT\n",
    "        return self.encoder_seq ,  self.decoder_inp_seq,  self.decoder_out_seq\n",
    "    \n",
    "    def __len__(self):\n",
    "        # RETURN THE LEN OF INPUT ENDODER\n",
    "        return len(self.encoder_inp)\n"
   ]
  },
  {
   "cell_type": "code",
   "execution_count": 32,
   "id": "3c2286c9-7df3-4eeb-a4a6-536145c52e80",
   "metadata": {},
   "outputs": [],
   "source": [
    "# THIS CLASS CONVERTES THE DATASET INTO THE REQUIRED BATCH SIZE\n",
    "\n",
    "class Dataloader(tf.keras.utils.Sequence):\n",
    "    def __init__(self,batch_size,dataset):\n",
    "        # INTIALIZING THE REQUIRED VARIABLES \n",
    "        self.dataset = dataset\n",
    "        self.batch_size = batch_size\n",
    "        self.totl_points = self.dataset.encoder_inp.shape[0]\n",
    "        \n",
    "    def __getitem__(self,i):\n",
    "        # STATING THE START AND STOP VATIABLE CONTAINGING INDEX VALUES FOR EACH BATCH\n",
    "        start = i * self.batch_size\n",
    "        stop = (i+1)*self.batch_size\n",
    "        \n",
    "        # PLACEHOLDERS FOR BATCHED DATA\n",
    "        batch_enc =[]\n",
    "        batch_dec_input = []\n",
    "        batch_dec_out =[]\n",
    "\n",
    "        for j in range(start,stop): \n",
    "            \n",
    "            a,b,c = self.dataset[j] \n",
    "            batch_enc.append(a[0]) \n",
    "            batch_dec_input.append(b[0])\n",
    "            batch_dec_out.append(c[0]) \n",
    "        \n",
    "        # Conveting list to array   \n",
    "        batch_enc = (np.array(batch_enc)) \n",
    "        batch_dec_input = np.array(batch_dec_input)\n",
    "        batch_dec_out = np.array(batch_dec_out)\n",
    "        \n",
    "        ## RETURNING BATCHED DATA IN REQUIRED FORM\n",
    "        return [batch_enc , batch_dec_input], batch_dec_out  \n",
    "\n",
    "    def __len__(self):\n",
    "        # Returning the number of batches\n",
    "        return int(self.totl_points/self.batch_size)\n"
   ]
  },
  {
   "cell_type": "code",
   "execution_count": 33,
   "id": "0ac5315a-1339-45c4-813a-b776cac76205",
   "metadata": {},
   "outputs": [],
   "source": [
    "# FORMING OBJECTS OF DATASET AND DATALOADER FOR TRAIN DATASET\n",
    "train_dataset = Dataset(df_train,texts_to_sequences1,texts_to_sequences2,35)\n",
    "#print(train_dataset)\n",
    "train_dataloader = Dataloader( batch_size = 32, dataset=train_dataset)"
   ]
  },
  {
   "cell_type": "code",
   "execution_count": 34,
   "id": "d46d8103-81f6-4b5b-b01e-909548a7826f",
   "metadata": {},
   "outputs": [],
   "source": [
    "# FORMING OBJECTS OF DATASET AND DATALOADER FOR VALIDATION DATASET\n",
    "val_dataset = Dataset(df_val ,texts_to_sequences1,texts_to_sequences2,35)\n",
    "val_dataloader = Dataloader(batch_size=32, dataset=val_dataset)"
   ]
  },
  {
   "cell_type": "code",
   "execution_count": 35,
   "id": "35c6f4cb-0216-40a0-8a7e-91181fe07a6a",
   "metadata": {},
   "outputs": [],
   "source": [
    "from tensorflow.keras import layers\n",
    "from tensorflow.keras import Model"
   ]
  },
  {
   "cell_type": "code",
   "execution_count": 36,
   "id": "f21a89eb-1054-424d-bb0f-a5c72520870c",
   "metadata": {},
   "outputs": [],
   "source": [
    "\"\"\"# Word Level Fasttext Attention Model\"\"\"\n",
    "\n",
    "## DEFINING THE ENCODER LAYER AS A FUNCTION\n",
    "class Encoder(tf.keras.layers.Layer):\n",
    "    \n",
    "    def __init__(self, vocab_size,emb_dims, enc_units, input_length,batch_size):\n",
    "        super().__init__()\n",
    "        # INITIALIZING THE REQUIRED VARIABLES\n",
    "        self.batch_size=batch_size # BATCH SIZE\n",
    "        self.enc_units = enc_units # ENCODER UNITS\n",
    "\n",
    "        # EMBEDDING LAYER\n",
    "        self.embedding= layers.Embedding(vocab_size ,emb_dims ,weights=[embedding_matrix_enc], mask_zero = True, trainable=False) \n",
    "        # LSTM LAYER WITH RETURN SEQ AND RETURN STATES\n",
    "        self.lstm = layers.LSTM(self.enc_units,return_state= True,return_sequences =  True) \n",
    "    \n",
    "    def call(self, enc_input , states):\n",
    "        \n",
    "        # FORMING THE EMBEDDED VECTOR \n",
    "        emb = self.embedding(enc_input)\n",
    "        # PASSING THE EMBEDDED VECTIO THROUGH LSTM LAYERS \n",
    "        enc_output,state_h,state_c = self.lstm(emb,initial_state=states)\n",
    "        #RETURNING THE OUTPUT OF LSTM LAYER\n",
    "        return enc_output,state_h,state_c \n",
    "    def initialize(self,batch_size):\n",
    "\n",
    "        return tf.zeros(shape=(batch_size,self.enc_units)),tf.zeros(shape=(batch_size,self.enc_units))"
   ]
  },
  {
   "cell_type": "code",
   "execution_count": 37,
   "id": "c11154ea-9106-4bd8-b2bd-dd50b5d19bcb",
   "metadata": {},
   "outputs": [],
   "source": [
    "# THIS IS ATTNETION LAYER FOR DOT MODEL\n",
    "class Attention(tf.keras.layers.Layer):\n",
    "    \n",
    "    def __init__(self,units):\n",
    "        super().__init__()\n",
    "        # INITIALIZING THE DENSE LAYER W1\n",
    "        self.W1 = layers.Dense(units)\n",
    "        # INITIALIZING THE DENSE LAYER W2\n",
    "        self.W2 = layers.Dense(units)\n",
    "        # INITIALIZING THE DENSE LAYER V\n",
    "        self.v = layers.Dense(1)\n",
    "        \n",
    "    def call(self,enc_output,dec_state):\n",
    "        # EXPANDING THE DIMENSION OF DECODER STATE  EG. FROM (16,32) TO (16,32,1)\n",
    "        dec_state =  tf.expand_dims(dec_state,axis=1)\n",
    "        \n",
    "        # FINDING THE SCORE FOR CONCAT MODEL\n",
    "        score = self.v(tf.nn.tanh(\n",
    "            self.W1(dec_state)+ self.W2(enc_output)\n",
    "        ))\n",
    "        # APPLYING SOFTMAX TO THE AXIS 1\n",
    "        # OUPUT SHAPE = (16,13,1)\n",
    "        att_weights = tf.nn.softmax(score,axis=1)\n",
    "        \n",
    "        # CALCULATING THE CONTEXT VECTOR BY FIRST ELEMENTWISE MULTIPLICATION AND THEN ADDING THE AXIS 1\n",
    "        # (16,13,1)*(16,13,32)=(16,13,32)\n",
    "        context_vec  = att_weights* enc_output\n",
    "        \n",
    "        # (16,13,32) SUM AND REDUCE THE DIMENSION AT AXIS 1 => (16,32)\n",
    "        context_vec = tf.reduce_sum(context_vec,axis=1)\n",
    "        \n",
    "        # RETURNING THE CONTEXT VECTOR AND ATTENTION WEIGHTS\n",
    "        return context_vec,att_weights"
   ]
  },
  {
   "cell_type": "code",
   "execution_count": 38,
   "id": "59c17f9e-f6be-43c2-8c3f-2ddea5e72d39",
   "metadata": {},
   "outputs": [],
   "source": [
    "class Onestepdecoder(tf.keras.Model):\n",
    "    '''THIS MODEL OUTPUTS THE RESULT OF DECODER FOR ONE TIME SETP GIVEN THE INPUT FOR PRECIOVE TIME STEP'''\n",
    "    \n",
    "    def __init__(self, vocab_size,emb_dims, dec_units, input_len,att_units,batch_size):\n",
    "        super().__init__()\n",
    "        # INTITALIZING THE REQUIRED VARIABLES\n",
    "        # EMBEDDING LAYERS\n",
    "        self.emb = layers.Embedding(vocab_size,emb_dims,input_length= input_len, weights=[embedding_matrix_dec ], mask_zero = True, trainable=False)\n",
    "        # ATTENTION LAYER\n",
    "        self.att = Attention(att_units)\n",
    "        \n",
    "        # LSTM LAYER\n",
    "        self.lstm = layers.LSTM(dec_units,return_sequences=True,return_state=True)\n",
    "        # DENSE LAYER\n",
    "        self.dense = layers.Dense(vocab_size,activation=\"softmax\")\n",
    "\n",
    "    def call(self, encoder_output , input , state_h,state_c):\n",
    "        # FORMING THE EMBEDDED VECTOR FOR THE WORD\n",
    "        # (32,1)=>(32,1,12)\n",
    "        emb = self.emb(input)\n",
    "\n",
    "        dec_output,dec_state_h,dec_state_c = self.lstm( emb , initial_state = [state_h,state_c] )\n",
    "\n",
    "        # GETTING THE CONTEXT VECTOR AND ATTENTION WEIGHTS BASED ON THE ENCODER OUTPUT AND  DECODER STATE_H\n",
    "        context_vec,alphas = self.att(encoder_output,dec_state_h)\n",
    "        \n",
    "        # CONCATINATING THE CONTEXT VECTOR(BY EXPANDING DIMENSION) AND ENBEDDED VECTOR\n",
    "        dense_input =  tf.concat([tf.expand_dims(context_vec,1),dec_output],axis=-1)\n",
    "        \n",
    "        # PASSING THE DECODER OUTPUT THROUGH DENSE LAYER WITH UNITS EQUAL TO VOCAB SIZE\n",
    "        fc = self.dense(dense_input)\n",
    "        \n",
    "        # RETURNING THE OUTPUT\n",
    "        return fc , dec_state_h , dec_state_c , alphas\n"
   ]
  },
  {
   "cell_type": "code",
   "execution_count": 39,
   "id": "8b0cf007-a3d9-4df7-9023-cf80fe727839",
   "metadata": {},
   "outputs": [],
   "source": [
    "class Decoder(tf.keras.Model):\n",
    "    '''THIS MODEL PERFORMS THE WHOLE DECODER OPERATION FOR THE COMPLETE SENTENCE'''\n",
    "    def __init__(self, vocab_size,emb_dims, dec_units, input_len,att_units,batch_size):\n",
    "        super().__init__()\n",
    "        # INITIALIZING THE VARIABLES\n",
    "        # LENGTH OF INPUT SENTENCE\n",
    "        self.input_len = input_len\n",
    "        # ONE STEP DECODER\n",
    "        self.onestepdecoder = Onestepdecoder(vocab_size,emb_dims, dec_units, input_len,att_units,batch_size)\n",
    "\n",
    "    def call(self,dec_input,enc_output,state_h,state_c):\n",
    "        # THIS VATIABLE STORES THE VALUE OF STATE_H FOR THE PREVIOUS STATE\n",
    "        current_state_h = state_h \n",
    "        current_state_c = state_c\n",
    "        # THIS STORES THE DECODER OUTPUT FOR EACH TIME STEP\n",
    "        pred = []\n",
    "        # THIS STORED THE ALPHA VALUES\n",
    "        alpha_values = []\n",
    "        # FOR EACH WORD IN THE INPUT SENTENCE\n",
    "        for i in range(self.input_len):\n",
    "            \n",
    "            # CURRENT WORD TO INPUT TO ONE STEP DECODER\n",
    "            current_vec = dec_input[:,i]\n",
    "\n",
    "            # EXPANDING THE DIMENSION FOR THE WORD\n",
    "            current_vec = tf.expand_dims(current_vec,axis=-1)\n",
    "\n",
    "            # PERFORMING THE ONE STEP DECODER OPERATION \n",
    "            dec_output,dec_state_h,dec_state_c,alphas = self.onestepdecoder(enc_output ,current_vec,current_state_h,current_state_c)\n",
    "\n",
    "            #UPDATING THE CURRENT STATE_H\n",
    "            current_state_h = dec_state_h\n",
    "            current_state_c = dec_state_c\n",
    "\n",
    "            #APPENDING THE DECODER OUTPUT TO \"pred\" LIST\n",
    "            pred.append(dec_output)\n",
    "\n",
    "            # APPENDING THE ALPHA VALUES\n",
    "            alpha_values.append(alphas)\n",
    "            \n",
    "        # CONCATINATING ALL THE VALUES IN THE LIST\n",
    "        output = tf.concat(pred,axis=1)\n",
    "        # CONCATINATING ALL THE ALPHA VALUES IN THE LIST\n",
    "        alpha_values = tf.concat(alpha_values,axis = -1)\n",
    "        # RETURNING THE OUTPUT\n",
    "        return output , alpha_values"
   ]
  },
  {
   "cell_type": "code",
   "execution_count": 40,
   "id": "b628e2f2-9606-48ad-81d8-7ad3797a7d67",
   "metadata": {},
   "outputs": [],
   "source": [
    "class encoder_decoder(tf.keras.Model):\n",
    "    '''THIS MODEL COMBINES ALL THE LAYERS AND FORM IN ENCODER DECODER MODEL WITH ATTENTION MECHANISM'''\n",
    "    def __init__(self,enc_vocab_size,enc_emb_dim,enc_units,enc_input_length,\n",
    "             dec_vocab_size,dec_emb_dim,dec_units,dec_input_length ,att_units, batch_size):\n",
    "        # INITAILIZING ALL VARIABLES\n",
    "        super().__init__()\n",
    "        # BATCH SIZE\n",
    "        self.batch_size = batch_size\n",
    "        # INITIALIZING ENCODER LAYER\n",
    "        self.encoder = Encoder(enc_vocab_size, enc_emb_dim,enc_units, enc_input_length,batch_size)\n",
    "        # INITALIZING DECODER LAYER\n",
    "        self.decoder = Decoder(dec_vocab_size ,dec_emb_dim,dec_units,dec_input_length  ,att_units, batch_size)\n",
    "\n",
    "    def call(self,data):\n",
    "        # THE INPUT OF DATALOADER IS IN A LIST FORM FOR EACH BATCH IT GIVER TWO INPUTS\n",
    "        # INPUT1 IS FOR ENCODER\n",
    "        # INPUT2 IS FOR DECODER\n",
    "        inp1 , inp2 = data\n",
    "        # PASSING THE INPUT1 TO ENCODER LAYER\n",
    "        enc_output, enc_state_h, enc_state_c = self.encoder(inp1,self.encoder.initialize(self.batch_size))\n",
    "        # PASSING INPUT2 TO THE DECODER LAYER\n",
    "        dec_output , alphas = self.decoder(inp2 , enc_output,enc_state_h,enc_state_c)\n",
    "        # THE OUTPUT OF MODEL IS ONLY DECODER OUTPUT THE ALPHA VALUES ARE IGNORED HERE\n",
    "        return dec_output"
   ]
  },
  {
   "cell_type": "code",
   "execution_count": 48,
   "id": "d572c0fc-6b6a-4667-bdd0-f8b7440ecf45",
   "metadata": {},
   "outputs": [],
   "source": [
    "# INITAILZING THE MODEL\n",
    "model = encoder_decoder(enc_vocab_size=vocab_ip_length,\n",
    "                         enc_emb_dim = 300,\n",
    "                         enc_units=32,\n",
    "                         enc_input_length=35,\n",
    "                         dec_vocab_size =vocab_dec_length,\n",
    "                         dec_emb_dim =300,\n",
    "                         dec_units=32,\n",
    "                         dec_input_length = 35,\n",
    "                         att_units=32,\n",
    "                         batch_size=32)"
   ]
  },
  {
   "cell_type": "code",
   "execution_count": 49,
   "id": "6b393275-72d1-4b6f-ae17-dccf44ec7efe",
   "metadata": {},
   "outputs": [],
   "source": [
    "callback =[ tf.keras.callbacks.ModelCheckpoint( \"models/glove_attn_best_full.h5\",save_best_only=True,mode=\"min\" ,save_weights_only=True),\n",
    "           tf.keras.callbacks.EarlyStopping(monitor='val_loss',patience=5,verbose=1,min_delta=0.0001),\n",
    "            tf.keras.callbacks.TensorBoard(\"models/glove_attn_save_full\",histogram_freq=1)\n",
    "]\n",
    "\n",
    "train_steps = train_dataloader.__len__()\n",
    "val_steps  = val_dataloader.__len__()\n",
    "\n",
    "model.compile(optimizer=\"adam\",loss='sparse_categorical_crossentropy', metrics=['accuracy'])"
   ]
  },
  {
   "cell_type": "code",
   "execution_count": 50,
   "id": "cff4dcd7-aacd-4628-9a02-6f1b53999ffa",
   "metadata": {},
   "outputs": [
    {
     "data": {
      "text/plain": [
       "3500"
      ]
     },
     "execution_count": 50,
     "metadata": {},
     "output_type": "execute_result"
    }
   ],
   "source": [
    "train_steps"
   ]
  },
  {
   "cell_type": "code",
   "execution_count": 51,
   "id": "791e193d-cf6c-4d51-a3c6-0c73f558c4eb",
   "metadata": {},
   "outputs": [],
   "source": [
    "#Epoch 36/50\n",
    "#3500/3500 [==============================] - 946s 270ms/step - loss: 0.0618 - accuracy: 0.9886 - val_loss: 0.3910 - val_accuracy: 0.9615\n"
   ]
  },
  {
   "cell_type": "code",
   "execution_count": 52,
   "id": "4543d85c-d306-4b6d-be98-5458f309e521",
   "metadata": {},
   "outputs": [],
   "source": [
    "#model.fit(train_dataloader, steps_per_epoch=train_steps,epochs= 50,validation_data = val_dataloader,validation_steps =val_steps,callbacks=callback)"
   ]
  },
  {
   "cell_type": "code",
   "execution_count": 53,
   "id": "c13ca8f4-9f26-4b7e-b79d-b9741733b473",
   "metadata": {},
   "outputs": [
    {
     "name": "stdout",
     "output_type": "stream",
     "text": [
      "Model: \"encoder_decoder_1\"\n",
      "_________________________________________________________________\n",
      " Layer (type)                Output Shape              Param #   \n",
      "=================================================================\n",
      " encoder_1 (Encoder)         multiple                  22191324  \n",
      "                                                                 \n",
      " decoder (Decoder)           multiple                  26679184  \n",
      "                                                                 \n",
      "=================================================================\n",
      "Total params: 48,870,508\n",
      "Trainable params: 4,830,508\n",
      "Non-trainable params: 44,040,000\n",
      "_________________________________________________________________\n"
     ]
    }
   ],
   "source": [
    "#(batch_size,maxlen)\n",
    "model.build([(32,35),(32,35)])\n",
    "model.summary()"
   ]
  },
  {
   "cell_type": "code",
   "execution_count": 54,
   "id": "2ad78e83-ddda-4215-bb0c-6de17437fee3",
   "metadata": {},
   "outputs": [],
   "source": [
    "model.built = True\n",
    "model.load_weights(\"models/glove_attn_best_full.h5\")"
   ]
  },
  {
   "cell_type": "code",
   "execution_count": null,
   "id": "2bbff9c7-81d9-4f7f-8f48-830b27cf5aa5",
   "metadata": {},
   "outputs": [],
   "source": []
  },
  {
   "cell_type": "code",
   "execution_count": null,
   "id": "6998840f-50aa-4b33-9fa1-75cb651dd27f",
   "metadata": {},
   "outputs": [],
   "source": []
  },
  {
   "cell_type": "code",
   "execution_count": null,
   "id": "6c1a8fd6-fd3c-48b2-b2da-e92517c1e0f1",
   "metadata": {},
   "outputs": [],
   "source": []
  },
  {
   "cell_type": "code",
   "execution_count": 55,
   "id": "40d89fef-304f-47fc-a5a2-14684f6b862a",
   "metadata": {},
   "outputs": [
    {
     "name": "stdout",
     "output_type": "stream",
     "text": [
      "72971\n"
     ]
    }
   ],
   "source": [
    "\"\"\"# Greedy Search Inferencing\"\"\"\n",
    "vocab_dec_inv = {v: k for k, v in vocab_dec.items()}\n",
    "print(len(vocab_dec_inv))"
   ]
  },
  {
   "cell_type": "code",
   "execution_count": 56,
   "id": "5a320004-48a4-43b8-be48-a0ecb37d28af",
   "metadata": {},
   "outputs": [],
   "source": [
    "def predict(ita_text,model):\n",
    "    '''THIS FUNCTION IS USED IN INFERENCE TIME WHICH GIVEN ANY SENTENCE IN ITALIAN OUTPUTS THE ENGLISH SENTENCE AND ALPHA VALUES'''\n",
    "    # FORMING TOKENIZED SEQUENCES FOR INPUT SENTENCE\n",
    "    seq = texts_to_sequences1([ita_text])\n",
    "    # PADDING THE SEQUENCES\n",
    "    seq = pad_sequences(seq,maxlen = 35 , padding=\"post\")\n",
    "    # INITIALIZING THE STATES FOR INPUTING TO ENCODER\n",
    "    state = model.layers[0].initialize(1)\n",
    "    # GETTING THE ENCODED OUTPUT\n",
    "    enc_output,state_h,state_c= model.layers[0](seq,state)\n",
    "    # VARIABLE TO STORE PREDICTED SENTENCE\n",
    "    pred = []\n",
    "    # THIS VARIABLE STORES THE STATE TO BE INPUTED TO ONE STEP ENCODER\n",
    "    input_state_h = state_h\n",
    "    input_state_c = state_c\n",
    "    # THIS VARIABLE STORES THE VECTOR TO VE INPUTED TO ONE STEP ENCODER\n",
    "    current_vec = tf.ones((1,1))\n",
    "    # THIS VARIABLE WILL STORE ALL THE ALPHA VALUES OUTPUTS\n",
    "    alpha_values = []\n",
    "\n",
    "    for i in range(35):\n",
    "        # PASSING THE REQUIRED VARIABLE TO ONE STEP ENCODER LAYER\n",
    "        fc , dec_state_h ,dec_state_c, alphas = model.layers[1].layers[0](enc_output , current_vec ,input_state_h ,input_state_c)\n",
    "        #APPENDING THE ALPHA VALUES TO THE LIST \"alpha_values\"\n",
    "        alpha_values.append(alphas)\n",
    "         # UPDATING THE CURRENT VECTOR \n",
    "        current_vec = np.argmax(fc , axis = -1)\n",
    "         # UPDATING THE INPUT STATE\n",
    "        input_state_h = dec_state_h\n",
    "        input_state_c = dec_state_c\n",
    "\n",
    "        # GETTING THE ACTUAL WORDS FRO THE TOKENIZED INDEXES\n",
    "        #print([current_vec[0][0]])\n",
    "        #print(vocab_dec[current_vec[0][0]])\n",
    "        #print(vocab_dec.index(current_vec[0][0]))\n",
    "        pred.append(vocab_dec_inv[current_vec[0][0]])\n",
    "        # IF THE WORD \"<end>\" COMES THE LOOP WILL BREAK\n",
    "        if vocab_dec_inv[current_vec[0][0]]==\"<end>\":\n",
    "              break\n",
    "\n",
    "    # JOINING THE PREDICTED WORDS\n",
    "    pred_sent = \" \".join(pred)\n",
    "    # CONCATINATING ALL THE ALPHA VALUES\n",
    "    alpha_values = tf.squeeze(tf.concat(alpha_values,axis=-1),axis=0)\n",
    "    # RETURNING THE PREDICTED SENTENCE AND ALPHA VALUES\n",
    "    return  pred_sent , alpha_values\n"
   ]
  },
  {
   "cell_type": "code",
   "execution_count": 57,
   "id": "2f6cc774-ef8f-4ec9-bf9b-af65333ae596",
   "metadata": {},
   "outputs": [
    {
     "name": "stdout",
     "output_type": "stream",
     "text": [
      "Incorrect Sentence:  हमारे पास काम कर के लिए राजा के दर्जी थे ।\n",
      "Actual Correct Sentence:  हमारे पास काम करने के लिए राजा के दर्जी थे ।  <end>\n"
     ]
    },
    {
     "name": "stderr",
     "output_type": "stream",
     "text": [
      "2023-01-21 11:05:16.924255: W tensorflow/stream_executor/cuda/cuda_dnn.cc:339] There was an error before creating cudnn handle: cudaErrorMemoryAllocation : out of memory\n",
      "2023-01-21 11:05:17.306472: I tensorflow/stream_executor/cuda/cuda_dnn.cc:366] Loaded cuDNN version 8101\n"
     ]
    },
    {
     "name": "stdout",
     "output_type": "stream",
     "text": [
      "Predicted Correct Sentence:  हमारे पास काम करने के लिए राजा के दर्जी था । <end>\n"
     ]
    }
   ],
   "source": [
    "#Testing on Train Data\n",
    "print(\"Incorrect Sentence: \", df_train['enc_input'].apply(str).values[10])\n",
    "print(\"Actual Correct Sentence: \", df_train['dec_output'].apply(str).values[10])\n",
    "print(\"Predicted Correct Sentence: \", predict(df_train['enc_input'].apply(str).values[10],model)[0])\n"
   ]
  },
  {
   "cell_type": "code",
   "execution_count": 58,
   "id": "c47cd356-6004-47a6-9506-0d044b63293a",
   "metadata": {},
   "outputs": [
    {
     "name": "stdout",
     "output_type": "stream",
     "text": [
      "Incorrect Sentence:  यही तो कला के दिन है ।\n",
      "Actual Correct Sentence:  यही तो कला के दिन हैं ।  <end>\n",
      "Predicted Correct Sentence:  यही तो कला के दिन है । <end>\n"
     ]
    }
   ],
   "source": [
    "print(\"Incorrect Sentence: \", df_train['enc_input'].apply(str).values[1])\n",
    "print(\"Actual Correct Sentence: \", df_train['dec_output'].apply(str).values[1])\n",
    "print(\"Predicted Correct Sentence: \", predict(df_train['enc_input'].apply(str).values[1],model)[0])\n"
   ]
  },
  {
   "cell_type": "code",
   "execution_count": 59,
   "id": "b005168c-8868-4939-9bd9-66e58a40241a",
   "metadata": {},
   "outputs": [
    {
     "name": "stdout",
     "output_type": "stream",
     "text": [
      "इन किसानों का साफ़ कहना है की इस भुंड का इन फसलों में इतना भी नुकशान नही होता जितना की हम इसके नियंत्रण के लिए कीटनाशकों पर खर्च देते है ।\n",
      "<start> इन किसानों का साफ़ कहना है की इस भुंड का इन फसलों में इतना भी नुकशान नही होता जितना की हम इसके नियंत्रण के लिए कीटनाशकों पर खर्च देते हैं । \n",
      "इन किसानों का साफ़ कहना है की इस भुंड का इन फसलों में इतना भी नुकशान नही होता जितना की हम इसके नियंत्रण के लिए कीटनाशकों पर खर्च देते हैं । <end>\n"
     ]
    }
   ],
   "source": [
    "\n",
    "print(df_train['enc_input'].apply(str).values[100])\n",
    "print(df_train['dec_input'].apply(str).values[100])\n",
    "print(predict(df_train['enc_input'].apply(str).values[100],model)[0])"
   ]
  },
  {
   "cell_type": "code",
   "execution_count": 50,
   "id": "5e0e8ff9-b11f-464e-88c5-11cefdd4f24d",
   "metadata": {},
   "outputs": [
    {
     "name": "stdout",
     "output_type": "stream",
     "text": [
      "मै कहा दूध बेचता हूं ।\n",
      "<start> यही तो कला के दिन हैं । \n",
      "मैने कहा दूध बेचता हूं । <end>\n"
     ]
    }
   ],
   "source": [
    "\n",
    "print(df_train['enc_input'].apply(str).values[50])\n",
    "print(df_train['dec_input'].apply(str).values[1])\n",
    "print(predict(df_train['enc_input'].apply(str).values[50],model)[0])"
   ]
  },
  {
   "cell_type": "code",
   "execution_count": 60,
   "id": "b0e19430-ec01-4e3f-a1c7-1798aebdd4f8",
   "metadata": {},
   "outputs": [
    {
     "name": "stderr",
     "output_type": "stream",
     "text": [
      "100it [00:20,  4.82it/s]"
     ]
    },
    {
     "name": "stdout",
     "output_type": "stream",
     "text": [
      "BELU =  0.7959087777716927\n"
     ]
    },
    {
     "name": "stderr",
     "output_type": "stream",
     "text": [
      "\n"
     ]
    }
   ],
   "source": [
    "import nltk.translate.bleu_score as bleu\n",
    "BLEU = []\n",
    "index = []\n",
    "np.random.seed(1)\n",
    "test_data = df_val.loc[np.random.choice(df_val.index,size = 100,replace=False)]\n",
    "for ind,i in tqdm(test_data.iterrows(),position=0):\n",
    "    try:\n",
    "        pred = predict(str(i.enc_input),model)[0].split()\n",
    "        act = [str(i.dec_output).split()]\n",
    "        b = bleu.sentence_bleu(act,pred)\n",
    "        BLEU.append(b)\n",
    "    except:\n",
    "        index.append(ind)\n",
    "        continue\n",
    "print(\"BELU = \", np.mean(BLEU))"
   ]
  },
  {
   "cell_type": "code",
   "execution_count": 52,
   "id": "60e21c40-f431-444b-abbf-e3e3cfddb484",
   "metadata": {},
   "outputs": [
    {
     "name": "stderr",
     "output_type": "stream",
     "text": [
      "1000it [03:52,  4.30it/s]"
     ]
    },
    {
     "name": "stdout",
     "output_type": "stream",
     "text": [
      "BELU =  0.8146864083085562\n"
     ]
    },
    {
     "name": "stderr",
     "output_type": "stream",
     "text": [
      "\n"
     ]
    }
   ],
   "source": [
    "import nltk.translate.bleu_score as bleu\n",
    "BLEU = []\n",
    "index = []\n",
    "np.random.seed(1)\n",
    "test_data = df_val.loc[np.random.choice(df_val.index,size = 1000,replace=False)]\n",
    "for ind,i in tqdm(test_data.iterrows(),position=0):\n",
    "    try:\n",
    "        pred = predict(str(i.enc_input),model)[0].split()\n",
    "        act = [str(i.dec_output).split()]\n",
    "        b = bleu.sentence_bleu(act,pred)\n",
    "        BLEU.append(b)\n",
    "    except:\n",
    "        index.append(ind)\n",
    "        continue\n",
    "print(\"BELU = \", np.mean(BLEU))"
   ]
  },
  {
   "cell_type": "code",
   "execution_count": 53,
   "id": "833afd38-5bd8-4465-a2ae-70178cd43fcc",
   "metadata": {},
   "outputs": [
    {
     "data": {
      "text/html": [
       "<div>\n",
       "<style scoped>\n",
       "    .dataframe tbody tr th:only-of-type {\n",
       "        vertical-align: middle;\n",
       "    }\n",
       "\n",
       "    .dataframe tbody tr th {\n",
       "        vertical-align: top;\n",
       "    }\n",
       "\n",
       "    .dataframe thead th {\n",
       "        text-align: right;\n",
       "    }\n",
       "</style>\n",
       "<table border=\"1\" class=\"dataframe\">\n",
       "  <thead>\n",
       "    <tr style=\"text-align: right;\">\n",
       "      <th></th>\n",
       "      <th>enc_input</th>\n",
       "      <th>dec_input</th>\n",
       "      <th>dec_output</th>\n",
       "    </tr>\n",
       "  </thead>\n",
       "  <tbody>\n",
       "    <tr>\n",
       "      <th>80240</th>\n",
       "      <td>हमें आने वाले हफ्तों में रोवियो मोबाइल द्वारा ...</td>\n",
       "      <td>&lt;start&gt; हमें आने वाले हफ्तों में रोवियो मोबाइल...</td>\n",
       "      <td>हमें आने वाले हफ्तों में रोवियो मोबाइल द्वारा ...</td>\n",
       "    </tr>\n",
       "    <tr>\n",
       "      <th>32433</th>\n",
       "      <td>आज कमेन्ट मोदेरेशन सक्षम हैंं ।</td>\n",
       "      <td>&lt;start&gt; आज कमेन्ट मोदेरेशन सक्षम हैं ।</td>\n",
       "      <td>आज कमेन्ट मोदेरेशन सक्षम हैं ।  &lt;end&gt;</td>\n",
       "    </tr>\n",
       "    <tr>\n",
       "      <th>135530</th>\n",
       "      <td>राजस् थेन स्कूल टीचर्स यूनियन के अध्यक्ष आर पी...</td>\n",
       "      <td>&lt;start&gt; राजस् थान स्कूल टीचर्स यूनियन के अध्यक...</td>\n",
       "      <td>राजस् थान स्कूल टीचर्स यूनियन के अध्यक्ष आर पी...</td>\n",
       "    </tr>\n",
       "    <tr>\n",
       "      <th>3354</th>\n",
       "      <td>सेक्स का कारक ग्रह भी शुक्र ही हैं तथा शुक्र ए...</td>\n",
       "      <td>&lt;start&gt; सेक्स का कारक ग्रह भी शुक्र ही है तथा ...</td>\n",
       "      <td>सेक्स का कारक ग्रह भी शुक्र ही है तथा शुक्र एक...</td>\n",
       "    </tr>\n",
       "    <tr>\n",
       "      <th>125119</th>\n",
       "      <td>वह एक गिलास शर्बत</td>\n",
       "      <td>&lt;start&gt; उसने एक गिलास शर्बत</td>\n",
       "      <td>उसने एक गिलास शर्बत &lt;end&gt;</td>\n",
       "    </tr>\n",
       "    <tr>\n",
       "      <th>...</th>\n",
       "      <td>...</td>\n",
       "      <td>...</td>\n",
       "      <td>...</td>\n",
       "    </tr>\n",
       "    <tr>\n",
       "      <th>123821</th>\n",
       "      <td>बीकॉम ऑनर्स और इको ऑनर्स कोर्स स्टूडेंट की पसं...</td>\n",
       "      <td>&lt;start&gt; बीकॉम ऑनर्स और इको ऑनर्स कोर्स स्टूडें...</td>\n",
       "      <td>बीकॉम ऑनर्स और इको ऑनर्स कोर्स स्टूडेंट की पसं...</td>\n",
       "    </tr>\n",
       "    <tr>\n",
       "      <th>40525</th>\n",
       "      <td>मरने वालों में बस में सवार यात्री थी ।</td>\n",
       "      <td>&lt;start&gt; मरने वालों में बस में सवार यात्री थे ।</td>\n",
       "      <td>मरने वालों में बस में सवार यात्री थे ।  &lt;end&gt;</td>\n",
       "    </tr>\n",
       "    <tr>\n",
       "      <th>72286</th>\n",
       "      <td>यान्त्रिक रूप से क्षमा मांगना सम्पर्क बढ़ा का ...</td>\n",
       "      <td>&lt;start&gt; यान्त्रिक रूप से क्षमा मांगना सम्पर्क ...</td>\n",
       "      <td>यान्त्रिक रूप से क्षमा मांगना सम्पर्क बढ़ाने क...</td>\n",
       "    </tr>\n",
       "    <tr>\n",
       "      <th>90240</th>\n",
       "      <td>मैंनेने इस शहर में खुद का स् वागत बांहें खोलकर...</td>\n",
       "      <td>&lt;start&gt; मैंने इस शहर में खुद का स् वागत बांहें...</td>\n",
       "      <td>मैंने इस शहर में खुद का स् वागत बांहें खोलकर न...</td>\n",
       "    </tr>\n",
       "    <tr>\n",
       "      <th>47760</th>\n",
       "      <td>मैं माउथ फ्रेशनर खाया और उसके घर पहुँचा ।</td>\n",
       "      <td>&lt;start&gt; मैंने माउथ फ्रेशनर खाया और उसके घर पहु...</td>\n",
       "      <td>मैंने माउथ फ्रेशनर खाया और उसके घर पहुँचा ।  &lt;...</td>\n",
       "    </tr>\n",
       "  </tbody>\n",
       "</table>\n",
       "<p>1000 rows × 3 columns</p>\n",
       "</div>"
      ],
      "text/plain": [
       "                                                enc_input  \\\n",
       "80240   हमें आने वाले हफ्तों में रोवियो मोबाइल द्वारा ...   \n",
       "32433                     आज कमेन्ट मोदेरेशन सक्षम हैंं ।   \n",
       "135530  राजस् थेन स्कूल टीचर्स यूनियन के अध्यक्ष आर पी...   \n",
       "3354    सेक्स का कारक ग्रह भी शुक्र ही हैं तथा शुक्र ए...   \n",
       "125119                                  वह एक गिलास शर्बत   \n",
       "...                                                   ...   \n",
       "123821  बीकॉम ऑनर्स और इको ऑनर्स कोर्स स्टूडेंट की पसं...   \n",
       "40525              मरने वालों में बस में सवार यात्री थी ।   \n",
       "72286   यान्त्रिक रूप से क्षमा मांगना सम्पर्क बढ़ा का ...   \n",
       "90240   मैंनेने इस शहर में खुद का स् वागत बांहें खोलकर...   \n",
       "47760           मैं माउथ फ्रेशनर खाया और उसके घर पहुँचा ।   \n",
       "\n",
       "                                                dec_input  \\\n",
       "80240   <start> हमें आने वाले हफ्तों में रोवियो मोबाइल...   \n",
       "32433             <start> आज कमेन्ट मोदेरेशन सक्षम हैं ।    \n",
       "135530  <start> राजस् थान स्कूल टीचर्स यूनियन के अध्यक...   \n",
       "3354    <start> सेक्स का कारक ग्रह भी शुक्र ही है तथा ...   \n",
       "125119                        <start> उसने एक गिलास शर्बत   \n",
       "...                                                   ...   \n",
       "123821  <start> बीकॉम ऑनर्स और इको ऑनर्स कोर्स स्टूडें...   \n",
       "40525     <start> मरने वालों में बस में सवार यात्री थे ।    \n",
       "72286   <start> यान्त्रिक रूप से क्षमा मांगना सम्पर्क ...   \n",
       "90240   <start> मैंने इस शहर में खुद का स् वागत बांहें...   \n",
       "47760   <start> मैंने माउथ फ्रेशनर खाया और उसके घर पहु...   \n",
       "\n",
       "                                               dec_output  \n",
       "80240   हमें आने वाले हफ्तों में रोवियो मोबाइल द्वारा ...  \n",
       "32433               आज कमेन्ट मोदेरेशन सक्षम हैं ।  <end>  \n",
       "135530  राजस् थान स्कूल टीचर्स यूनियन के अध्यक्ष आर पी...  \n",
       "3354    सेक्स का कारक ग्रह भी शुक्र ही है तथा शुक्र एक...  \n",
       "125119                          उसने एक गिलास शर्बत <end>  \n",
       "...                                                   ...  \n",
       "123821  बीकॉम ऑनर्स और इको ऑनर्स कोर्स स्टूडेंट की पसं...  \n",
       "40525       मरने वालों में बस में सवार यात्री थे ।  <end>  \n",
       "72286   यान्त्रिक रूप से क्षमा मांगना सम्पर्क बढ़ाने क...  \n",
       "90240   मैंने इस शहर में खुद का स् वागत बांहें खोलकर न...  \n",
       "47760   मैंने माउथ फ्रेशनर खाया और उसके घर पहुँचा ।  <...  \n",
       "\n",
       "[1000 rows x 3 columns]"
      ]
     },
     "execution_count": 53,
     "metadata": {},
     "output_type": "execute_result"
    }
   ],
   "source": [
    "## HERE I AM SAMPLING 1000 POINTS FROM THE DATAFRAME AS TEST DATA WHICH ARE NOT PRESEENT IN THE TRAIN AND VALIDAION DATA\n",
    "np.random.seed(5) \n",
    "df_test = df.loc[np.random.choice(np.array([x for x in df.index.values]),1000,replace= False,)]\n",
    "df_test"
   ]
  },
  {
   "cell_type": "code",
   "execution_count": 54,
   "id": "01a13b86-b479-4fff-9a43-aa1d93c831fd",
   "metadata": {},
   "outputs": [
    {
     "name": "stdout",
     "output_type": "stream",
     "text": [
      "INPUT SENTENCE ===>  वह जमाना गया जब धन कमाने में काफी समय लगता थे और कड़ी मेहनत करनी पड़ती थी ।\n",
      "PREDICTED SENTENCE ===>  वह जमाना गया जब धन कमाने में काफी समय लगता था और कड़ी मेहनत करनी पड़ती थी । <end>\n",
      "ACTUAL SENTENCE ===>  वह जमाना गया जब धन कमाने में काफी समय लगता था और कड़ी मेहनत करनी पड़ती थी ।  <end>\n"
     ]
    }
   ],
   "source": [
    "print(\"INPUT SENTENCE ===> \",df_test.enc_input.values[19])\n",
    "print(\"PREDICTED SENTENCE ===> \",predict(df_test.enc_input.values[19],model)[0])\n",
    "print(\"ACTUAL SENTENCE ===> \",df_test.dec_output.values[19])"
   ]
  },
  {
   "cell_type": "code",
   "execution_count": 55,
   "id": "ca9d4202-f69f-45e7-b9f0-7d7b64e8a6d6",
   "metadata": {},
   "outputs": [
    {
     "name": "stdout",
     "output_type": "stream",
     "text": [
      "CPU times: user 282 ms, sys: 542 µs, total: 283 ms\n",
      "Wall time: 253 ms\n"
     ]
    },
    {
     "data": {
      "text/plain": [
       "'नारों की आवाज मुखिया को ठीक उसी तरह खीच लाई जैसे बीन की धुन सांप को बाहर खीच लाती है । <end>'"
      ]
     },
     "execution_count": 55,
     "metadata": {},
     "output_type": "execute_result"
    }
   ],
   "source": [
    "%%time\n",
    "predict(df_test.enc_input.values[50],model)[0]"
   ]
  },
  {
   "cell_type": "code",
   "execution_count": 56,
   "id": "eb8d98a9-4e3d-441f-8271-1e15f3ec50ee",
   "metadata": {},
   "outputs": [
    {
     "name": "stderr",
     "output_type": "stream",
     "text": [
      "2000it [07:36,  4.39it/s]"
     ]
    },
    {
     "name": "stdout",
     "output_type": "stream",
     "text": [
      "BELU =  0.8159367288252909\n"
     ]
    },
    {
     "name": "stderr",
     "output_type": "stream",
     "text": [
      "\n"
     ]
    }
   ],
   "source": [
    "import nltk.translate.bleu_score as bleu\n",
    "BLEU = []\n",
    "index = []\n",
    "np.random.seed(1)\n",
    "test_data = df_val.loc[np.random.choice(df_val.index,size = 2000,replace=False)]\n",
    "for ind,i in tqdm(test_data.iterrows(),position=0):\n",
    "    try:\n",
    "        pred = predict(str(i.enc_input),model)[0].split()\n",
    "        act = [str(i.dec_output).split()]\n",
    "        b = bleu.sentence_bleu(act,pred)\n",
    "        BLEU.append(b)\n",
    "    except:\n",
    "        index.append(ind)\n",
    "        continue\n",
    "print(\"BELU = \", np.mean(BLEU))"
   ]
  },
  {
   "cell_type": "code",
   "execution_count": 57,
   "id": "6b4d4e92-9562-4671-9b54-0b19243bc9ba",
   "metadata": {},
   "outputs": [
    {
     "name": "stdout",
     "output_type": "stream",
     "text": [
      "INPUT SENTENCE ===>  वह जमाना गया जब धन कमाने में काफी समय लगता थे और कड़ी मेहनत करनी पड़ती थी ।\n",
      "PREDICTED SENTENCE ===>  वह जमाना गया जब धन कमाने में काफी समय लगता था और कड़ी मेहनत करनी पड़ती थी । <end>\n",
      "ACTUAL SENTENCE ===>  वह जमाना गया जब धन कमाने में काफी समय लगता था और कड़ी मेहनत करनी पड़ती थी ।  <end>\n"
     ]
    }
   ],
   "source": [
    "print(\"INPUT SENTENCE ===> \",df_test.enc_input.values[19])\n",
    "print(\"PREDICTED SENTENCE ===> \",predict(df_test.enc_input.values[19],model)[0])\n",
    "print(\"ACTUAL SENTENCE ===> \",df_test.dec_output.values[19])"
   ]
  },
  {
   "cell_type": "code",
   "execution_count": 58,
   "id": "08c6aadd-71b1-40ab-8634-ecefc8c28b4e",
   "metadata": {},
   "outputs": [
    {
     "name": "stdout",
     "output_type": "stream",
     "text": [
      "INPUT SENTENCE ===>  नारों की आवाज मुखिया को ठीक उसी तरह खीच लाई जैसे बीन की धुन सांप को बाहर खीच लाती हैं ।\n",
      "PREDICTED SENTENCE ===>  नारों की आवाज मुखिया को ठीक उसी तरह खीच लाई जैसे बीन की धुन सांप को बाहर खीच लाती है । <end>\n",
      "ACTUAL SENTENCE ===>  नारों की आवाज मुखिया को ठीक उसी तरह खीच लाई जैसे बीन की धुन सांप को बाहर खीच लाती है ।  <end>\n"
     ]
    }
   ],
   "source": [
    "print(\"INPUT SENTENCE ===> \",df_test.enc_input.values[50])\n",
    "print(\"PREDICTED SENTENCE ===> \",predict(df_test.enc_input.values[50],model)[0])\n",
    "print(\"ACTUAL SENTENCE ===> \",df_test.dec_output.values[50])"
   ]
  },
  {
   "cell_type": "code",
   "execution_count": 59,
   "id": "91cd3980-fc85-48f1-add9-c1d352314ee9",
   "metadata": {},
   "outputs": [
    {
     "name": "stdout",
     "output_type": "stream",
     "text": [
      "INPUT SENTENCE ===>  वह एक गिलास शर्बत\n",
      "PREDICTED SENTENCE ===>  ('वह एक गिलास शर्बत <end>', <tf.Tensor: shape=(35, 5), dtype=float32, numpy=\n",
      "array([[1.0000000e+00, 3.6630947e-08, 5.7227121e-09, 1.4769330e-10,\n",
      "        9.3618815e-05],\n",
      "       [1.0443660e-10, 9.9998021e-01, 1.9492575e-06, 1.8300417e-13,\n",
      "        1.2366443e-06],\n",
      "       [6.4328203e-13, 1.9755442e-05, 9.9999774e-01, 1.1775008e-09,\n",
      "        1.5472627e-04],\n",
      "       [8.1972562e-12, 7.4789652e-10, 3.4041929e-07, 1.0000000e+00,\n",
      "        9.9975044e-01],\n",
      "       [1.2740434e-14, 3.2247504e-23, 6.1063893e-22, 2.0257875e-24,\n",
      "        3.7114873e-14],\n",
      "       [1.2740434e-14, 3.2247504e-23, 6.1063893e-22, 2.0257875e-24,\n",
      "        3.7114873e-14],\n",
      "       [1.2740434e-14, 3.2247504e-23, 6.1063893e-22, 2.0257875e-24,\n",
      "        3.7114873e-14],\n",
      "       [1.2740434e-14, 3.2247504e-23, 6.1063893e-22, 2.0257875e-24,\n",
      "        3.7114873e-14],\n",
      "       [1.2740434e-14, 3.2247504e-23, 6.1063893e-22, 2.0257875e-24,\n",
      "        3.7114873e-14],\n",
      "       [1.2740434e-14, 3.2247504e-23, 6.1063893e-22, 2.0257875e-24,\n",
      "        3.7114873e-14],\n",
      "       [1.2740434e-14, 3.2247504e-23, 6.1063893e-22, 2.0257875e-24,\n",
      "        3.7114873e-14],\n",
      "       [1.2740434e-14, 3.2247504e-23, 6.1063893e-22, 2.0257875e-24,\n",
      "        3.7114873e-14],\n",
      "       [1.2740434e-14, 3.2247504e-23, 6.1063893e-22, 2.0257875e-24,\n",
      "        3.7114873e-14],\n",
      "       [1.2740434e-14, 3.2247504e-23, 6.1063893e-22, 2.0257875e-24,\n",
      "        3.7114873e-14],\n",
      "       [1.2740434e-14, 3.2247504e-23, 6.1063893e-22, 2.0257875e-24,\n",
      "        3.7114873e-14],\n",
      "       [1.2740434e-14, 3.2247504e-23, 6.1063893e-22, 2.0257875e-24,\n",
      "        3.7114873e-14],\n",
      "       [1.2740434e-14, 3.2247504e-23, 6.1063893e-22, 2.0257875e-24,\n",
      "        3.7114873e-14],\n",
      "       [1.2740434e-14, 3.2247504e-23, 6.1063893e-22, 2.0257875e-24,\n",
      "        3.7114873e-14],\n",
      "       [1.2740434e-14, 3.2247504e-23, 6.1063893e-22, 2.0257875e-24,\n",
      "        3.7114873e-14],\n",
      "       [1.2740434e-14, 3.2247504e-23, 6.1063893e-22, 2.0257875e-24,\n",
      "        3.7114873e-14],\n",
      "       [1.2740434e-14, 3.2247504e-23, 6.1063893e-22, 2.0257875e-24,\n",
      "        3.7114873e-14],\n",
      "       [1.2740434e-14, 3.2247504e-23, 6.1063893e-22, 2.0257875e-24,\n",
      "        3.7114873e-14],\n",
      "       [1.2740434e-14, 3.2247504e-23, 6.1063893e-22, 2.0257875e-24,\n",
      "        3.7114873e-14],\n",
      "       [1.2740434e-14, 3.2247504e-23, 6.1063893e-22, 2.0257875e-24,\n",
      "        3.7114873e-14],\n",
      "       [1.2740434e-14, 3.2247504e-23, 6.1063893e-22, 2.0257875e-24,\n",
      "        3.7114873e-14],\n",
      "       [1.2740434e-14, 3.2247504e-23, 6.1063893e-22, 2.0257875e-24,\n",
      "        3.7114873e-14],\n",
      "       [1.2740434e-14, 3.2247504e-23, 6.1063893e-22, 2.0257875e-24,\n",
      "        3.7114873e-14],\n",
      "       [1.2740434e-14, 3.2247504e-23, 6.1063893e-22, 2.0257875e-24,\n",
      "        3.7114873e-14],\n",
      "       [1.2740434e-14, 3.2247504e-23, 6.1063893e-22, 2.0257875e-24,\n",
      "        3.7114873e-14],\n",
      "       [1.2740434e-14, 3.2247504e-23, 6.1063893e-22, 2.0257875e-24,\n",
      "        3.7114873e-14],\n",
      "       [1.2740434e-14, 3.2247504e-23, 6.1063893e-22, 2.0257875e-24,\n",
      "        3.7114873e-14],\n",
      "       [1.2740434e-14, 3.2247504e-23, 6.1063893e-22, 2.0257875e-24,\n",
      "        3.7114873e-14],\n",
      "       [1.2740434e-14, 3.2247504e-23, 6.1063893e-22, 2.0257875e-24,\n",
      "        3.7114873e-14],\n",
      "       [1.2740434e-14, 3.2247504e-23, 6.1063893e-22, 2.0257875e-24,\n",
      "        3.7114873e-14],\n",
      "       [1.2740434e-14, 3.2247504e-23, 6.1063893e-22, 2.0257875e-24,\n",
      "        3.7114873e-14]], dtype=float32)>)\n",
      "ACTUAL SENTENCE ===>  उसने एक गिलास शर्बत <end>\n"
     ]
    }
   ],
   "source": [
    "print(\"INPUT SENTENCE ===> \",df_test.enc_input.values[4])\n",
    "print(\"PREDICTED SENTENCE ===> \",predict(df_test.enc_input.values[4],model))\n",
    "print(\"ACTUAL SENTENCE ===> \",df_test.dec_output.values[4])"
   ]
  },
  {
   "cell_type": "code",
   "execution_count": 60,
   "id": "a59fc3cc-49cb-4841-b7b3-5691ab8e4df2",
   "metadata": {},
   "outputs": [
    {
     "data": {
      "text/plain": [
       "'उसी'"
      ]
     },
     "execution_count": 60,
     "metadata": {},
     "output_type": "execute_result"
    }
   ],
   "source": [
    "#k_beams\n",
    "#vocab_dec['<end>']\n",
    "vocab_dec_inv[32]"
   ]
  },
  {
   "cell_type": "code",
   "execution_count": 61,
   "id": "1bc66691-7d15-4f46-b294-f20cf31d9388",
   "metadata": {},
   "outputs": [],
   "source": [
    "def beam_search(input,model,k):\n",
    "    #seq = tk_inp.texts_to_sequences([input])\n",
    "    seq = texts_to_sequences1([input])\n",
    "    seq = pad_sequences(seq,maxlen = 35,padding=\"post\")\n",
    "\n",
    "    state = model.layers[0].initialize(1)\n",
    "    # GETTING THE ENCODED OUTPUT\n",
    "    enc_output,enc_state_h,enc_state_c = model.layers[0](seq,state)\n",
    "    \n",
    "\n",
    "    input_state_h = enc_state_h\n",
    "    input_state_c = enc_state_c \n",
    "    k_beams = [[tf.ones((1,1),dtype=tf.int32),0.0]]\n",
    "    for i in range(35):\n",
    "        candidates = []\n",
    "        for sent_pred , prob in k_beams :\n",
    "            #if tk_out.word_index[\"<end>\"] in sent_pred.numpy() :\n",
    "            if vocab_dec[\"<end>\"] in sent_pred.numpy() :\n",
    "                candidates += [[sent_pred , prob]]\n",
    "            else:\n",
    "               \n",
    "                dec_input = model.layers[1].layers[0].layers[0](sent_pred)\n",
    "                dec_output , dec_state_h , dec_state_c   =  model.layers[1].layers[0].layers[2](dec_input ,  initial_state =  [input_state_h , input_state_c])\n",
    "\n",
    "                context_vec , alphas =  model.layers[1].layers[0].layers[1](enc_output,dec_state_h)\n",
    "\n",
    "                # CONCATINATING THE CONTEXT VECTOR(BY EXPANDING DIMENSION) AND ENBEDDED VECTOR\n",
    "                dense_input =  tf.concat([tf.expand_dims(context_vec,1),tf.expand_dims(dec_state_h,1)],axis=-1)\n",
    "                \n",
    "                # PASSING THE DECODER OUTPUT THROUGH DENSE LAYER WITH UNITS EQUAL TO VOCAB SIZE\n",
    "                dense = model.layers[1].layers[0].layers[3](dense_input)\n",
    "\n",
    "                pred = tf.argsort(dense, direction= 'DESCENDING')[:,:,:k]\n",
    "                for w in range(k):\n",
    "                  candidates += [[tf.concat((sent_pred, pred[:,:,w]) , axis=-1) , (prob + tf.math.log(dense[:,:,pred[:,:,w][0][0]])[0][0])]  ]\n",
    "        #print(\"Here2\")\n",
    "        k_beams = sorted(candidates,key=lambda tup:tup[1],reverse=True)[:k]\n",
    "        #print(\"kbeams\",k_beams)\n",
    "\n",
    "    all_sent = []\n",
    "    for i,score in k_beams:\n",
    "        #print(\"i\",i)\n",
    "        #print(\"score\",score)\n",
    "        sent = \"\"\n",
    "        for j in range(1,35):\n",
    "            #print(\"index\",i.numpy()[:,j][0])\n",
    "            sent +=vocab_dec_inv[i.numpy()[:,j][0]] +  \" \" \n",
    "            #sent +=  tk_out.index_word[i.numpy()[:,j][0]] +  \" \" \n",
    "            #if tk_out.index_word[i.numpy()[:,j][0]] ==\"<end>\":\n",
    "            if vocab_dec_inv[i.numpy()[:,j][0]] ==\"<end>\":\n",
    "                break\n",
    "        #print(\"done\")\n",
    "        all_sent.append((sent.strip(),score.numpy()))\n",
    "    return all_sent"
   ]
  },
  {
   "cell_type": "code",
   "execution_count": 68,
   "id": "e873b29c-c011-49c7-bfa2-20b3230c874a",
   "metadata": {},
   "outputs": [
    {
     "name": "stderr",
     "output_type": "stream",
     "text": [
      "2000it [36:07,  1.08s/it]"
     ]
    },
    {
     "name": "stdout",
     "output_type": "stream",
     "text": [
      "BELU Score =  0.82905157148025\n"
     ]
    },
    {
     "name": "stderr",
     "output_type": "stream",
     "text": [
      "\n"
     ]
    }
   ],
   "source": [
    "# VALIDATION BELU SCORE\n",
    "BLEU_beam = []\n",
    "index = []\n",
    "np.random.seed(1)\n",
    "test_data = df_val.loc[np.random.choice(df_val.index,size = 2000,replace=False)]\n",
    "for ind,i in tqdm(test_data.iterrows(),position=0):\n",
    "    try:\n",
    "        pred = beam_search(str(i.enc_input),model,3)[0][0].split()\n",
    "        act = [str(i.dec_output).split()]\n",
    "        b =bleu.sentence_bleu(act,pred)\n",
    "        BLEU_beam.append(b)\n",
    "    except:\n",
    "        #print(\"Here\")\n",
    "        index.append(ind)\n",
    "        continue\n",
    "\n",
    "print(\"BELU Score = \",np.mean(BLEU_beam)) "
   ]
  },
  {
   "cell_type": "code",
   "execution_count": null,
   "id": "c03808a2-4af7-4190-a06c-4f0f00b0c487",
   "metadata": {},
   "outputs": [],
   "source": []
  },
  {
   "cell_type": "code",
   "execution_count": null,
   "id": "657e7a89-8dc6-4362-a5a8-023ea84198de",
   "metadata": {},
   "outputs": [],
   "source": []
  },
  {
   "cell_type": "code",
   "execution_count": null,
   "id": "37dcf9bb-e315-43b9-ae99-6073b0933d32",
   "metadata": {},
   "outputs": [],
   "source": []
  },
  {
   "cell_type": "code",
   "execution_count": null,
   "id": "e0b66d37-59a0-442f-9328-fb9ddbd68299",
   "metadata": {},
   "outputs": [],
   "source": []
  },
  {
   "cell_type": "code",
   "execution_count": null,
   "id": "3837517e-7d31-4b84-807c-5ee1efddd8ac",
   "metadata": {},
   "outputs": [],
   "source": [
    "print(\"BELU Score = \",np.mean(BLEU_beam)) "
   ]
  },
  {
   "cell_type": "code",
   "execution_count": 63,
   "id": "8eab29a6-de97-4338-aa65-fa8fc2b09f5f",
   "metadata": {},
   "outputs": [
    {
     "name": "stdout",
     "output_type": "stream",
     "text": [
      "INPUT SENTENCE ===>  वह जमाना गया जब धन कमाने में काफी समय लगता थे और कड़ी मेहनत करनी पड़ती थी ।\n",
      "==================================================\n",
      "ACTUAL OUTPUT ===>  वह जमाना गया जब धन कमाने में काफी समय लगता था और कड़ी मेहनत करनी पड़ती थी ।  <end>\n",
      "==================================================\n",
      "BEAM SEARCH OUTPUT ,  SCORE\n",
      "('वह जमाना गया जब धन कमाने में काफी समय लगता था और कड़ी मेहनत करनी पड़ती थी । <end>', -0.2827615)\n",
      "('उसने जमाना गया जब धन कमाने में काफी समय लगता था और कड़ी मेहनत करनी पड़ती थी । <end>', -1.6583035)\n",
      "('वह जमाना गया जब धन कमाने में काफी समय लगता थी और कड़ी मेहनत करनी पड़ती थी । <end>', -4.119545)\n"
     ]
    }
   ],
   "source": [
    "print(\"INPUT SENTENCE ===> \",df_test.enc_input.values[19])\n",
    "print(\"=\"*50)\n",
    "print(\"ACTUAL OUTPUT ===> \",df_test.dec_output.values[19])\n",
    "print(\"=\"*50)\n",
    "print(\"BEAM SEARCH OUTPUT ,  SCORE\")\n",
    "bm = (beam_search(df_test.enc_input.values[19],model,3))\n",
    "for i in bm:\n",
    "    print(i)"
   ]
  },
  {
   "cell_type": "code",
   "execution_count": 64,
   "id": "3a72e73a-be57-4faf-b790-d8c71747733a",
   "metadata": {},
   "outputs": [
    {
     "name": "stdout",
     "output_type": "stream",
     "text": [
      "INPUT SENTENCE ===>  नारों की आवाज मुखिया को ठीक उसी तरह खीच लाई जैसे बीन की धुन सांप को बाहर खीच लाती हैं ।\n",
      "==================================================\n",
      "ACTUAL OUTPUT ===>  नारों की आवाज मुखिया को ठीक उसी तरह खीच लाई जैसे बीन की धुन सांप को बाहर खीच लाती है ।  <end>\n",
      "==================================================\n",
      "BEAM SEARCH OUTPUT ,  SCORE\n",
      "('नारों की आवाज मुखिया को ठीक उसी तरह खीच लाई जैसे बीन की धुन सांप को बाहर खीच लाती है । <end>', -0.65841067)\n",
      "('नारों की आवाज मुखिया को ठीक उसी तरह खीच लाई जैसे बीन की धुन सांप को बाहर खीच लाती हैं । <end>', -2.90524)\n",
      "('नारों की आवाज मुखिया को ठीक उसी तरह खीच लाई जैसे बीन की धुन सांप को बाहर नहीं है । <end>', -4.4989953)\n"
     ]
    }
   ],
   "source": [
    "print(\"INPUT SENTENCE ===> \",df_test.enc_input.values[50])\n",
    "print(\"=\"*50)\n",
    "print(\"ACTUAL OUTPUT ===> \",df_test.dec_output.values[50])\n",
    "print(\"=\"*50)\n",
    "print(\"BEAM SEARCH OUTPUT ,  SCORE\")\n",
    "bm = (beam_search(df_test.enc_input.values[50],model,3))\n",
    "for i in bm:\n",
    "    print(i)"
   ]
  },
  {
   "cell_type": "code",
   "execution_count": null,
   "id": "885edbdf-d3b4-4b63-8bd8-98a92ac5b4cd",
   "metadata": {},
   "outputs": [],
   "source": []
  },
  {
   "cell_type": "markdown",
   "id": "02a30bab-d534-4258-8adb-0f3259098b9a",
   "metadata": {},
   "source": [
    "# Perfformance analysis on test data"
   ]
  },
  {
   "cell_type": "code",
   "execution_count": 62,
   "id": "391edd6b-770a-4927-9a3f-512b238cd71f",
   "metadata": {},
   "outputs": [
    {
     "name": "stdout",
     "output_type": "stream",
     "text": [
      "(30000, 3)\n"
     ]
    },
    {
     "data": {
      "text/html": [
       "<div>\n",
       "<style scoped>\n",
       "    .dataframe tbody tr th:only-of-type {\n",
       "        vertical-align: middle;\n",
       "    }\n",
       "\n",
       "    .dataframe tbody tr th {\n",
       "        vertical-align: top;\n",
       "    }\n",
       "\n",
       "    .dataframe thead th {\n",
       "        text-align: right;\n",
       "    }\n",
       "</style>\n",
       "<table border=\"1\" class=\"dataframe\">\n",
       "  <thead>\n",
       "    <tr style=\"text-align: right;\">\n",
       "      <th></th>\n",
       "      <th>enc_input</th>\n",
       "      <th>dec_input</th>\n",
       "      <th>dec_output</th>\n",
       "    </tr>\n",
       "  </thead>\n",
       "  <tbody>\n",
       "    <tr>\n",
       "      <th>0</th>\n",
       "      <td>इसके अलावा माइकल शूमाकर द्वारा चलाई गई एक फरार...</td>\n",
       "      <td>इसके अलावा माइकल शूमाकर द्वारा चलाई गई एक फरार...</td>\n",
       "      <td>इसके अलावा माइकल शूमाकर द्वारा चलाई गई एक फरार...</td>\n",
       "    </tr>\n",
       "    <tr>\n",
       "      <th>1</th>\n",
       "      <td>यह मन को काबू में करने वाली मुद्रा हैं इसीलिए ...</td>\n",
       "      <td>यह मन को काबू में करने वाली मुद्रा है इसीलिए इ...</td>\n",
       "      <td>यह मन को काबू में करने वाली मुद्रा है इसीलिए इ...</td>\n",
       "    </tr>\n",
       "    <tr>\n",
       "      <th>2</th>\n",
       "      <td>आप पुस्तक पढ़ने में तल्लीन हैं और बच्चा उसनेाँ...</td>\n",
       "      <td>आप पुस्तक पढ़ने में तल्लीन हैं और बच्चा वहाँ प...</td>\n",
       "      <td>आप पुस्तक पढ़ने में तल्लीन हैं और बच्चा वहाँ प...</td>\n",
       "    </tr>\n",
       "    <tr>\n",
       "      <th>3</th>\n",
       "      <td>परिवार के मुताबिक धमाकों में हिस्सा लेने वाले ...</td>\n",
       "      <td>परिवार के मुताबिक धमाकों में हिस्सा लेने वाले ...</td>\n",
       "      <td>परिवार के मुताबिक धमाकों में हिस्सा लेने वाले ...</td>\n",
       "    </tr>\n",
       "    <tr>\n",
       "      <th>4</th>\n",
       "      <td>उनकी वो वाली बात भी अनिश्चित रहती हैं ।</td>\n",
       "      <td>उनकी वो वाली बात भी अनिश्चित रहती है ।</td>\n",
       "      <td>उनकी वो वाली बात भी अनिश्चित रहती है ।</td>\n",
       "    </tr>\n",
       "    <tr>\n",
       "      <th>...</th>\n",
       "      <td>...</td>\n",
       "      <td>...</td>\n",
       "      <td>...</td>\n",
       "    </tr>\n",
       "    <tr>\n",
       "      <th>29995</th>\n",
       "      <td>पालिश घर्षक मशीनें करती हैंं ।</td>\n",
       "      <td>पालिश घर्षक मशीनें करती हैं ।</td>\n",
       "      <td>पालिश घर्षक मशीनें करती हैं ।</td>\n",
       "    </tr>\n",
       "    <tr>\n",
       "      <th>29996</th>\n",
       "      <td>पहले पाकिस्तान ने हमले में भारत का हाथ बताया औ...</td>\n",
       "      <td>पहले पाकिस्तान ने हमले में भारत का हाथ बताया औ...</td>\n",
       "      <td>पहले पाकिस्तान ने हमले में भारत का हाथ बताया औ...</td>\n",
       "    </tr>\n",
       "    <tr>\n",
       "      <th>29997</th>\n",
       "      <td>सारे का सारा दर्द उन्हों अप ह्रदय में ही समेट ...</td>\n",
       "      <td>सारे का सारा दर्द उन्होंने अपने ह्रदय में ही स...</td>\n",
       "      <td>सारे का सारा दर्द उन्होंने अपने ह्रदय में ही स...</td>\n",
       "    </tr>\n",
       "    <tr>\n",
       "      <th>29998</th>\n",
       "      <td>विल्सन ने लिखे पत्र में रिपब्लिकन सांसदों से भ...</td>\n",
       "      <td>विल्सन ने लिखे पत्र में रिपब्लिकन सांसदों से भ...</td>\n",
       "      <td>विल्सन ने लिखे पत्र में रिपब्लिकन सांसदों से भ...</td>\n",
       "    </tr>\n",
       "    <tr>\n",
       "      <th>29999</th>\n",
       "      <td>और ये सिलसिला चलता रहता हैं ।</td>\n",
       "      <td>और ये सिलसिला चलता रहता है ।</td>\n",
       "      <td>और ये सिलसिला चलता रहता है ।</td>\n",
       "    </tr>\n",
       "  </tbody>\n",
       "</table>\n",
       "<p>30000 rows × 3 columns</p>\n",
       "</div>"
      ],
      "text/plain": [
       "                                               enc_input  \\\n",
       "0      इसके अलावा माइकल शूमाकर द्वारा चलाई गई एक फरार...   \n",
       "1      यह मन को काबू में करने वाली मुद्रा हैं इसीलिए ...   \n",
       "2      आप पुस्तक पढ़ने में तल्लीन हैं और बच्चा उसनेाँ...   \n",
       "3      परिवार के मुताबिक धमाकों में हिस्सा लेने वाले ...   \n",
       "4                उनकी वो वाली बात भी अनिश्चित रहती हैं ।   \n",
       "...                                                  ...   \n",
       "29995                     पालिश घर्षक मशीनें करती हैंं ।   \n",
       "29996  पहले पाकिस्तान ने हमले में भारत का हाथ बताया औ...   \n",
       "29997  सारे का सारा दर्द उन्हों अप ह्रदय में ही समेट ...   \n",
       "29998  विल्सन ने लिखे पत्र में रिपब्लिकन सांसदों से भ...   \n",
       "29999                      और ये सिलसिला चलता रहता हैं ।   \n",
       "\n",
       "                                               dec_input  \\\n",
       "0      इसके अलावा माइकल शूमाकर द्वारा चलाई गई एक फरार...   \n",
       "1      यह मन को काबू में करने वाली मुद्रा है इसीलिए इ...   \n",
       "2      आप पुस्तक पढ़ने में तल्लीन हैं और बच्चा वहाँ प...   \n",
       "3      परिवार के मुताबिक धमाकों में हिस्सा लेने वाले ...   \n",
       "4                उनकी वो वाली बात भी अनिश्चित रहती है ।    \n",
       "...                                                  ...   \n",
       "29995                     पालिश घर्षक मशीनें करती हैं ।    \n",
       "29996  पहले पाकिस्तान ने हमले में भारत का हाथ बताया औ...   \n",
       "29997  सारे का सारा दर्द उन्होंने अपने ह्रदय में ही स...   \n",
       "29998  विल्सन ने लिखे पत्र में रिपब्लिकन सांसदों से भ...   \n",
       "29999                      और ये सिलसिला चलता रहता है ।    \n",
       "\n",
       "                                              dec_output  \n",
       "0      इसके अलावा माइकल शूमाकर द्वारा चलाई गई एक फरार...  \n",
       "1      यह मन को काबू में करने वाली मुद्रा है इसीलिए इ...  \n",
       "2      आप पुस्तक पढ़ने में तल्लीन हैं और बच्चा वहाँ प...  \n",
       "3      परिवार के मुताबिक धमाकों में हिस्सा लेने वाले ...  \n",
       "4                उनकी वो वाली बात भी अनिश्चित रहती है ।   \n",
       "...                                                  ...  \n",
       "29995                     पालिश घर्षक मशीनें करती हैं ।   \n",
       "29996  पहले पाकिस्तान ने हमले में भारत का हाथ बताया औ...  \n",
       "29997  सारे का सारा दर्द उन्होंने अपने ह्रदय में ही स...  \n",
       "29998  विल्सन ने लिखे पत्र में रिपब्लिकन सांसदों से भ...  \n",
       "29999                      और ये सिलसिला चलता रहता है ।   \n",
       "\n",
       "[30000 rows x 3 columns]"
      ]
     },
     "execution_count": 62,
     "metadata": {},
     "output_type": "execute_result"
    }
   ],
   "source": [
    "# On test dataset\n",
    "df_test1= pd.read_csv(\"DATA/etoori_test.csv\")\n",
    "df_test1.columns = [\"enc_input\",\"dec_input\"] \n",
    "df_test1[\"dec_output\"] = df_test1.dec_input\n",
    "print(df_test1.shape)\n",
    "df_test1"
   ]
  },
  {
   "cell_type": "code",
   "execution_count": 64,
   "id": "54eeb339-8021-4604-b89d-071fbbae579e",
   "metadata": {},
   "outputs": [],
   "source": [
    "df_test1 = df_test1.head(10000)\n",
    "df_test1[\"dec_input\"]= \"<start> \" + df_test1[\"dec_input\"]\n",
    "df_test1[\"dec_output\"] =  df_test1[\"dec_output\"] + \" <end>\" "
   ]
  },
  {
   "cell_type": "markdown",
   "id": "4f10d32d-e94f-4f04-a836-cebd03636eff",
   "metadata": {},
   "source": [
    "# Performance Analysis of pretrained Seq2Seq Attention Model with Word2Vec (10k data points)\n",
    "1. BLEU Score (Greedy Search: 0.77966)\n",
    "2. GLEU Score\n",
    "3. F0.5 Score"
   ]
  },
  {
   "cell_type": "markdown",
   "id": "77c282d3-4c56-4e84-b066-166c663a5ac1",
   "metadata": {},
   "source": [
    "# BLEU Score"
   ]
  },
  {
   "cell_type": "code",
   "execution_count": 67,
   "id": "44c1c252-f173-4a91-85ee-14ae59de440b",
   "metadata": {},
   "outputs": [
    {
     "name": "stdout",
     "output_type": "stream",
     "text": [
      "(10000, 3)\n"
     ]
    },
    {
     "name": "stderr",
     "output_type": "stream",
     "text": [
      "10000it [39:52,  4.18it/s]"
     ]
    },
    {
     "name": "stdout",
     "output_type": "stream",
     "text": [
      "BELU Score =  0.820024537783515\n"
     ]
    },
    {
     "name": "stderr",
     "output_type": "stream",
     "text": [
      "\n"
     ]
    }
   ],
   "source": [
    "import nltk.translate.bleu_score as bleu\n",
    "BLEU_val_emb = []\n",
    "test_data = df_test1\n",
    "print(test_data.shape)\n",
    "for ind,i in tqdm(test_data.iterrows(),position=0):\n",
    "    try:\n",
    "        #pred = predict(str(i.enc_input),model)[0].split()\n",
    "        pred = predict(str(i.enc_input),model)[0].split()\n",
    "        act = [str(i.dec_output).split()]\n",
    "        b =bleu.sentence_bleu(act,pred)\n",
    "        #print(\"BELU Score\",b)\n",
    "        BLEU_val_emb.append(b)\n",
    "    except:\n",
    "        continue\n",
    "print(\"BELU Score = \",np.mean(BLEU_val_emb))"
   ]
  },
  {
   "cell_type": "code",
   "execution_count": null,
   "id": "d20d67de-854b-43af-8553-726c11c2ccf4",
   "metadata": {},
   "outputs": [],
   "source": []
  },
  {
   "cell_type": "code",
   "execution_count": null,
   "id": "4cdbead8-8f47-4325-9f3f-8e198914c2bd",
   "metadata": {},
   "outputs": [],
   "source": [
    "import nltk.translate.bleu_score as bleu\n",
    "BLEU_val_emb = []\n",
    "test_data = df_test1\n",
    "print(test_data.shape)\n",
    "for ind,i in tqdm(test_data.iterrows(),position=0):\n",
    "    try:\n",
    "        pred = beam_search(str(i.enc_input),model,3)[0][0].split()\n",
    "        act = [str(i.dec_output).split()]\n",
    "        b =bleu.sentence_bleu(act,pred)\n",
    "        BLEU_val_emb.append(b)\n",
    "    except:\n",
    "        continue\n",
    "print(\"BELU Score = \",np.mean(BLEU_val_emb))"
   ]
  },
  {
   "cell_type": "code",
   "execution_count": null,
   "id": "160a6655-8669-432d-978f-eec39d14da1d",
   "metadata": {},
   "outputs": [],
   "source": []
  },
  {
   "cell_type": "code",
   "execution_count": null,
   "id": "13cdb951-c25e-416f-828d-3d9a9ea4e343",
   "metadata": {},
   "outputs": [],
   "source": []
  },
  {
   "cell_type": "markdown",
   "id": "ddb6fe35-c3b8-4d20-8d56-c3f292a464a0",
   "metadata": {},
   "source": [
    "# GLEU Score"
   ]
  },
  {
   "cell_type": "code",
   "execution_count": 65,
   "id": "9d9fa211-2778-495e-8af0-b3cba40b10a6",
   "metadata": {},
   "outputs": [],
   "source": [
    "from nltk.translate.gleu_score import sentence_gleu"
   ]
  },
  {
   "cell_type": "code",
   "execution_count": 66,
   "id": "5c982eed-0f6c-4c70-a138-43b50f70bd13",
   "metadata": {},
   "outputs": [
    {
     "name": "stdout",
     "output_type": "stream",
     "text": [
      "(10000, 3)\n"
     ]
    },
    {
     "name": "stderr",
     "output_type": "stream",
     "text": [
      "10000it [41:16,  4.04it/s]"
     ]
    },
    {
     "name": "stdout",
     "output_type": "stream",
     "text": [
      "GELU Score =  0.7821870060223015\n"
     ]
    },
    {
     "name": "stderr",
     "output_type": "stream",
     "text": [
      "\n"
     ]
    }
   ],
   "source": [
    "GLEU_val_emb = []\n",
    "test_data = df_test1.head(10000)\n",
    "print(test_data.shape)\n",
    "for ind,i in tqdm(test_data.iterrows(),position=0):\n",
    "    try:\n",
    "        #pred = predict(str(i.enc_input),model)[0].split()\n",
    "        pred = predict(str(i.enc_input),model)[0].split()\n",
    "        act = [str(i.dec_output).split()]\n",
    "        \n",
    "        b =sentence_gleu(act,pred)\n",
    "        #print(\"BELU Score\",b)\n",
    "        GLEU_val_emb.append(b)\n",
    "    except:\n",
    "        continue\n",
    "print(\"GELU Score = \",np.mean(GLEU_val_emb))"
   ]
  },
  {
   "cell_type": "code",
   "execution_count": null,
   "id": "6a108c05-815a-47c2-abbf-f0302ff81a31",
   "metadata": {},
   "outputs": [],
   "source": []
  },
  {
   "cell_type": "code",
   "execution_count": null,
   "id": "0897219b-0f42-45e5-afd2-aee3e9c6207a",
   "metadata": {},
   "outputs": [],
   "source": []
  }
 ],
 "metadata": {
  "kernelspec": {
   "display_name": "Python 3 (ipykernel)",
   "language": "python",
   "name": "python3"
  },
  "language_info": {
   "codemirror_mode": {
    "name": "ipython",
    "version": 3
   },
   "file_extension": ".py",
   "mimetype": "text/x-python",
   "name": "python",
   "nbconvert_exporter": "python",
   "pygments_lexer": "ipython3",
   "version": "3.7.3"
  }
 },
 "nbformat": 4,
 "nbformat_minor": 5
}
