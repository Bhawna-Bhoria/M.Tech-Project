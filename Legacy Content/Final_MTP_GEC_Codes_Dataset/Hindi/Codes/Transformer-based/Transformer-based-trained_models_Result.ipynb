{
 "cells": [
  {
   "cell_type": "code",
   "execution_count": null,
   "id": "df0381e3-271f-40e4-a7be-92e966495647",
   "metadata": {},
   "outputs": [],
   "source": [
    "# Import libraries\n",
    "# Import trained models\n",
    "# Import Test dataset - Etoori and HiWiked\n",
    "# Inference - Different types of errors"
   ]
  },
  {
   "cell_type": "code",
   "execution_count": 1,
   "id": "9c42cba4-e097-48f9-9ff9-93a92fad71b3",
   "metadata": {},
   "outputs": [
    {
     "name": "stdout",
     "output_type": "stream",
     "text": [
      "Sat May 13 14:59:27 2023       \n",
      "+-----------------------------------------------------------------------------+\n",
      "| NVIDIA-SMI 460.84       Driver Version: 460.84       CUDA Version: 11.2     |\n",
      "|-------------------------------+----------------------+----------------------+\n",
      "| GPU  Name        Persistence-M| Bus-Id        Disp.A | Volatile Uncorr. ECC |\n",
      "| Fan  Temp  Perf  Pwr:Usage/Cap|         Memory-Usage | GPU-Util  Compute M. |\n",
      "|                               |                      |               MIG M. |\n",
      "|===============================+======================+======================|\n",
      "|   0  GeForce GTX 108...  Off  | 00000000:04:00.0 Off |                  N/A |\n",
      "| 20%   23C    P8     8W / 250W |    447MiB / 11178MiB |      0%      Default |\n",
      "|                               |                      |                  N/A |\n",
      "+-------------------------------+----------------------+----------------------+\n",
      "|   1  GeForce GTX 108...  Off  | 00000000:06:00.0 Off |                  N/A |\n",
      "| 20%   48C    P2    57W / 250W |   8796MiB / 11178MiB |      0%      Default |\n",
      "|                               |                      |                  N/A |\n",
      "+-------------------------------+----------------------+----------------------+\n",
      "|   2  GeForce GTX 108...  Off  | 00000000:07:00.0 Off |                  N/A |\n",
      "| 20%   45C    P2    56W / 250W |   2921MiB / 11178MiB |      0%      Default |\n",
      "|                               |                      |                  N/A |\n",
      "+-------------------------------+----------------------+----------------------+\n",
      "|   3  GeForce GTX 108...  Off  | 00000000:08:00.0 Off |                  N/A |\n",
      "| 20%   25C    P8     8W / 250W |      2MiB / 11178MiB |      0%      Default |\n",
      "|                               |                      |                  N/A |\n",
      "+-------------------------------+----------------------+----------------------+\n",
      "|   4  GeForce GTX 108...  Off  | 00000000:0C:00.0 Off |                  N/A |\n",
      "| 20%   29C    P8     7W / 250W |      2MiB / 11178MiB |      0%      Default |\n",
      "|                               |                      |                  N/A |\n",
      "+-------------------------------+----------------------+----------------------+\n",
      "|   5  GeForce GTX 108...  Off  | 00000000:0D:00.0 Off |                  N/A |\n",
      "| 20%   22C    P8     7W / 250W |      2MiB / 11178MiB |      0%      Default |\n",
      "|                               |                      |                  N/A |\n",
      "+-------------------------------+----------------------+----------------------+\n",
      "|   6  GeForce GTX 108...  Off  | 00000000:0E:00.0 Off |                  N/A |\n",
      "| 20%   25C    P8     7W / 250W |      2MiB / 11178MiB |      0%      Default |\n",
      "|                               |                      |                  N/A |\n",
      "+-------------------------------+----------------------+----------------------+\n",
      "|   7  GeForce GTX 108...  Off  | 00000000:0F:00.0 Off |                  N/A |\n",
      "| 20%   24C    P8     8W / 250W |      2MiB / 11178MiB |      0%      Default |\n",
      "|                               |                      |                  N/A |\n",
      "+-------------------------------+----------------------+----------------------+\n",
      "                                                                               \n",
      "+-----------------------------------------------------------------------------+\n",
      "| Processes:                                                                  |\n",
      "|  GPU   GI   CI        PID   Type   Process name                  GPU Memory |\n",
      "|        ID   ID                                                   Usage      |\n",
      "|=============================================================================|\n",
      "|    0   N/A  N/A     38504      C   /opt/conda/bin/python             445MiB |\n",
      "|    2   N/A  N/A     14515      C   python3                          2919MiB |\n",
      "+-----------------------------------------------------------------------------+\n"
     ]
    }
   ],
   "source": [
    "!nvidia-smi"
   ]
  },
  {
   "cell_type": "code",
   "execution_count": 2,
   "id": "8cdc6bc1-6123-4eb4-81c7-16a144753623",
   "metadata": {},
   "outputs": [
    {
     "name": "stdout",
     "output_type": "stream",
     "text": [
      "4\n"
     ]
    },
    {
     "data": {
      "text/plain": [
       "'GeForce GTX 1080 Ti'"
      ]
     },
     "execution_count": 2,
     "metadata": {},
     "output_type": "execute_result"
    }
   ],
   "source": [
    "import os\n",
    "import torch\n",
    "os.environ[\"CUDA_DEVICE_ORDER\"]=\"PCI_BUS_ID\"\n",
    "os.environ[\"CUDA_VISIBLE_DEVICES\"]=\"0,1,2,3\"\n",
    "n_gpu = torch.cuda.device_count()\n",
    "print(n_gpu)\n",
    "device = torch.device(\"cuda\" if torch.cuda.is_available() else \"cpu\")\n",
    "torch.cuda.get_device_name(0)"
   ]
  },
  {
   "cell_type": "code",
   "execution_count": 3,
   "id": "a3bd7402-d526-4a13-b98c-9906c7aaecc7",
   "metadata": {},
   "outputs": [
    {
     "data": {
      "text/plain": [
       "device(type='cuda')"
      ]
     },
     "execution_count": 3,
     "metadata": {},
     "output_type": "execute_result"
    }
   ],
   "source": [
    "import os\n",
    "import torch\n",
    "device = torch.device(\"cuda\" if torch.cuda.is_available() else \"cpu\")\n",
    "device"
   ]
  },
  {
   "cell_type": "code",
   "execution_count": 4,
   "id": "5bb92d83-2f1c-4d7e-8d6a-bb2dc48e3499",
   "metadata": {},
   "outputs": [
    {
     "name": "stderr",
     "output_type": "stream",
     "text": [
      "[nltk_data] Downloading package punkt to /DATA/gupta92/nltk_data...\n",
      "[nltk_data]   Package punkt is already up-to-date!\n"
     ]
    }
   ],
   "source": [
    "#Importing Libraries\n",
    "import warnings \n",
    "warnings.filterwarnings('ignore')\n",
    "import pandas as pd\n",
    "from datasets import load_dataset\n",
    "from tqdm import tqdm\n",
    "#import argparse\n",
    "#import glob\n",
    "#import os\n",
    "#import json\n",
    "import time\n",
    "import logging\n",
    "import random\n",
    "#import re\n",
    "#from itertools import chain\n",
    "#from string import punctuation\n",
    "#Set a seed\n",
    "import random\n",
    "import numpy as np\n",
    "import torch\n",
    "import datasets\n",
    "import nltk\n",
    "nltk.download('punkt')\n",
    "from nltk.tokenize import sent_tokenize\n",
    "from torch.utils.data import Dataset, DataLoader"
   ]
  },
  {
   "cell_type": "code",
   "execution_count": 5,
   "id": "7c71fbcc-5eff-40b9-a015-dce0efce3ac7",
   "metadata": {},
   "outputs": [],
   "source": [
    "def set_seed(seed):\n",
    "    random.seed(seed)\n",
    "    np.random.seed(seed)\n",
    "    torch.manual_seed(seed)\n",
    "\n",
    "set_seed(42)"
   ]
  },
  {
   "cell_type": "code",
   "execution_count": 6,
   "id": "ff1a28c6-cf98-4966-8c80-fe0f5a927514",
   "metadata": {},
   "outputs": [],
   "source": [
    "pd.set_option('display.max_colwidth', None)"
   ]
  },
  {
   "cell_type": "code",
   "execution_count": 7,
   "id": "2ef31eaf-0e7f-4dae-ba9c-6fbac7cc03ef",
   "metadata": {},
   "outputs": [],
   "source": [
    "from transformers import T5Tokenizer, MT5ForConditionalGeneration,AutoTokenizer,T5ForConditionalGeneration,EncoderDecoderModel\n",
    "model_name_mT5_small = 'mT5_Etoori_2'\n",
    "#model_name_T5_muRIL = 't5_gec_hindi_muRIL_best_Full'\n",
    "model_name_T5_muRIL = 't5_gec_hindi_muRIL'\n",
    "model_name_T5_RoBERTa = 't5_gec_hindi_Roberta'\n",
    "model_name_bert_multilingual = 'hindi_EncDec_mbert'\n",
    "\n",
    "torch_device = 'cuda' if torch.cuda.is_available() else 'cpu' \n",
    "\n",
    "tokenizer_muRIL = AutoTokenizer.from_pretrained(\"google/muril-base-cased\")\n",
    "tokenizer_bert_multilingual = AutoTokenizer.from_pretrained(\"bert-base-multilingual-cased\")\n",
    "tokenizer_RoBERTa = AutoTokenizer.from_pretrained(\"surajp/RoBERTa-hindi-guj-san\")\n",
    "\n",
    "#trained_model_mT5_small = MT5ForConditionalGeneration.from_pretrained(model_name_mT5_small).to(torch_device)\n",
    "trained_model_bert_multilingual = EncoderDecoderModel.from_pretrained(model_name_bert_multilingual).to(torch_device)\n",
    "trained_model_T5_muRIL = T5ForConditionalGeneration.from_pretrained(model_name_T5_muRIL).to(torch_device)\n",
    "trained_model_T5_RoBERTa = T5ForConditionalGeneration.from_pretrained(model_name_T5_RoBERTa).to(torch_device)\n"
   ]
  },
  {
   "cell_type": "code",
   "execution_count": 8,
   "id": "fbda7b78-a3fe-4b10-ae6a-0a98d0156709",
   "metadata": {},
   "outputs": [],
   "source": [
    "trained_model_mT5_small = MT5ForConditionalGeneration.from_pretrained(model_name_mT5_small).to(torch_device)"
   ]
  },
  {
   "cell_type": "code",
   "execution_count": 9,
   "id": "1ac6b4fe-db49-4541-93a5-9073d074f11a",
   "metadata": {},
   "outputs": [],
   "source": [
    "model_name_T5_muRIL_full = 't5_gec_hindi_muRIL_best_Full'\n",
    "trained_model_T5_muRIL_full = T5ForConditionalGeneration.from_pretrained(model_name_T5_muRIL_full).to(torch_device)"
   ]
  },
  {
   "cell_type": "code",
   "execution_count": null,
   "id": "d3891923-40c3-4fef-b0bc-e518ffb91956",
   "metadata": {},
   "outputs": [],
   "source": []
  },
  {
   "cell_type": "code",
   "execution_count": 45,
   "id": "809e3414-ec36-4359-ade9-5b8ab56f74a3",
   "metadata": {},
   "outputs": [],
   "source": [
    "def gec_prediction(incorrect,correct,tokenizer_name,model_name):\n",
    "    l = len(correct)\n",
    "    predicted_s = correct_grammar(incorrect,tokenizer_name,model_name,num_return_sequences=4)[0]\n",
    "    p = len(predicted_s)\n",
    "    if(p>l):\n",
    "        predicted_s = predicted_s[:l]\n",
    "    elif (p<l):\n",
    "        pass\n",
    "        #pass\n",
    "    \n",
    "    \n",
    "    return predicted_s"
   ]
  },
  {
   "cell_type": "code",
   "execution_count": 11,
   "id": "abf29526-8503-46aa-93f9-92e4899207c8",
   "metadata": {},
   "outputs": [],
   "source": [
    "def model_size_calculation(model_name):\n",
    "    #Model Selection : mT5_small, encoder_decoder_bert-multilingual, T5_muRIL, T5_RoBERTa\n",
    "    if(model_name ==\"mT5_small\"):\n",
    "        trained_model = trained_model_mT5_small\n",
    "    elif (model_name ==\"encoder_decoder_bert-multilingual\"):\n",
    "        trained_model = trained_model_bert_multilingual\n",
    "    elif (model_name ==\"T5_muRIL\"):\n",
    "        trained_model = trained_model_T5_muRIL\n",
    "    elif (model_name ==\"T5_RoBERTa\"):\n",
    "        trained_model = trained_model_T5_RoBERTa\n",
    "    elif (model_name ==\"T5_MuRIL_Full\"):\n",
    "        trained_model =    trained_model_T5_muRIL_full\n",
    "    else:\n",
    "        print(\"Incorrect model name\")\n",
    "        return\n",
    "    param_size = 0\n",
    "    for param in trained_model.parameters():\n",
    "        param_size += param.nelement() * param.element_size()\n",
    "    buffer_size = 0\n",
    "    for buffer in trained_model.buffers():\n",
    "        buffer_size += buffer.nelement() * buffer.element_size()\n",
    "\n",
    "    size_all_mb = (param_size + buffer_size) / 1024**2\n",
    "    #print('model size: {:.3f}MB'.format(size_all_mb))\n",
    "    return size_all_mb"
   ]
  },
  {
   "cell_type": "code",
   "execution_count": null,
   "id": "9d725ddf-8694-4145-989c-7dbc136feca1",
   "metadata": {},
   "outputs": [],
   "source": []
  },
  {
   "cell_type": "code",
   "execution_count": 12,
   "id": "27c97ae8-cdb2-4f2b-bdd2-14ed161bd194",
   "metadata": {},
   "outputs": [],
   "source": [
    "#Model paremeters\n",
    "from prettytable import PrettyTable\n",
    "\n",
    "def count_model_parameters(model_name):\n",
    "    #Model Selection : mT5_small, encoder_decoder_bert-multilingual, T5_muRIL, T5_RoBERTa\n",
    "    if(model_name ==\"mT5_small\"):\n",
    "        trained_model = trained_model_mT5_small\n",
    "    elif (model_name ==\"encoder_decoder_bert-multilingual\"):\n",
    "        trained_model = trained_model_bert_multilingual\n",
    "    elif (model_name ==\"T5_muRIL\"):\n",
    "        trained_model = trained_model_T5_muRIL\n",
    "    elif (model_name ==\"T5_RoBERTa\"):\n",
    "        trained_model = trained_model_T5_RoBERTa\n",
    "    elif (model_name ==\"T5_MuRIL_Full\"):\n",
    "        trained_model =    trained_model_T5_muRIL_full\n",
    "    else:\n",
    "        print(\"Incorrect model name\")\n",
    "        return\n",
    "    table = PrettyTable([\"Modules\", \"Parameters\"])\n",
    "    total_params = 0\n",
    "    for name, parameter in trained_model.named_parameters():\n",
    "        if not parameter.requires_grad: continue\n",
    "        param = parameter.numel()\n",
    "        table.add_row([name, param])\n",
    "        total_params+=param\n",
    "    #print(table)\n",
    "    #print(f\"Total Trainable Params: {total_params}\")\n",
    "    return table,total_params\n",
    "\n",
    "#count_parameters(trained_model)\n"
   ]
  },
  {
   "cell_type": "code",
   "execution_count": 13,
   "id": "eb653e4d-abbe-4b2c-b362-2e6293f5d1cd",
   "metadata": {},
   "outputs": [],
   "source": [
    "def correct_grammar(input_text,tokenizer_name,model_name,num_return_sequences):\n",
    "    # Tokenizer Selection : MuRIL, bert-base-multilingual-cased, RoBERTa\n",
    "    if(tokenizer_name ==\"MuRIL\"):\n",
    "        tokenizer = tokenizer_muRIL\n",
    "    elif (tokenizer_name ==\"bert-base-multilingual-cased\"):\n",
    "        tokenizer = tokenizer_bert_multilingual\n",
    "    elif (tokenizer_name ==\"RoBERTa\"):\n",
    "        tokenizer = tokenizer_RoBERTa\n",
    "    else:\n",
    "        print(\"Incorrect Tokenizer name\")\n",
    "        return\n",
    "    \n",
    "    #Model Selection : mT5_small, encoder_decoder_bert-multilingual, T5_muRIL, T5_RoBERTa\n",
    "    if(model_name ==\"mT5_small\"):\n",
    "        trained_model = trained_model_mT5_small\n",
    "    elif (model_name ==\"encoder_decoder_bert-multilingual\"):\n",
    "        trained_model = trained_model_bert_multilingual\n",
    "    elif (model_name ==\"T5_muRIL\"):\n",
    "        trained_model = trained_model_T5_muRIL\n",
    "    elif (model_name ==\"T5_RoBERTa\"):\n",
    "        trained_model = trained_model_T5_RoBERTa\n",
    "    elif (model_name ==\"T5_MuRIL_Full\"):\n",
    "        trained_model =    trained_model_T5_muRIL_full\n",
    "    else:\n",
    "        print(\"Incorrect model name\")\n",
    "        return\n",
    "        \n",
    "    batch = tokenizer([input_text],truncation=True,padding='max_length',max_length=64, return_tensors=\"pt\",return_token_type_ids=False).to(device)\n",
    "    translated= trained_model.generate(**batch,max_length=64,num_beams=4, num_return_sequences=num_return_sequences, temperature=1.5)\n",
    "    tgt_text = tokenizer.batch_decode(translated, skip_special_tokens=True)\n",
    "    return tgt_text"
   ]
  },
  {
   "cell_type": "markdown",
   "id": "e468e2b4-a32b-4f69-8c8e-78dfcf0960f7",
   "metadata": {},
   "source": [
    "# Test Dataset"
   ]
  },
  {
   "cell_type": "code",
   "execution_count": 14,
   "id": "2436eee8-bfaa-4b37-bb43-731508f871c0",
   "metadata": {},
   "outputs": [
    {
     "name": "stdout",
     "output_type": "stream",
     "text": [
      "Etoori Test dataset: (10000, 2)\n",
      "HiWikEd Full Test dataset: (13187, 2)\n",
      "PRON_INFL Test dataset: (496, 2)\n",
      "ADJ_INFL Test dataset: (150, 2)\n",
      "ADP_INFL Test dataset: (1101, 2)\n",
      "VERB_INFL Test dataset: (5241, 2)\n",
      "NOUN_INFL Test dataset: (182, 2)\n"
     ]
    }
   ],
   "source": [
    "#Test Dataset : \n",
    "#df_test_etoori, df_test_HiWikEd, df_test_pron_infl, df_test_adj_infl, df_test_adp_infl, df_test_verb_infl,df_test_noun_infl\n",
    "\n",
    "df_test_etoori = pd.read_csv('DATA/etoori_test.csv')\n",
    "df_test_etoori = df_test_etoori.head(10000)\n",
    "print(\"Etoori Test dataset:\", df_test_etoori.shape)\n",
    "\n",
    "df_test_HiWikEd = pd.read_csv('DATA/HiWikEd.csv')\n",
    "df_test_HiWikEd = df_test_HiWikEd.drop(['Unnamed: 0'], axis=1)\n",
    "print(\"HiWikEd Full Test dataset:\", df_test_HiWikEd.shape)\n",
    "\n",
    "df_test_pron_infl = pd.read_csv('DATA/Wikiedits_PRON_INFL.csv')\n",
    "print(\"PRON_INFL Test dataset:\", df_test_pron_infl.shape)\n",
    "\n",
    "df_test_adj_infl = pd.read_csv('DATA/Wikiedits_ADJ_INFL.csv')\n",
    "print(\"ADJ_INFL Test dataset:\", df_test_adj_infl.shape)\n",
    "\n",
    "df_test_adp_infl = pd.read_csv('DATA/Wikiedits_ADP_INFL.csv')\n",
    "print(\"ADP_INFL Test dataset:\", df_test_adp_infl.shape)\n",
    "\n",
    "df_test_verb_infl = pd.read_csv('DATA/Wikiedits_VERB_INFL.csv')\n",
    "print(\"VERB_INFL Test dataset:\", df_test_verb_infl.shape)\n",
    "\n",
    "df_test_noun_infl = pd.read_csv('DATA/Wikiedits_NOUN_INFL.csv')\n",
    "print(\"NOUN_INFL Test dataset:\", df_test_noun_infl.shape)\n"
   ]
  },
  {
   "cell_type": "code",
   "execution_count": 11,
   "id": "ba93076e-ea48-4b30-8293-0b2ccedcd96c",
   "metadata": {},
   "outputs": [],
   "source": [
    "# Model Selection : mT5_small, encoder_decoder_bert-multilingual, T5_muRIL, T5_RoBERTa,T5_MuRIL_Full\n",
    "# model_size_calculation (trained_model)\n",
    "# Tokenizer Selection : MuRIL, bert-base-multilingual-cased, RoBERTa\n"
   ]
  },
  {
   "cell_type": "code",
   "execution_count": null,
   "id": "bb48595f-c372-439d-9900-f752c4759141",
   "metadata": {},
   "outputs": [],
   "source": []
  },
  {
   "cell_type": "markdown",
   "id": "458d5cec-0f3f-42bb-9ed7-a3892cd88b44",
   "metadata": {},
   "source": [
    "# Trained Model Size and Parameters"
   ]
  },
  {
   "cell_type": "code",
   "execution_count": 115,
   "id": "8444e778-2cb4-441a-80ea-af699c3f9a44",
   "metadata": {},
   "outputs": [
    {
     "name": "stdout",
     "output_type": "stream",
     "text": [
      "Size of trained model: encoder_decoder_bert-multilingual = 1465.603 MB\n",
      "Total Trainable Parameters of model: encoder_decoder_bert-multilingual = 384194811\n",
      "___________________________________________________________________________\n",
      "Size of trained model: T5_RoBERTa = 845.604 MB\n",
      "Total Trainable Parameters of model: T5_RoBERTa = 221670144\n",
      "___________________________________________________________________________\n",
      "Size of trained model: T5_muRIL = 1334.168 MB\n",
      "Total Trainable Parameters of model: T5_muRIL = 349744128\n",
      "___________________________________________________________________________\n",
      "Size of trained model: T5_MuRIL_Full = 1334.168 MB\n",
      "Total Trainable Parameters of model: T5_MuRIL_Full = 349744128\n",
      "___________________________________________________________________________\n",
      "Size of trained model: mT5_small = 1145.083 MB\n",
      "Total Trainable Parameters of model: mT5_small = 300176768\n"
     ]
    }
   ],
   "source": [
    "selected_model = \"encoder_decoder_bert-multilingual\"\n",
    "msize = model_size_calculation(selected_model)\n",
    "print('Size of trained model:',selected_model ,'= {:.3f} MB'.format(msize))\n",
    "table,total_model_prams = count_model_parameters(selected_model)\n",
    "print('Total Trainable Parameters of model:',selected_model , '=',total_model_prams)\n",
    "print(\"___________________________________________________________________________\")\n",
    "\n",
    "selected_model = \"T5_RoBERTa\"\n",
    "msize = model_size_calculation(selected_model)\n",
    "print('Size of trained model:',selected_model ,'= {:.3f} MB'.format(msize))\n",
    "table,total_model_prams = count_model_parameters(selected_model)\n",
    "print('Total Trainable Parameters of model:',selected_model , '=',total_model_prams)\n",
    "print(\"___________________________________________________________________________\")\n",
    "\n",
    "selected_model = \"T5_muRIL\"\n",
    "msize = model_size_calculation(selected_model)\n",
    "print('Size of trained model:',selected_model ,'= {:.3f} MB'.format(msize))\n",
    "table,total_model_prams = count_model_parameters(selected_model)\n",
    "print('Total Trainable Parameters of model:',selected_model , '=',total_model_prams)\n",
    "print(\"___________________________________________________________________________\")\n",
    "\n",
    "\n",
    "selected_model = \"T5_MuRIL_Full\"\n",
    "msize = model_size_calculation(selected_model)\n",
    "print('Size of trained model:',selected_model ,'= {:.3f} MB'.format(msize))\n",
    "table,total_model_prams = count_model_parameters(selected_model)\n",
    "print('Total Trainable Parameters of model:',selected_model , '=',total_model_prams)\n",
    "print(\"___________________________________________________________________________\")\n",
    "\n",
    "selected_model = \"mT5_small\"\n",
    "msize = model_size_calculation(selected_model)\n",
    "print('Size of trained model:',selected_model ,'= {:.3f} MB'.format(msize))\n",
    "table,total_model_prams = count_model_parameters(selected_model)\n",
    "print('Total Trainable Parameters of model:',selected_model , '=',total_model_prams)\n"
   ]
  },
  {
   "cell_type": "code",
   "execution_count": null,
   "id": "ac7ad759-8dd2-4695-8577-4a60eceec373",
   "metadata": {},
   "outputs": [],
   "source": []
  },
  {
   "cell_type": "markdown",
   "id": "3e87079e-bc88-4581-9132-29c89cb2cdc6",
   "metadata": {},
   "source": [
    "# Model Inference Time"
   ]
  },
  {
   "cell_type": "code",
   "execution_count": 132,
   "id": "1f928e00-8a54-4313-9cb7-14c82846907e",
   "metadata": {},
   "outputs": [],
   "source": [
    "text = df_test_etoori['enc_input'].iat[150]"
   ]
  },
  {
   "cell_type": "code",
   "execution_count": null,
   "id": "f78e14a8-1268-4293-a91b-54440575bd1f",
   "metadata": {},
   "outputs": [],
   "source": [
    "#Model Selection :  encoder_decoder_bert-multilingual, T5_muRIL, T5_RoBERTa,T5_MuRIL_Full,mT5_small\n",
    "# model_size_calculation (trained_model)\n",
    "# Tokenizer Selection : MuRIL, bert-base-multilingual-cased, RoBERTa"
   ]
  },
  {
   "cell_type": "code",
   "execution_count": 134,
   "id": "28f91f52-08bc-4323-bf2a-0b232dbd4fdd",
   "metadata": {},
   "outputs": [],
   "source": [
    "selected_tokenizer, selected_model = \"bert-base-multilingual-cased\", \"encoder_decoder_bert-multilingual\""
   ]
  },
  {
   "cell_type": "code",
   "execution_count": 135,
   "id": "aaf742bc-e9a1-473b-9f88-00d988d4a5e3",
   "metadata": {},
   "outputs": [
    {
     "name": "stdout",
     "output_type": "stream",
     "text": [
      "CPU times: user 1.13 s, sys: 31.6 ms, total: 1.16 s\n",
      "Wall time: 1.16 s\n"
     ]
    }
   ],
   "source": [
    "%%time\n",
    "predicted_s = correct_grammar(text,selected_tokenizer,selected_model, num_return_sequences=1)[0]"
   ]
  },
  {
   "cell_type": "code",
   "execution_count": 136,
   "id": "91126cad-14c1-4acb-b2bf-36c1a60cc8d9",
   "metadata": {},
   "outputs": [],
   "source": [
    "selected_tokenizer, selected_model = \"RoBERTa\", \"T5_RoBERTa\""
   ]
  },
  {
   "cell_type": "code",
   "execution_count": 137,
   "id": "e3dddbce-5354-4b0b-824e-06fe5908a031",
   "metadata": {},
   "outputs": [
    {
     "name": "stdout",
     "output_type": "stream",
     "text": [
      "CPU times: user 1.36 s, sys: 12.4 ms, total: 1.38 s\n",
      "Wall time: 1.38 s\n"
     ]
    }
   ],
   "source": [
    "%%time\n",
    "predicted_s = correct_grammar(text,selected_tokenizer,selected_model, num_return_sequences=1)[0]"
   ]
  },
  {
   "cell_type": "code",
   "execution_count": 138,
   "id": "6fa27761-eb29-46af-92bb-0c36ab1d48bc",
   "metadata": {},
   "outputs": [],
   "source": [
    "selected_tokenizer, selected_model = \"MuRIL\", \"T5_muRIL\""
   ]
  },
  {
   "cell_type": "code",
   "execution_count": 139,
   "id": "68252199-fc52-48aa-a51b-957d9d636ae7",
   "metadata": {},
   "outputs": [
    {
     "name": "stdout",
     "output_type": "stream",
     "text": [
      "CPU times: user 1.44 s, sys: 27.9 ms, total: 1.47 s\n",
      "Wall time: 1.47 s\n"
     ]
    }
   ],
   "source": [
    "%%time\n",
    "predicted_s = correct_grammar(text,selected_tokenizer,selected_model, num_return_sequences=1)[0]"
   ]
  },
  {
   "cell_type": "code",
   "execution_count": 140,
   "id": "6f1799ff-db3a-43bb-8885-39f975604cf5",
   "metadata": {},
   "outputs": [],
   "source": [
    "selected_tokenizer, selected_model = \"MuRIL\", \"mT5_small\""
   ]
  },
  {
   "cell_type": "code",
   "execution_count": 141,
   "id": "e8581e05-a9ad-4a19-94fd-a75bc76c88a8",
   "metadata": {},
   "outputs": [
    {
     "name": "stdout",
     "output_type": "stream",
     "text": [
      "CPU times: user 986 ms, sys: 36.1 ms, total: 1.02 s\n",
      "Wall time: 1.02 s\n"
     ]
    }
   ],
   "source": [
    "%%time\n",
    "predicted_s = correct_grammar(text,selected_tokenizer,selected_model, num_return_sequences=1)[0]"
   ]
  },
  {
   "cell_type": "code",
   "execution_count": null,
   "id": "2d0d85bd-311b-46f0-a5eb-56a0f9e8fd6f",
   "metadata": {},
   "outputs": [],
   "source": []
  },
  {
   "cell_type": "markdown",
   "id": "c7656453-fc2d-445c-90b7-7288d2b0c22a",
   "metadata": {},
   "source": [
    "# Train and Validation Loss"
   ]
  },
  {
   "cell_type": "code",
   "execution_count": 1,
   "id": "7f2ff24d-828a-4e0d-a7d3-a1a16b7e0308",
   "metadata": {},
   "outputs": [
    {
     "name": "stdout",
     "output_type": "stream",
     "text": [
      "\n"
     ]
    }
   ],
   "source": [
    "#Noted from the different experiments for loss plot \n",
    "'''\n",
    "BERT(2): \n",
    "Train_loss =[0.052400,0.022100]\n",
    "Valid_loss = [0.089137,0.224824]\n",
    "\n",
    "T5_RoBERTa(7): \n",
    "Train_loss=[0.381000,0.242100,0.202700,0.177300,0.160700,0.149800,0.140300,0.130300,0.122600,0.117400,0.113800,0.107500,0.103100,0.100100,0.095900,0.093300,0.089000,0.087600]\n",
    "Valid_loss=[0.231782,0.177866,0.154563,0.139493,0.129129,0.122364,0.115996,0.108200,0.103263,0.099770,0.095423,0.092649,0.090006,0.087868,0.087461,0.086824,0.083149,0.081173]\n",
    "Steps = [500,1000,1500,2000,2500,3000,3500,4000,4500,5000,5500,6000,6500,7000,7500,8000,8500,9000\n",
    "\n",
    "MuRIL:\n",
    "\n",
    "mT5(5):\n",
    "Train_loss = [0.691400,0.604500,0.433100,0.276800,0.112500]\n",
    "Valid_Loss = [0.497808,0.454815,0.329243,0.194706,0.095339]\n",
    "\n",
    "T5_MuRIL(10):\n",
    "Train_Loss = [0.524600,0.444900,0.391500,0.356900,0.348300]\n",
    "Valid_Loss = [0.324090,0.240954,0.194559,0.176006,0.169690]\n",
    "'''\n",
    "print()"
   ]
  },
  {
   "cell_type": "code",
   "execution_count": 177,
   "id": "7bab0d77-0b10-4c08-8bcb-5c1dd6091dbc",
   "metadata": {},
   "outputs": [],
   "source": [
    "import matplotlib.pyplot as plt\n",
    "def model_plot(x,y,y_label,title):\n",
    "    plt.figure(figsize=(4, 4))\n",
    "    plt.plot(x, y)\n",
    "    plt.xlabel('epoch')\n",
    "    plt.ylabel(y_label)\n",
    "    plt.title(title)\n",
    "    # function to show the plot\n",
    "    plt.show()"
   ]
  },
  {
   "cell_type": "code",
   "execution_count": 195,
   "id": "7f64f9b5-b4a5-4e6f-b9ca-3b3eb28f459f",
   "metadata": {},
   "outputs": [],
   "source": []
  },
  {
   "cell_type": "code",
   "execution_count": 231,
   "id": "6934121d-d103-44fa-aa81-034c3f49f950",
   "metadata": {},
   "outputs": [],
   "source": [
    "bert_Train_loss =[0.052400,0.022100]\n",
    "bert_Valid_loss = [0.089137,0.224824]\n",
    "num_epoch = [i for i in range(1,len(bert_Train_loss)+1)]"
   ]
  },
  {
   "cell_type": "code",
   "execution_count": 232,
   "id": "cb07c5f7-62a9-40f1-8c6a-8aa3e6f6d86c",
   "metadata": {},
   "outputs": [
    {
     "data": {
      "image/png": "[encoded data removed]",
      "text/plain": [
       "<Figure size 400x400 with 1 Axes>"
      ]
     },
     "metadata": {},
     "output_type": "display_data"
    },
    {
     "data": {
      "image/png": "[encoded data removed]",
      "text/plain": [
       "<Figure size 400x400 with 1 Axes>"
      ]
     },
     "metadata": {},
     "output_type": "display_data"
    }
   ],
   "source": [
    "model_plot(num_epoch,bert_Train_loss,\"train_loss\",\"EncoderDecoder (bert-base-multilingual-cased Tokenizer)\")\n",
    "model_plot(num_epoch,bert_Valid_loss,\"validation_loss\",\"EncoderDecoder (bert-base-multilingual-cased Tokenizer)\")\n"
   ]
  },
  {
   "cell_type": "code",
   "execution_count": 233,
   "id": "ed60f2a0-93cf-4a27-b969-b6a418f3c1e5",
   "metadata": {},
   "outputs": [
    {
     "name": "stdout",
     "output_type": "stream",
     "text": [
      "18\n"
     ]
    },
    {
     "data": {
      "text/plain": [
       "18"
      ]
     },
     "execution_count": 233,
     "metadata": {},
     "output_type": "execute_result"
    }
   ],
   "source": [
    "Train_loss=[0.381000,0.242100,0.202700,0.177300,0.160700,0.149800,0.140300,0.130300,0.122600,0.117400,0.113800,0.107500,0.103100,0.100100,0.095900,0.093300,0.089000,0.087600]\n",
    "Valid_loss=[0.231782,0.177866,0.154563,0.139493,0.129129,0.122364,0.115996,0.108200,0.103263,0.099770,0.095423,0.092649,0.090006,0.087868,0.087461,0.086824,0.083149,0.081173]\n",
    "Steps = [500,1000,1500,2000,2500,3000,3500,4000,4500,5000,5500,6000,6500,7000,7500,8000,8500,9000]\n",
    "print(len(Train_loss))\n",
    "len(Steps)"
   ]
  },
  {
   "cell_type": "code",
   "execution_count": 235,
   "id": "488c647a-ffae-4f95-89cf-dfa7a3369088",
   "metadata": {},
   "outputs": [],
   "source": [
    "import matplotlib.pyplot as plt\n",
    "def model_plot1(x,y,y_label,title):\n",
    "    plt.figure(figsize=(4, 4))\n",
    "    #print(x,y)\n",
    "    #print(len(x),len(y))\n",
    "    plt.plot(x, y)\n",
    "    plt.xlabel('steps')\n",
    "    plt.ylabel(y_label)\n",
    "    plt.title(title)\n",
    "    # function to show the plot\n",
    "    plt.show()"
   ]
  },
  {
   "cell_type": "code",
   "execution_count": 236,
   "id": "4878875e-5f51-442d-93a9-735ba8d9e917",
   "metadata": {},
   "outputs": [
    {
     "data": {
      "image/png": "[encoded data removed]",
      "text/plain": [
       "<Figure size 400x400 with 1 Axes>"
      ]
     },
     "metadata": {},
     "output_type": "display_data"
    },
    {
     "data": {
      "image/png": "[encoded data removed]",
      "text/plain": [
       "<Figure size 400x400 with 1 Axes>"
      ]
     },
     "metadata": {},
     "output_type": "display_data"
    }
   ],
   "source": [
    "model_plot1(Steps,Train_loss,\"train_loss\",\"T5ForConditionalGeneration (RoBERTa-hindi Tokenizer)\")\n",
    "model_plot1(Steps,Valid_loss,\"validation_loss\",\"T5ForConditionalGeneration (RoBERTa-hindi Tokenizer)\")\n"
   ]
  },
  {
   "cell_type": "code",
   "execution_count": null,
   "id": "8ed984b2-ee43-4b5b-8580-9beeef0ea8e0",
   "metadata": {},
   "outputs": [],
   "source": []
  },
  {
   "cell_type": "code",
   "execution_count": 237,
   "id": "8702369e-9bf1-4045-b9c9-26c7c2d99430",
   "metadata": {},
   "outputs": [],
   "source": [
    "T5_Train_loss = [0.524600,0.444900,0.391500,0.356900,0.348300]\n",
    "T5_Valid_Loss = [0.324090,0.240954,0.194559,0.176006,0.169690]\n",
    "num_epoch = [6,7,8,9,10]"
   ]
  },
  {
   "cell_type": "code",
   "execution_count": 238,
   "id": "f079b9b5-7ef8-4a0f-8788-5e2816a67047",
   "metadata": {},
   "outputs": [
    {
     "data": {
      "image/png": "[encoded data removed]",
      "text/plain": [
       "<Figure size 400x400 with 1 Axes>"
      ]
     },
     "metadata": {},
     "output_type": "display_data"
    },
    {
     "data": {
      "image/png": "[encoded data removed]",
      "text/plain": [
       "<Figure size 400x400 with 1 Axes>"
      ]
     },
     "metadata": {},
     "output_type": "display_data"
    }
   ],
   "source": [
    "model_plot(num_epoch,T5_Train_loss,\"train_loss\",\"T5ForConditionalGeneration (MuRIL Tokenizer)\")\n",
    "model_plot(num_epoch,T5_Valid_Loss,\"validation_loss\",\"T5ForConditionalGeneration (MuRIL Tokenizer)\")\n"
   ]
  },
  {
   "cell_type": "code",
   "execution_count": 239,
   "id": "330b1775-3b18-4c82-9af1-0b1e52384f2e",
   "metadata": {},
   "outputs": [],
   "source": [
    "\n",
    "mT5_Train_loss = [0.691400,0.604500,0.433100,0.276800,0.112500]\n",
    "mT5_Valid_Loss = [0.497808,0.454815,0.329243,0.194706,0.095339]\n",
    "num_epoch = [i for i in range(1,len(mT5_Train_loss)+1)]"
   ]
  },
  {
   "cell_type": "code",
   "execution_count": 240,
   "id": "33b59559-d418-4ddf-8fde-05654578be4d",
   "metadata": {},
   "outputs": [
    {
     "data": {
      "image/png": "[encoded data removed]",
      "text/plain": [
       "<Figure size 400x400 with 1 Axes>"
      ]
     },
     "metadata": {},
     "output_type": "display_data"
    },
    {
     "data": {
      "image/png": "[encoded data removed]",
      "text/plain": [
       "<Figure size 400x400 with 1 Axes>"
      ]
     },
     "metadata": {},
     "output_type": "display_data"
    }
   ],
   "source": [
    "model_plot(num_epoch,mT5_Train_loss,\"train_loss\",\"mT5ForConditionalGeneration (MuRIL Tokenizer)\")\n",
    "model_plot(num_epoch,mT5_Valid_Loss,\"validation_loss\",\"mT5ForConditionalGeneration (MuRIL Tokenizer)\")\n"
   ]
  },
  {
   "cell_type": "code",
   "execution_count": null,
   "id": "86d83b00-e108-4700-a872-1de322eecbff",
   "metadata": {},
   "outputs": [],
   "source": []
  },
  {
   "cell_type": "markdown",
   "id": "57334759-4145-4c59-993d-6cca265c42a1",
   "metadata": {},
   "source": [
    "# Etoori Test Dataset"
   ]
  },
  {
   "cell_type": "code",
   "execution_count": 44,
   "id": "d707c471-2402-4c15-8a46-af3ea5ac1561",
   "metadata": {},
   "outputs": [
    {
     "name": "stdout",
     "output_type": "stream",
     "text": [
      "Incorrect Sentence: मैं एम.टेक प्रोजेक्ट पर काम कर रही है|\n",
      "Correct Seentence: मैं एम.टेक प्रोजेक्ट पर काम कर रही हूं|\n",
      "___________________________________________________________________________\n",
      "Selected Model: T5_muRIL\n",
      "Predicted Sentence: मैं एम.टेक प्रोजेक्ट पर काम कर रही हूं|\n",
      "___________________________________________________________________________\n",
      "Selected Model: T5_RoBERTa\n",
      "Predicted Sentence: मैं एम.टेक प्रोजेक्ट पर काम कर रही हूं|\n",
      "___________________________________________________________________________\n",
      "Selected Model: mT5_small\n",
      "Predicted Sentence: मैं एम.टेक प्रोजेक्ट पर काम कर रही हूं|\n",
      "___________________________________________________________________________\n",
      "Selected Model: encoder_decoder_bert-multilingual\n",
      "Predicted Sentence: मैं एम.टेक प्रोजेक्ट पर काम कर रही हूं|\n"
     ]
    }
   ],
   "source": [
    "selected_tokenizer = \"MuRIL\"\n",
    "selected_model = \"T5_muRIL\"\n",
    "text = 'मैं एम.टेक प्रोजेक्ट पर काम कर रही है|'\n",
    "correct = 'मैं एम.टेक प्रोजेक्ट पर काम कर रही हूं|'\n",
    "#correct=\"\"\n",
    "#text = 'उसनेीं बिपाशा ने यह स्वीकार किया है कि उन्हें कभी करीना को समझने का मौका ही नहीं मिला ।'\n",
    "#correct = 'वहीं बिपाशा ने यह स्वीकार किया है कि उन्हें कभी करीना को समझने का मौका ही नहीं मिला ।'\n",
    "print(\"Incorrect Sentence:\", text)\n",
    "print(\"Correct Seentence:\",correct)\n",
    "print(\"___________________________________________________________________________\")\n",
    "print('Selected Model:',selected_model)\n",
    "pred = gec_prediction(text,correct,selected_tokenizer,selected_model)\n",
    "print(\"Predicted Sentence:\",pred)\n",
    "\n",
    "print(\"___________________________________________________________________________\")\n",
    "selected_tokenizer = \"RoBERTa\"\n",
    "selected_model = \"T5_RoBERTa\"\n",
    "print('Selected Model:',selected_model)\n",
    "pred = gec_prediction(text,correct,selected_tokenizer,selected_model)\n",
    "print(\"Predicted Sentence:\",pred)\n",
    "\n",
    "print(\"___________________________________________________________________________\")\n",
    "selected_tokenizer = \"MuRIL\"\n",
    "selected_model = \"mT5_small\"\n",
    "print('Selected Model:',selected_model)\n",
    "pred = gec_prediction(text,correct,selected_tokenizer,selected_model)\n",
    "print(\"Predicted Sentence:\",pred)\n",
    "\n",
    "print(\"___________________________________________________________________________\")\n",
    "selected_tokenizer = \"bert-base-multilingual-cased\"\n",
    "selected_model = \"encoder_decoder_bert-multilingual\"\n",
    "print('Selected Model:',selected_model)\n",
    "pred = gec_prediction(text,correct,selected_tokenizer,selected_model)\n",
    "print(\"Predicted Sentence:\",pred)"
   ]
  },
  {
   "cell_type": "code",
   "execution_count": 31,
   "id": "20a44343-8745-4ac9-92ad-f13c828dcdf8",
   "metadata": {},
   "outputs": [
    {
     "name": "stdout",
     "output_type": "stream",
     "text": [
      "Incorrect Sentence: उसनेीं बिपाशा ने यह स्वीकार किया है कि उन्हें कभी करीना को समझने का मौका ही नहीं मिला ।\n",
      "Correct Seentence: वहीं बिपाशा ने यह स्वीकार किया है कि उन्हें कभी करीना को समझने का मौका ही नहीं मिला । \n",
      "___________________________________________________________________________\n",
      "Selected Model: T5_muRIL\n",
      "Predicted Sentence: वहीं बिपाशा ने यह स्वीकार किया है कि उन्हें कभी करीना को समझने का मौका ही नहीं मिला । \n",
      "___________________________________________________________________________\n",
      "Selected Model: T5_RoBERTa\n",
      "Predicted Sentence: वहीं बिपाशा ने यह स्वीकार किया है कि उन्हें कभी करीना को समझने का मौका ही नहीं मिला । \n",
      "___________________________________________________________________________\n",
      "Selected Model: mT5_small\n",
      "Predicted Sentence: वहीं बिपाशा ने यह स्वीकार किया है कि उन्हें कभी करीना को समझने का मौका ही नहीं मिला । \n",
      "___________________________________________________________________________\n",
      "Selected Model: encoder_decoder_bert-multilingual\n",
      "Predicted Sentence: वहीं बिपाशा ने यह स्वीकार किया है कि उन्हें कभी करीना को समझने का मौका ही नहीं मिला । \n"
     ]
    }
   ],
   "source": [
    "selected_tokenizer = \"MuRIL\"\n",
    "selected_model = \"T5_muRIL\"\n",
    "text = df_test_etoori['enc_input'].iat[9408]\n",
    "correct = df_test_etoori['dec_input'].iat[9408]\n",
    "print(\"Incorrect Sentence:\", text)\n",
    "print(\"Correct Seentence:\",correct)\n",
    "print(\"___________________________________________________________________________\")\n",
    "print('Selected Model:',selected_model)\n",
    "pred = gec_prediction(text,correct,selected_tokenizer,selected_model)\n",
    "print(\"Predicted Sentence:\",pred)\n",
    "\n",
    "print(\"___________________________________________________________________________\")\n",
    "selected_tokenizer = \"RoBERTa\"\n",
    "selected_model = \"T5_RoBERTa\"\n",
    "print('Selected Model:',selected_model)\n",
    "pred = gec_prediction(text,correct,selected_tokenizer,selected_model)\n",
    "print(\"Predicted Sentence:\",pred)\n",
    "\n",
    "print(\"___________________________________________________________________________\")\n",
    "selected_tokenizer = \"MuRIL\"\n",
    "selected_model = \"mT5_small\"\n",
    "print('Selected Model:',selected_model)\n",
    "pred = gec_prediction(text,correct,selected_tokenizer,selected_model)\n",
    "print(\"Predicted Sentence:\",pred)\n",
    "\n",
    "print(\"___________________________________________________________________________\")\n",
    "selected_tokenizer = \"bert-base-multilingual-cased\"\n",
    "selected_model = \"encoder_decoder_bert-multilingual\"\n",
    "print('Selected Model:',selected_model)\n",
    "pred = gec_prediction(text,correct,selected_tokenizer,selected_model)\n",
    "print(\"Predicted Sentence:\",pred)"
   ]
  },
  {
   "cell_type": "code",
   "execution_count": 32,
   "id": "89f2d294-652e-404e-aec9-3d6ada3097c6",
   "metadata": {},
   "outputs": [
    {
     "name": "stdout",
     "output_type": "stream",
     "text": [
      "Incorrect Sentence: सीआरपीएफ अप ट्रेनिंग में लड़कियों को आत्मरक्षा की पूरी जानकारी दी है ।\n",
      "Correct Seentence: सीआरपीएफ ने अपने ट्रेनिंग में लड़कियों को आत्मरक्षा की पूरी जानकारी दी है । \n",
      "___________________________________________________________________________\n",
      "Selected Model: T5_muRIL\n",
      "Predicted Sentence: सीआरपीएफ ने अपने ट्रेनिंग में लड़कियों को आत्मरक्षा की पूरी जानकारी दी है । \n",
      "___________________________________________________________________________\n",
      "Selected Model: T5_RoBERTa\n",
      "Predicted Sentence: सीआरपीएफ ने अपने ट्रेनिंग में लड़कियों को आत्मरक्षा की पूरी जानकारी दी है । \n",
      "___________________________________________________________________________\n",
      "Selected Model: mT5_small\n",
      "Predicted Sentence: सीआरपीएफ ने अपने ट्रेनिंग में लड़कियों को आत्मरक्षा की पूरी जानकारी दी है । \n",
      "___________________________________________________________________________\n",
      "Selected Model: encoder_decoder_bert-multilingual\n",
      "Predicted Sentence: सीआरपीएफ ने अपने ट्रेनिंग में लड़कियों को आत्मरक्षा की पूरी जानकारी दी है । \n"
     ]
    }
   ],
   "source": [
    "selected_tokenizer = \"MuRIL\"\n",
    "selected_model = \"T5_muRIL\"\n",
    "text = df_test_etoori['enc_input'].iat[77]\n",
    "correct = df_test_etoori['dec_input'].iat[77]\n",
    "print(\"Incorrect Sentence:\", text)\n",
    "print(\"Correct Seentence:\",correct)\n",
    "print(\"___________________________________________________________________________\")\n",
    "print('Selected Model:',selected_model)\n",
    "pred = gec_prediction(text,correct,selected_tokenizer,selected_model)\n",
    "print(\"Predicted Sentence:\",pred)\n",
    "\n",
    "print(\"___________________________________________________________________________\")\n",
    "selected_tokenizer = \"RoBERTa\"\n",
    "selected_model = \"T5_RoBERTa\"\n",
    "print('Selected Model:',selected_model)\n",
    "pred = gec_prediction(text,correct,selected_tokenizer,selected_model)\n",
    "print(\"Predicted Sentence:\",pred)\n",
    "\n",
    "print(\"___________________________________________________________________________\")\n",
    "selected_tokenizer = \"MuRIL\"\n",
    "selected_model = \"mT5_small\"\n",
    "print('Selected Model:',selected_model)\n",
    "pred = gec_prediction(text,correct,selected_tokenizer,selected_model)\n",
    "print(\"Predicted Sentence:\",pred)\n",
    "\n",
    "print(\"___________________________________________________________________________\")\n",
    "selected_tokenizer = \"bert-base-multilingual-cased\"\n",
    "selected_model = \"encoder_decoder_bert-multilingual\"\n",
    "print('Selected Model:',selected_model)\n",
    "pred = gec_prediction(text,correct,selected_tokenizer,selected_model)\n",
    "print(\"Predicted Sentence:\",pred)"
   ]
  },
  {
   "cell_type": "code",
   "execution_count": null,
   "id": "291152b5-34a5-43a0-af3f-25d0be853c3e",
   "metadata": {},
   "outputs": [],
   "source": []
  },
  {
   "cell_type": "code",
   "execution_count": null,
   "id": "0ca76699-1b90-4c3c-bebd-6900bc902d78",
   "metadata": {},
   "outputs": [],
   "source": []
  },
  {
   "cell_type": "code",
   "execution_count": 241,
   "id": "5662c555-43d0-4b07-81f0-68f1ed15ac47",
   "metadata": {},
   "outputs": [
    {
     "name": "stdout",
     "output_type": "stream",
     "text": [
      "Incorrect Sentence: घर में घुस के बाद भी सुकून नहीं ।\n",
      "Correct Seentence: घर में घुसने के बाद भी सुकून नहीं । \n",
      "___________________________________________________________________________\n",
      "Selected Model: T5_muRIL\n",
      "Predicted Sentence: घर में घुसने के बाद भी सुकून नहीं ।\n",
      "___________________________________________________________________________\n",
      "Selected Model: T5_RoBERTa\n",
      "Predicted Sentence: घर में घुसने के बाद भी सुकून नहीं । \n",
      "___________________________________________________________________________\n",
      "Selected Model: mT5_small\n",
      "Predicted Sentence: घर में घुसने के बाद भी सुकून नहीं । \n",
      "___________________________________________________________________________\n",
      "Selected Model: encoder_decoder_bert-multilingual\n",
      "Predicted Sentence: घर में घुसने के बाद भी सुकून नहीं । \n"
     ]
    }
   ],
   "source": [
    "selected_tokenizer = \"MuRIL\"\n",
    "selected_model = \"T5_muRIL\"\n",
    "text = df_test_etoori['enc_input'].iat[50]\n",
    "correct = df_test_etoori['dec_input'].iat[50]\n",
    "print(\"Incorrect Sentence:\", text)\n",
    "print(\"Correct Seentence:\",correct)\n",
    "print(\"___________________________________________________________________________\")\n",
    "print('Selected Model:',selected_model)\n",
    "pred = gec_prediction(text,correct,selected_tokenizer,selected_model)\n",
    "print(\"Predicted Sentence:\",pred)\n",
    "\n",
    "print(\"___________________________________________________________________________\")\n",
    "selected_tokenizer = \"RoBERTa\"\n",
    "selected_model = \"T5_RoBERTa\"\n",
    "print('Selected Model:',selected_model)\n",
    "pred = gec_prediction(text,correct,selected_tokenizer,selected_model)\n",
    "print(\"Predicted Sentence:\",pred)\n",
    "\n",
    "print(\"___________________________________________________________________________\")\n",
    "selected_tokenizer = \"MuRIL\"\n",
    "selected_model = \"mT5_small\"\n",
    "print('Selected Model:',selected_model)\n",
    "pred = gec_prediction(text,correct,selected_tokenizer,selected_model)\n",
    "print(\"Predicted Sentence:\",pred)\n",
    "\n",
    "print(\"___________________________________________________________________________\")\n",
    "selected_tokenizer = \"bert-base-multilingual-cased\"\n",
    "selected_model = \"encoder_decoder_bert-multilingual\"\n",
    "print('Selected Model:',selected_model)\n",
    "pred = gec_prediction(text,correct,selected_tokenizer,selected_model)\n",
    "print(\"Predicted Sentence:\",pred)"
   ]
  },
  {
   "cell_type": "code",
   "execution_count": 47,
   "id": "211d706a-119c-44b4-b604-1f53c0fc9f27",
   "metadata": {},
   "outputs": [
    {
     "name": "stdout",
     "output_type": "stream",
     "text": [
      "Incorrect Sentence: मैंने निर्णायक बन कर नहीं बैठता हूँ ।\n",
      "Correct Seentence: मैं निर्णायक बन कर नहीं बैठता हूँ । \n",
      "___________________________________________________________________________\n",
      "Selected Model: T5_muRIL\n",
      "Predicted Sentence: मैं निर्णायक बन कर नहीं बैठता हूँ ।\n",
      "___________________________________________________________________________\n",
      "Selected Model: T5_RoBERTa\n",
      "Predicted Sentence: मैं निर्णायक बन कर नहीं बैठता हूँ । \n",
      "___________________________________________________________________________\n",
      "Selected Model: mT5_small\n",
      "Predicted Sentence: मैं निर्णायक बन कर नहीं बैठता हूँ । \n",
      "___________________________________________________________________________\n",
      "Selected Model: encoder_decoder_bert-multilingual\n",
      "Predicted Sentence: मैं निर्णायक बन कर नहीं बैठता हूँ । \n"
     ]
    }
   ],
   "source": [
    "selected_tokenizer = \"MuRIL\"\n",
    "selected_model = \"T5_muRIL\"\n",
    "text = df_test_etoori['enc_input'].iat[6359]\n",
    "correct = df_test_etoori['dec_input'].iat[6359]\n",
    "print(\"Incorrect Sentence:\", text)\n",
    "print(\"Correct Seentence:\",correct)\n",
    "print(\"___________________________________________________________________________\")\n",
    "print('Selected Model:',selected_model)\n",
    "pred = gec_prediction(text,correct,selected_tokenizer,selected_model)\n",
    "print(\"Predicted Sentence:\",pred)\n",
    "\n",
    "print(\"___________________________________________________________________________\")\n",
    "selected_tokenizer = \"RoBERTa\"\n",
    "selected_model = \"T5_RoBERTa\"\n",
    "print('Selected Model:',selected_model)\n",
    "pred = gec_prediction(text,correct,selected_tokenizer,selected_model)\n",
    "print(\"Predicted Sentence:\",pred)\n",
    "\n",
    "print(\"___________________________________________________________________________\")\n",
    "selected_tokenizer = \"MuRIL\"\n",
    "selected_model = \"mT5_small\"\n",
    "print('Selected Model:',selected_model)\n",
    "pred = gec_prediction(text,correct,selected_tokenizer,selected_model)\n",
    "print(\"Predicted Sentence:\",pred)\n",
    "\n",
    "print(\"___________________________________________________________________________\")\n",
    "selected_tokenizer = \"bert-base-multilingual-cased\"\n",
    "selected_model = \"encoder_decoder_bert-multilingual\"\n",
    "print('Selected Model:',selected_model)\n",
    "pred = gec_prediction(text,correct,selected_tokenizer,selected_model)\n",
    "print(\"Predicted Sentence:\",pred)"
   ]
  },
  {
   "cell_type": "code",
   "execution_count": 46,
   "id": "83190877-4d56-485d-ba31-086e11f5b308",
   "metadata": {},
   "outputs": [
    {
     "name": "stdout",
     "output_type": "stream",
     "text": [
      "Incorrect Sentence: शहरी व ग्रामीण क्षेत्र में सीवरेज सिस्टम लागू कर का मुख्य उद्देश्य वातावरण को दूषित हो से बचाना है ।\n",
      "Correct Seentence: शहरी व ग्रामीण क्षेत्र में सीवरेज सिस्टम लागू करने का मुख्य उद्देश्य वातावरण को दूषित होने से बचाना है । \n",
      "___________________________________________________________________________\n",
      "Selected Model: T5_muRIL\n",
      "Predicted Sentence: शहरी व ग्रामीण क्षेत्र में सीवरेज सिस्टम लागू करने का मुख्य उद्देश्य वातावरण को दूषित होने से बचाना है ।\n",
      "___________________________________________________________________________\n",
      "Selected Model: T5_RoBERTa\n",
      "Predicted Sentence: शहरी व ग्रामीण क्षेत्र में सीवरेज सिस्टम लागू करने का मुख्य उद्देश्य वातावरण को दूषित\n",
      "___________________________________________________________________________\n",
      "Selected Model: mT5_small\n",
      "Predicted Sentence: शहरी व ग्रामीण क्षेत्र में सीवरेज सिस्टम लागू करने का मुख्य उद्देश्य वातावरण को दूषित होने से बचाना है । \n",
      "___________________________________________________________________________\n",
      "Selected Model: encoder_decoder_bert-multilingual\n",
      "Predicted Sentence: शहरी व ग्रामीण क्षेत्र में सीवरेज सिस्टम लागू करने का मुख्य उद्देश्य वातावरण को दूषित होने से बचाना है । \n"
     ]
    }
   ],
   "source": [
    "selected_tokenizer = \"MuRIL\"\n",
    "selected_model = \"T5_muRIL\"\n",
    "text = df_test_etoori['enc_input'].iat[501]\n",
    "correct = df_test_etoori['dec_input'].iat[501]\n",
    "print(\"Incorrect Sentence:\", text)\n",
    "print(\"Correct Seentence:\",correct)\n",
    "print(\"___________________________________________________________________________\")\n",
    "print('Selected Model:',selected_model)\n",
    "pred = gec_prediction(text,correct,selected_tokenizer,selected_model)\n",
    "print(\"Predicted Sentence:\",pred)\n",
    "\n",
    "print(\"___________________________________________________________________________\")\n",
    "selected_tokenizer = \"RoBERTa\"\n",
    "selected_model = \"T5_RoBERTa\"\n",
    "print('Selected Model:',selected_model)\n",
    "pred = gec_prediction(text,correct,selected_tokenizer,selected_model)\n",
    "print(\"Predicted Sentence:\",pred)\n",
    "\n",
    "print(\"___________________________________________________________________________\")\n",
    "selected_tokenizer = \"MuRIL\"\n",
    "selected_model = \"mT5_small\"\n",
    "print('Selected Model:',selected_model)\n",
    "pred = gec_prediction(text,correct,selected_tokenizer,selected_model)\n",
    "print(\"Predicted Sentence:\",pred)\n",
    "\n",
    "print(\"___________________________________________________________________________\")\n",
    "selected_tokenizer = \"bert-base-multilingual-cased\"\n",
    "selected_model = \"encoder_decoder_bert-multilingual\"\n",
    "print('Selected Model:',selected_model)\n",
    "pred = gec_prediction(text,correct,selected_tokenizer,selected_model)\n",
    "print(\"Predicted Sentence:\",pred)"
   ]
  },
  {
   "cell_type": "code",
   "execution_count": 60,
   "id": "6a431d7a-77cb-4e06-8b38-85d4b085eaf2",
   "metadata": {},
   "outputs": [
    {
     "name": "stdout",
     "output_type": "stream",
     "text": [
      "Incorrect Sentence: नानाजी देशमुख तो उनके दाएं हाथ थी ।\n",
      "Correct Seentence: नानाजी देशमुख तो उनके दाएं हाथ थे । \n",
      "___________________________________________________________________________\n",
      "Selected Model: T5_muRIL\n",
      "Predicted Sentence: नानाजी देशमुख तो उनके दाएं हाथ थे ।\n",
      "___________________________________________________________________________\n",
      "Selected Model: T5_RoBERTa\n",
      "Predicted Sentence: नानाजी देशमुख तो उनके दाएं हाथ थे । \n",
      "___________________________________________________________________________\n",
      "Selected Model: encoder_decoder_bert-multilingual\n",
      "Predicted Sentence: नानाजी देशमुख तो उनके दानेएं हाथ थे \n"
     ]
    }
   ],
   "source": [
    "selected_tokenizer = \"MuRIL\"\n",
    "selected_model = \"T5_muRIL\"\n",
    "text = df_test_etoori['enc_input'].iat[185]\n",
    "correct = df_test_etoori['dec_input'].iat[185]\n",
    "print(\"Incorrect Sentence:\", text)\n",
    "print(\"Correct Seentence:\",correct)\n",
    "print(\"___________________________________________________________________________\")\n",
    "print('Selected Model:',selected_model)\n",
    "pred = gec_prediction(text,correct,selected_tokenizer,selected_model)\n",
    "print(\"Predicted Sentence:\",pred)\n",
    "\n",
    "print(\"___________________________________________________________________________\")\n",
    "selected_tokenizer = \"RoBERTa\"\n",
    "selected_model = \"T5_RoBERTa\"\n",
    "print('Selected Model:',selected_model)\n",
    "pred = gec_prediction(text,correct,selected_tokenizer,selected_model)\n",
    "print(\"Predicted Sentence:\",pred)\n",
    "\n",
    "print(\"___________________________________________________________________________\")\n",
    "selected_tokenizer = \"bert-base-multilingual-cased\"\n",
    "selected_model = \"encoder_decoder_bert-multilingual\"\n",
    "print('Selected Model:',selected_model)\n",
    "pred = gec_prediction(text,correct,selected_tokenizer,selected_model)\n",
    "print(\"Predicted Sentence:\",pred)"
   ]
  },
  {
   "cell_type": "code",
   "execution_count": 63,
   "id": "5d9511de-3211-4d06-8151-ceae1c2716e7",
   "metadata": {},
   "outputs": [
    {
     "name": "stdout",
     "output_type": "stream",
     "text": [
      "Incorrect Sentence: आप पुस्तक पढ़ने में तल्लीन हैं और बच्चा उसनेाँ पर शोर मचा रहा है ।\n",
      "Correct Seentence: आप पुस्तक पढ़ने में तल्लीन हैं और बच्चा वहाँ पर शोर मचा रहा है । \n",
      "___________________________________________________________________________\n",
      "Selected Model: T5_muRIL\n",
      "Predicted Sentence: आप पुस्तक पढ़ने में तल्लीन हैं और बच्चा वहाँ पर शोर मचा रहा है ।\n",
      "___________________________________________________________________________\n",
      "Selected Model: T5_RoBERTa\n",
      "Predicted Sentence: आप पुस्तक पढ़ने में तल्लीन है और बच्चा वहाँ पर शोर मचा रहा है ।  \n",
      "___________________________________________________________________________\n",
      "Selected Model: encoder_decoder_bert-multilingual\n",
      "Predicted Sentence: आप पुस्तक पढ़ने में तल्लीन हैं और बच्चा वहाँ पर शोर मचा रहा है । \n"
     ]
    }
   ],
   "source": [
    "selected_tokenizer = \"MuRIL\"\n",
    "selected_model = \"T5_muRIL\"\n",
    "text = df_test_etoori['enc_input'].iat[2]\n",
    "correct = df_test_etoori['dec_input'].iat[2]\n",
    "print(\"Incorrect Sentence:\", text)\n",
    "print(\"Correct Seentence:\",correct)\n",
    "print(\"___________________________________________________________________________\")\n",
    "print('Selected Model:',selected_model)\n",
    "pred = gec_prediction(text,correct,selected_tokenizer,selected_model)\n",
    "print(\"Predicted Sentence:\",pred)\n",
    "\n",
    "print(\"___________________________________________________________________________\")\n",
    "selected_tokenizer = \"RoBERTa\"\n",
    "selected_model = \"T5_RoBERTa\"\n",
    "print('Selected Model:',selected_model)\n",
    "pred = gec_prediction(text,correct,selected_tokenizer,selected_model)\n",
    "print(\"Predicted Sentence:\",pred)\n",
    "\n",
    "print(\"___________________________________________________________________________\")\n",
    "selected_tokenizer = \"bert-base-multilingual-cased\"\n",
    "selected_model = \"encoder_decoder_bert-multilingual\"\n",
    "print('Selected Model:',selected_model)\n",
    "pred = gec_prediction(text,correct,selected_tokenizer,selected_model)\n",
    "print(\"Predicted Sentence:\",pred)"
   ]
  },
  {
   "cell_type": "code",
   "execution_count": 76,
   "id": "689908bf-5f6e-40bf-924b-9ca75330b54c",
   "metadata": {},
   "outputs": [
    {
     "name": "stdout",
     "output_type": "stream",
     "text": [
      "Incorrect Sentence: वह बेटे की चाह कर रहे थी ।\n",
      "Correct Seentence: वह बेटे की चाह कर रहे थे । \n",
      "___________________________________________________________________________\n",
      "Selected Model: T5_muRIL\n",
      "Predicted Sentence: वह बेटे की चाह कर रहे थे ।\n",
      "___________________________________________________________________________\n",
      "Selected Model: T5_RoBERTa\n",
      "Predicted Sentence: वह बेटे की चाह कर रहे थे । \n",
      "___________________________________________________________________________\n",
      "Selected Model: encoder_decoder_bert-multilingual\n",
      "Predicted Sentence: वह बेटे की चाह कर रहे थे । \n"
     ]
    }
   ],
   "source": [
    "selected_tokenizer = \"MuRIL\"\n",
    "selected_model = \"T5_muRIL\"\n",
    "text = df_test_etoori['enc_input'].iat[763]\n",
    "correct = df_test_etoori['dec_input'].iat[763]\n",
    "print(\"Incorrect Sentence:\", text)\n",
    "print(\"Correct Seentence:\",correct)\n",
    "print(\"___________________________________________________________________________\")\n",
    "print('Selected Model:',selected_model)\n",
    "pred = gec_prediction(text,correct,selected_tokenizer,selected_model)\n",
    "print(\"Predicted Sentence:\",pred)\n",
    "\n",
    "print(\"___________________________________________________________________________\")\n",
    "selected_tokenizer = \"RoBERTa\"\n",
    "selected_model = \"T5_RoBERTa\"\n",
    "print('Selected Model:',selected_model)\n",
    "pred = gec_prediction(text,correct,selected_tokenizer,selected_model)\n",
    "print(\"Predicted Sentence:\",pred)\n",
    "\n",
    "print(\"___________________________________________________________________________\")\n",
    "selected_tokenizer = \"bert-base-multilingual-cased\"\n",
    "selected_model = \"encoder_decoder_bert-multilingual\"\n",
    "print('Selected Model:',selected_model)\n",
    "pred = gec_prediction(text,correct,selected_tokenizer,selected_model)\n",
    "print(\"Predicted Sentence:\",pred)"
   ]
  },
  {
   "cell_type": "code",
   "execution_count": 77,
   "id": "2a4fb322-3586-4b39-bfe8-d4db3ecfbae6",
   "metadata": {},
   "outputs": [
    {
     "name": "stdout",
     "output_type": "stream",
     "text": [
      "Incorrect Sentence: तब दार्जिलिंग की पहाड़ी वादियां उन्हें खूब लुभाती थें और वह अपने छोटे कदमों से पहाड़ नापने निकल पड़ती थें ।\n",
      "Correct Seentence: तब दार्जिलिंग की पहाड़ी वादियां उन्हें खूब लुभाती थीं और वह अपने छोटे कदमों से पहाड़ नापने निकल पड़ती थीं । \n",
      "___________________________________________________________________________\n",
      "Selected Model: T5_muRIL\n",
      "Predicted Sentence: तब दार्जिलिंग की पहाड़ी वादियां उन्हें खूब लुभाती थीं और वह अपने छोटे कदमों से पहाड़ नापने निकल पड़ती थीं ।\n",
      "___________________________________________________________________________\n",
      "Selected Model: T5_RoBERTa\n",
      "Predicted Sentence: तब दार्जिलिंग की पहाड़ी वादियां उन्हें खूब लुभाती थीं और उसने अपने छोटे कदमों से पहाड़ नापने निकल\n",
      "___________________________________________________________________________\n",
      "Selected Model: encoder_decoder_bert-multilingual\n",
      "Predicted Sentence: तब दार्जिलिंग की पहाड़ी वादियां उन्हें खूब लुभाती थीं और वह अपने छोटे कदमों से पहाड़ नापने निकल पड़ती थीं । \n"
     ]
    }
   ],
   "source": [
    "selected_tokenizer = \"MuRIL\"\n",
    "selected_model = \"T5_muRIL\"\n",
    "text = df_test_etoori['enc_input'].iat[863]\n",
    "correct = df_test_etoori['dec_input'].iat[863]\n",
    "print(\"Incorrect Sentence:\", text)\n",
    "print(\"Correct Seentence:\",correct)\n",
    "print(\"___________________________________________________________________________\")\n",
    "print('Selected Model:',selected_model)\n",
    "pred = gec_prediction(text,correct,selected_tokenizer,selected_model)\n",
    "print(\"Predicted Sentence:\",pred)\n",
    "\n",
    "print(\"___________________________________________________________________________\")\n",
    "selected_tokenizer = \"RoBERTa\"\n",
    "selected_model = \"T5_RoBERTa\"\n",
    "print('Selected Model:',selected_model)\n",
    "pred = gec_prediction(text,correct,selected_tokenizer,selected_model)\n",
    "print(\"Predicted Sentence:\",pred)\n",
    "\n",
    "print(\"___________________________________________________________________________\")\n",
    "selected_tokenizer = \"bert-base-multilingual-cased\"\n",
    "selected_model = \"encoder_decoder_bert-multilingual\"\n",
    "print('Selected Model:',selected_model)\n",
    "pred = gec_prediction(text,correct,selected_tokenizer,selected_model)\n",
    "print(\"Predicted Sentence:\",pred)"
   ]
  },
  {
   "cell_type": "code",
   "execution_count": 79,
   "id": "fda73c49-5d10-489a-b9e2-60256cb61006",
   "metadata": {},
   "outputs": [
    {
     "name": "stdout",
     "output_type": "stream",
     "text": [
      "Incorrect Sentence: आईआईटी के प्रश्नकर्ताओं की टीम आज इतनी लापरवाह हो चुकी है कि पिछले साल हिन्दी में पूछे गए प्रश्न ही अटपटे हो गए थी ।\n",
      "Correct Seentence: आईआईटी के प्रश्नकर्ताओं की टीम आज इतनी लापरवाह हो चुकी है कि पिछले साल हिन्दी में पूछे गए प्रश्न ही अटपटे हो गए थे । \n",
      "___________________________________________________________________________\n",
      "Selected Model: T5_muRIL\n",
      "Predicted Sentence: आईआईटी के प्रश्नकर्ताओं की टीम आज इतनी लापरवाह हो चुकी है कि पिछले साल हिन्दी में पूछे गए प्रश्न ही अटपटे हो गए थे ।\n",
      "___________________________________________________________________________\n",
      "Selected Model: T5_RoBERTa\n",
      "Predicted Sentence: आईआईटी के प्रश्नकर्ताओं की टीम आज इतनी लापरवाह हो चुकी है कि पिछले साल हिन्दी में पूछे गए प्रश्न\n",
      "___________________________________________________________________________\n",
      "Selected Model: encoder_decoder_bert-multilingual\n",
      "Predicted Sentence: आईआईटी के प्रश्नकर्ताओं की टीम आज इतनी लापरवाह हो चुकी है कि पिछले साल हिन्दी में पूछे गए प्रश्न ही अटपटे हो गए थे । \n"
     ]
    }
   ],
   "source": [
    "selected_tokenizer = \"MuRIL\"\n",
    "selected_model = \"T5_muRIL\"\n",
    "text = df_test_etoori['enc_input'].iat[366]\n",
    "correct = df_test_etoori['dec_input'].iat[366]\n",
    "print(\"Incorrect Sentence:\", text)\n",
    "print(\"Correct Seentence:\",correct)\n",
    "print(\"___________________________________________________________________________\")\n",
    "print('Selected Model:',selected_model)\n",
    "pred = gec_prediction(text,correct,selected_tokenizer,selected_model)\n",
    "print(\"Predicted Sentence:\",pred)\n",
    "\n",
    "print(\"___________________________________________________________________________\")\n",
    "selected_tokenizer = \"RoBERTa\"\n",
    "selected_model = \"T5_RoBERTa\"\n",
    "print('Selected Model:',selected_model)\n",
    "pred = gec_prediction(text,correct,selected_tokenizer,selected_model)\n",
    "print(\"Predicted Sentence:\",pred)\n",
    "\n",
    "print(\"___________________________________________________________________________\")\n",
    "selected_tokenizer = \"bert-base-multilingual-cased\"\n",
    "selected_model = \"encoder_decoder_bert-multilingual\"\n",
    "print('Selected Model:',selected_model)\n",
    "pred = gec_prediction(text,correct,selected_tokenizer,selected_model)\n",
    "print(\"Predicted Sentence:\",pred)"
   ]
  },
  {
   "cell_type": "code",
   "execution_count": 84,
   "id": "d5c469dc-efd0-48a3-b128-5008b07c548e",
   "metadata": {},
   "outputs": [
    {
     "name": "stdout",
     "output_type": "stream",
     "text": [
      "Incorrect Sentence: उस महिला से साथ चल को कहा ।\n",
      "Correct Seentence: उसने महिला से साथ चलने को कहा । \n",
      "___________________________________________________________________________\n",
      "Selected Model: T5_muRIL\n",
      "Predicted Sentence: उसने महिला से साथ चलने को कहा ।\n",
      "___________________________________________________________________________\n",
      "Selected Model: T5_RoBERTa\n",
      "Predicted Sentence: उसने महिला से साथ चलने को कहा । \n",
      "___________________________________________________________________________\n",
      "Selected Model: encoder_decoder_bert-multilingual\n",
      "Predicted Sentence: उसने महिला से साथ चलने को कहा । \n"
     ]
    }
   ],
   "source": [
    "selected_tokenizer = \"MuRIL\"\n",
    "selected_model = \"T5_muRIL\"\n",
    "text = df_test_etoori['enc_input'].iat[333]\n",
    "correct = df_test_etoori['dec_input'].iat[333]\n",
    "print(\"Incorrect Sentence:\", text)\n",
    "print(\"Correct Seentence:\",correct)\n",
    "print(\"___________________________________________________________________________\")\n",
    "print('Selected Model:',selected_model)\n",
    "pred = gec_prediction(text,correct,selected_tokenizer,selected_model)\n",
    "print(\"Predicted Sentence:\",pred)\n",
    "\n",
    "print(\"___________________________________________________________________________\")\n",
    "selected_tokenizer = \"RoBERTa\"\n",
    "selected_model = \"T5_RoBERTa\"\n",
    "print('Selected Model:',selected_model)\n",
    "pred = gec_prediction(text,correct,selected_tokenizer,selected_model)\n",
    "print(\"Predicted Sentence:\",pred)\n",
    "\n",
    "print(\"___________________________________________________________________________\")\n",
    "selected_tokenizer = \"bert-base-multilingual-cased\"\n",
    "selected_model = \"encoder_decoder_bert-multilingual\"\n",
    "print('Selected Model:',selected_model)\n",
    "pred = gec_prediction(text,correct,selected_tokenizer,selected_model)\n",
    "print(\"Predicted Sentence:\",pred)"
   ]
  },
  {
   "cell_type": "code",
   "execution_count": 86,
   "id": "3ff8fe9e-2648-46d8-8d21-2f256b0c4a8c",
   "metadata": {},
   "outputs": [
    {
     "name": "stdout",
     "output_type": "stream",
     "text": [
      "Incorrect Sentence: प्रारंभिक चेकअप के बाद चिकित्सकों उसे डेंगू संभावित केस करार दिया ।\n",
      "Correct Seentence: प्रारंभिक चेकअप के बाद चिकित्सकों ने उसे डेंगू संभावित केस करार दिया । \n",
      "___________________________________________________________________________\n",
      "Selected Model: T5_muRIL\n",
      "Predicted Sentence: प्रारंभिक चेक नेअप के बाद चिकित्सकों उसे डेंगू संभावित केस करार दिया ।\n",
      "___________________________________________________________________________\n",
      "Selected Model: T5_RoBERTa\n",
      "Predicted Sentence: प्रारंभिक चेकअप के बाद चिकित्सकों ने उसे डेंगू संभावित केस करार दिया । \n",
      "___________________________________________________________________________\n",
      "Selected Model: encoder_decoder_bert-multilingual\n",
      "Predicted Sentence: प्रारंभिक चेकअप के बाद चिकित्सकों ने उसे डेंगू संभावित केस करार दिया । \n"
     ]
    }
   ],
   "source": [
    "selected_tokenizer = \"MuRIL\"\n",
    "selected_model = \"T5_muRIL\"\n",
    "text = df_test_etoori['enc_input'].iat[111]\n",
    "correct = df_test_etoori['dec_input'].iat[111]\n",
    "print(\"Incorrect Sentence:\", text)\n",
    "print(\"Correct Seentence:\",correct)\n",
    "print(\"___________________________________________________________________________\")\n",
    "print('Selected Model:',selected_model)\n",
    "pred = gec_prediction(text,correct,selected_tokenizer,selected_model)\n",
    "print(\"Predicted Sentence:\",pred)\n",
    "\n",
    "print(\"___________________________________________________________________________\")\n",
    "selected_tokenizer = \"RoBERTa\"\n",
    "selected_model = \"T5_RoBERTa\"\n",
    "print('Selected Model:',selected_model)\n",
    "pred = gec_prediction(text,correct,selected_tokenizer,selected_model)\n",
    "print(\"Predicted Sentence:\",pred)\n",
    "\n",
    "print(\"___________________________________________________________________________\")\n",
    "selected_tokenizer = \"bert-base-multilingual-cased\"\n",
    "selected_model = \"encoder_decoder_bert-multilingual\"\n",
    "print('Selected Model:',selected_model)\n",
    "pred = gec_prediction(text,correct,selected_tokenizer,selected_model)\n",
    "print(\"Predicted Sentence:\",pred)"
   ]
  },
  {
   "cell_type": "code",
   "execution_count": 101,
   "id": "7639dbc5-bb8a-4b55-a813-d4807547757d",
   "metadata": {},
   "outputs": [
    {
     "name": "stdout",
     "output_type": "stream",
     "text": [
      "Incorrect Sentence: उनका एक मक्सद थे अपनी अलग पहचान बनानेका और कायम रख़नेका ।\n",
      "Correct Seentence: उनका एक मक्सद था अपनी अलग पहचान बनानेका और कायम रख़नेका । \n",
      "___________________________________________________________________________\n",
      "Selected Model: T5_muRIL\n",
      "Predicted Sentence: उनका एक मक्सद था अपनी अलग पहचान बनानेका और कायम रख़नेका ।\n",
      "___________________________________________________________________________\n",
      "Selected Model: T5_RoBERTa\n",
      "Predicted Sentence: उनका एक मक्सद था अपनी अलग पहचान बनानेका और कायम रख़नेका । \n",
      "___________________________________________________________________________\n",
      "Selected Model: encoder_decoder_bert-multilingual\n",
      "Predicted Sentence: उनका एक मक्सद था अपनी अलग पहचान बनानेका और कायम रख़नेका । \n"
     ]
    }
   ],
   "source": [
    "selected_tokenizer = \"MuRIL\"\n",
    "selected_model = \"T5_muRIL\"\n",
    "text = df_test_etoori['enc_input'].iat[650]\n",
    "correct = df_test_etoori['dec_input'].iat[650]\n",
    "print(\"Incorrect Sentence:\", text)\n",
    "print(\"Correct Seentence:\",correct)\n",
    "print(\"___________________________________________________________________________\")\n",
    "print('Selected Model:',selected_model)\n",
    "pred = gec_prediction(text,correct,selected_tokenizer,selected_model)\n",
    "print(\"Predicted Sentence:\",pred)\n",
    "\n",
    "print(\"___________________________________________________________________________\")\n",
    "selected_tokenizer = \"RoBERTa\"\n",
    "selected_model = \"T5_RoBERTa\"\n",
    "print('Selected Model:',selected_model)\n",
    "pred = gec_prediction(text,correct,selected_tokenizer,selected_model)\n",
    "print(\"Predicted Sentence:\",pred)\n",
    "\n",
    "print(\"___________________________________________________________________________\")\n",
    "selected_tokenizer = \"bert-base-multilingual-cased\"\n",
    "selected_model = \"encoder_decoder_bert-multilingual\"\n",
    "print('Selected Model:',selected_model)\n",
    "pred = gec_prediction(text,correct,selected_tokenizer,selected_model)\n",
    "print(\"Predicted Sentence:\",pred)"
   ]
  },
  {
   "cell_type": "code",
   "execution_count": 68,
   "id": "2b1ccffc-be95-4a42-8fe1-9491fc37eea3",
   "metadata": {},
   "outputs": [],
   "source": [
    "#len(\"मैं इतनी अभिभूत थी कि उस वक्त सोच ही नही सकी कि लीला आखिर मुझ जैसी मामूली लडकी को इतना भाव क्य\")"
   ]
  },
  {
   "cell_type": "markdown",
   "id": "e5b85930-a612-41fd-bd81-11bb411d28ad",
   "metadata": {},
   "source": [
    "# HiWikEd Test Dataset"
   ]
  },
  {
   "cell_type": "code",
   "execution_count": 146,
   "id": "06440abf-f1cb-4fe9-b035-e9bb2a3e8219",
   "metadata": {},
   "outputs": [],
   "source": [
    "# Errors Types\n",
    "#df_test_etoori, df_test_HiWikEd, df_test_pron_infl, df_test_adj_infl, df_test_adp_infl, df_test_verb_infl,df_test_noun_infl\n"
   ]
  },
  {
   "cell_type": "code",
   "execution_count": 155,
   "id": "29635058-1605-417b-acbb-93ec69c8c696",
   "metadata": {},
   "outputs": [
    {
     "name": "stdout",
     "output_type": "stream",
     "text": [
      "Incorrect Sentence: १९२७ में अखिल भारतीय हिंदी साहित्य सम्मलेन के अधिवेशन ने आपको \" महामहोपाध्याय \" के उपाधि से सम्मानित किया.\n",
      "Correct Seentence: १९२७ में अखिल भारतीय हिंदी साहित्य सम्मलेन के अधिवेशन ने आपको \" महामहोपाध्याय \" की उपाधि से सम्मानित किया.\n",
      "___________________________________________________________________________\n",
      "Selected Model: T5_muRIL\n",
      "Predicted Sentence: १९२७ में अखिल भारतीय हिंदी साहित्य सम्मलेन के अधिवेशन ने आपको \" मेरठ \" के उपाधि से सम्मानित किया.\n",
      "___________________________________________________________________________\n",
      "Selected Model: T5_MuRIL_Full\n",
      "Predicted Sentence: १९२७ में अखिल भारतीय हिंदी साहित्य सम्मलेन के अधिवेशन ने आपको \" महामहोपाध्याय \" के उपाधि से सम्मानित किया.\n",
      "___________________________________________________________________________\n",
      "Selected Model: mT5_small\n",
      "Predicted Sentence: तत में अखिल भारतीय हिंदी साहित्य सम्मलेन के अधिवेशन ने आपको उरुग्वे कोहिमा कोहिमा के उपाधि से सम्मानित किय\n",
      "___________________________________________________________________________\n",
      "Selected Model: encoder_decoder_bert-multilingual\n",
      "Predicted Sentence: १९२७ में अखिल भारतीय हिंदी साहित्य सम्मलेन के अधिवेशन ने आपको भी महामहोपाध्याय के उपाधि से सम्मानित किया ।\n"
     ]
    }
   ],
   "source": [
    "#df_test_etoori, df_test_HiWikEd, df_test_pron_infl, df_test_adj_infl, df_test_adp_infl, df_test_verb_infl,df_test_noun_infl\n",
    "\n",
    "selected_tokenizer = \"MuRIL\"\n",
    "selected_model = \"T5_muRIL\"\n",
    "text = df_test_adp_infl['enc_input'].iat[111]\n",
    "correct = df_test_adp_infl['dec_input'].iat[111]\n",
    "print(\"Incorrect Sentence:\", text)\n",
    "print(\"Correct Seentence:\",correct)\n",
    "print(\"___________________________________________________________________________\")\n",
    "print('Selected Model:',selected_model)\n",
    "pred = gec_prediction(text,correct,selected_tokenizer,selected_model)\n",
    "print(\"Predicted Sentence:\",pred)\n",
    "\n",
    "print(\"___________________________________________________________________________\")\n",
    "selected_tokenizer = \"MuRIL\"\n",
    "selected_model = \"T5_MuRIL_Full\"\n",
    "print('Selected Model:',selected_model)\n",
    "pred = gec_prediction(text,correct,selected_tokenizer,selected_model)\n",
    "print(\"Predicted Sentence:\",pred)\n",
    "\n",
    "print(\"___________________________________________________________________________\")\n",
    "selected_tokenizer = \"MuRIL\"\n",
    "selected_model = \"mT5_small\"\n",
    "print('Selected Model:',selected_model)\n",
    "pred = gec_prediction(text,correct,selected_tokenizer,selected_model)\n",
    "print(\"Predicted Sentence:\",pred)\n",
    "\n",
    "print(\"___________________________________________________________________________\")\n",
    "selected_tokenizer = \"bert-base-multilingual-cased\"\n",
    "selected_model = \"encoder_decoder_bert-multilingual\"\n",
    "print('Selected Model:',selected_model)\n",
    "pred = gec_prediction(text,correct,selected_tokenizer,selected_model)\n",
    "print(\"Predicted Sentence:\",pred)"
   ]
  },
  {
   "cell_type": "code",
   "execution_count": 154,
   "id": "43701a85-091d-4fbc-8660-6f7b6d1a6970",
   "metadata": {},
   "outputs": [
    {
     "name": "stdout",
     "output_type": "stream",
     "text": [
      "Incorrect Sentence: जल प्रदूषण पर नियंत्रण हेतु नालों का नियमित रूप से साफ सफाई करना चाहिए.\n",
      "Correct Seentence: जल प्रदूषण पर नियंत्रण हेतु नालों की नियमित रूप से साफ सफाई करना चाहिए.\n",
      "___________________________________________________________________________\n",
      "Selected Model: T5_muRIL\n",
      "Predicted Sentence: जल प्रदूषण पर नियंत्रण हेतु नालों का नियमित रूप से साफ सफाई करना चाहिए.\n",
      "___________________________________________________________________________\n",
      "Selected Model: T5_MuRIL_Full\n",
      "Predicted Sentence: जल प्रदूषण पर नियंत्रण हेतु नालों का नियमित रूप से साफ सफाई करना चाहिए.\n",
      "___________________________________________________________________________\n",
      "Selected Model: mT5_small\n",
      "Predicted Sentence: जल प्रदूषण पर नियंत्रण हेतु नालों का नियमित रूप से साफ सफाई करना चाहिए \n",
      "___________________________________________________________________________\n",
      "Selected Model: encoder_decoder_bert-multilingual\n",
      "Predicted Sentence: जल प्रदूषण पर नियंत्रण हेतु नालों का नियमित रूप से साफ सफाई करना चाहिए \n"
     ]
    }
   ],
   "source": [
    "selected_tokenizer = \"MuRIL\"\n",
    "selected_model = \"T5_muRIL\"\n",
    "text = df_test_adp_infl['enc_input'].iat[0]\n",
    "correct = df_test_adp_infl['dec_input'].iat[0]\n",
    "print(\"Incorrect Sentence:\", text)\n",
    "print(\"Correct Seentence:\",correct)\n",
    "print(\"___________________________________________________________________________\")\n",
    "print('Selected Model:',selected_model)\n",
    "pred = gec_prediction(text,correct,selected_tokenizer,selected_model)\n",
    "print(\"Predicted Sentence:\",pred)\n",
    "\n",
    "print(\"___________________________________________________________________________\")\n",
    "selected_tokenizer = \"MuRIL\"\n",
    "selected_model = \"T5_MuRIL_Full\"\n",
    "print('Selected Model:',selected_model)\n",
    "pred = gec_prediction(text,correct,selected_tokenizer,selected_model)\n",
    "print(\"Predicted Sentence:\",pred)\n",
    "\n",
    "print(\"___________________________________________________________________________\")\n",
    "selected_tokenizer = \"MuRIL\"\n",
    "selected_model = \"mT5_small\"\n",
    "print('Selected Model:',selected_model)\n",
    "pred = gec_prediction(text,correct,selected_tokenizer,selected_model)\n",
    "print(\"Predicted Sentence:\",pred)\n",
    "\n",
    "print(\"___________________________________________________________________________\")\n",
    "selected_tokenizer = \"bert-base-multilingual-cased\"\n",
    "selected_model = \"encoder_decoder_bert-multilingual\"\n",
    "print('Selected Model:',selected_model)\n",
    "pred = gec_prediction(text,correct,selected_tokenizer,selected_model)\n",
    "print(\"Predicted Sentence:\",pred)"
   ]
  },
  {
   "cell_type": "code",
   "execution_count": 158,
   "id": "cfe0a44c-80e4-441d-a465-069c9a85abd3",
   "metadata": {},
   "outputs": [
    {
     "name": "stdout",
     "output_type": "stream",
     "text": [
      "Incorrect Sentence: राहुलजी को कृतियों की सूची बहुत लंबी है.\n",
      "Correct Seentence: राहुलजी के कृतियों की सूची बहुत लंबी है.\n",
      "___________________________________________________________________________\n",
      "Selected Model: T5_muRIL\n",
      "Predicted Sentence: राहुलजी को कृतियोंने की सूची बहुत लंबी ह\n",
      "___________________________________________________________________________\n",
      "Selected Model: T5_MuRIL_Full\n",
      "Predicted Sentence: राहुलजी को कृतियों की सूची बहुत लंबी है.\n",
      "___________________________________________________________________________\n",
      "Selected Model: mT5_small\n",
      "Predicted Sentence: राहुलजी को कृतियों की सूची ने बहुत लंबी \n",
      "___________________________________________________________________________\n",
      "Selected Model: encoder_decoder_bert-multilingual\n",
      "Predicted Sentence: राहुलजी को कृतियों की सूची बहुत लंबी है \n"
     ]
    }
   ],
   "source": [
    "#df_test_etoori, df_test_HiWikEd, df_test_pron_infl, df_test_adj_infl, df_test_adp_infl, df_test_verb_infl,df_test_noun_infl\n",
    "\n",
    "text = df_test_HiWikEd['enc_input'].iat[111]\n",
    "correct = df_test_HiWikEd['dec_input'].iat[111]\n",
    "\n",
    "selected_tokenizer = \"MuRIL\"\n",
    "selected_model = \"T5_muRIL\"\n",
    "print(\"Incorrect Sentence:\", text)\n",
    "print(\"Correct Seentence:\",correct)\n",
    "print(\"___________________________________________________________________________\")\n",
    "print('Selected Model:',selected_model)\n",
    "pred = gec_prediction(text,correct,selected_tokenizer,selected_model)\n",
    "print(\"Predicted Sentence:\",pred)\n",
    "\n",
    "print(\"___________________________________________________________________________\")\n",
    "selected_tokenizer = \"MuRIL\"\n",
    "selected_model = \"T5_MuRIL_Full\"\n",
    "print('Selected Model:',selected_model)\n",
    "pred = gec_prediction(text,correct,selected_tokenizer,selected_model)\n",
    "print(\"Predicted Sentence:\",pred)\n",
    "\n",
    "print(\"___________________________________________________________________________\")\n",
    "selected_tokenizer = \"MuRIL\"\n",
    "selected_model = \"mT5_small\"\n",
    "print('Selected Model:',selected_model)\n",
    "pred = gec_prediction(text,correct,selected_tokenizer,selected_model)\n",
    "print(\"Predicted Sentence:\",pred)\n",
    "\n",
    "print(\"___________________________________________________________________________\")\n",
    "selected_tokenizer = \"bert-base-multilingual-cased\"\n",
    "selected_model = \"encoder_decoder_bert-multilingual\"\n",
    "print('Selected Model:',selected_model)\n",
    "pred = gec_prediction(text,correct,selected_tokenizer,selected_model)\n",
    "print(\"Predicted Sentence:\",pred)"
   ]
  },
  {
   "cell_type": "code",
   "execution_count": 160,
   "id": "b7858454-c309-4e98-ae55-32899e893cb7",
   "metadata": {},
   "outputs": [
    {
     "name": "stdout",
     "output_type": "stream",
     "text": [
      "Incorrect Sentence: इससे पहले वह बापतला लोक सभा क्षेत्र का प्रतिनिधित्व करती थीं.\n",
      "Correct Seentence: इससे पहले वो बापतला लोक सभा क्षेत्र का प्रतिनिधित्व करती थीं.\n",
      "___________________________________________________________________________\n",
      "Selected Model: T5_muRIL\n",
      "Predicted Sentence: इससे पहले वह बापतला लोक सभा क्षेत्र का प्रतिनिधित्व करती थीं.\n",
      "___________________________________________________________________________\n",
      "Selected Model: T5_MuRIL_Full\n",
      "Predicted Sentence: इससे पहले वह बापतला लोक सभा क्षेत्र का प्रतिनिधित्व करती थीं.\n",
      "___________________________________________________________________________\n",
      "Selected Model: mT5_small\n",
      "Predicted Sentence: इससे पहले उसने उरुग्वेला लोक सभा क्षेत्र का प्रतिनिधित्व करती\n",
      "___________________________________________________________________________\n",
      "Selected Model: encoder_decoder_bert-multilingual\n",
      "Predicted Sentence: इससे पहले वह बापतला लोक सभा क्षेत्र का प्रतिनिधित्व करती थीं \n"
     ]
    }
   ],
   "source": [
    "#df_test_etoori, df_test_HiWikEd, df_test_pron_infl, df_test_adj_infl, df_test_adp_infl, df_test_verb_infl,df_test_noun_infl\n",
    "\n",
    "text = df_test_pron_infl['enc_input'].iat[10]\n",
    "correct = df_test_pron_infl['dec_input'].iat[10]\n",
    "\n",
    "selected_tokenizer = \"MuRIL\"\n",
    "selected_model = \"T5_muRIL\"\n",
    "print(\"Incorrect Sentence:\", text)\n",
    "print(\"Correct Seentence:\",correct)\n",
    "print(\"___________________________________________________________________________\")\n",
    "print('Selected Model:',selected_model)\n",
    "pred = gec_prediction(text,correct,selected_tokenizer,selected_model)\n",
    "print(\"Predicted Sentence:\",pred)\n",
    "\n",
    "print(\"___________________________________________________________________________\")\n",
    "selected_tokenizer = \"MuRIL\"\n",
    "selected_model = \"T5_MuRIL_Full\"\n",
    "print('Selected Model:',selected_model)\n",
    "pred = gec_prediction(text,correct,selected_tokenizer,selected_model)\n",
    "print(\"Predicted Sentence:\",pred)\n",
    "\n",
    "print(\"___________________________________________________________________________\")\n",
    "selected_tokenizer = \"MuRIL\"\n",
    "selected_model = \"mT5_small\"\n",
    "print('Selected Model:',selected_model)\n",
    "pred = gec_prediction(text,correct,selected_tokenizer,selected_model)\n",
    "print(\"Predicted Sentence:\",pred)\n",
    "\n",
    "print(\"___________________________________________________________________________\")\n",
    "selected_tokenizer = \"bert-base-multilingual-cased\"\n",
    "selected_model = \"encoder_decoder_bert-multilingual\"\n",
    "print('Selected Model:',selected_model)\n",
    "pred = gec_prediction(text,correct,selected_tokenizer,selected_model)\n",
    "print(\"Predicted Sentence:\",pred)"
   ]
  },
  {
   "cell_type": "code",
   "execution_count": 162,
   "id": "4efc95fc-8004-4a35-8cde-2f5d2188a570",
   "metadata": {},
   "outputs": [
    {
     "name": "stdout",
     "output_type": "stream",
     "text": [
      "Incorrect Sentence: मेरी तकनीकी ज्ञान अच्छी है और यही मेरे प्रबंधन के आग्रह का मुख्य कारण है.\n",
      "Correct Seentence: मेरा तकनीकी ज्ञान अच्छा है और यही मेरे प्रबंधन के आग्रह का मुख्य कारण है.\n",
      "___________________________________________________________________________\n",
      "Selected Model: T5_muRIL\n",
      "Predicted Sentence: मेरा तकनीकी ज्ञान अच्छी है और यही मेरे प्रबंधन के आग्रह का मुख्य कारण है.\n",
      "___________________________________________________________________________\n",
      "Selected Model: T5_MuRIL_Full\n",
      "Predicted Sentence: मेरी तकनीकी ज्ञान अच्छी है और यही मेरे प्रबंधन के आग्रह का मुख्य कारण है.\n",
      "___________________________________________________________________________\n",
      "Selected Model: mT5_small\n",
      "Predicted Sentence: मेरा तकनीकी ज्ञान अच्छी है और यही मेरे प्रबंधन के आग्रह का मुख्य कारण है \n",
      "___________________________________________________________________________\n",
      "Selected Model: encoder_decoder_bert-multilingual\n",
      "Predicted Sentence: मेरी तकनीकी ज्ञान अच्छी है और यही मेरे प्रबंधन के आग्रह का मुख्य कारण है \n"
     ]
    }
   ],
   "source": [
    "#df_test_etoori, df_test_HiWikEd, df_test_pron_infl, df_test_adj_infl, df_test_adp_infl, df_test_verb_infl,df_test_noun_infl\n",
    "\n",
    "text = df_test_adj_infl['enc_input'].iat[100]\n",
    "correct = df_test_adj_infl['dec_input'].iat[100]\n",
    "\n",
    "selected_tokenizer = \"MuRIL\"\n",
    "selected_model = \"T5_muRIL\"\n",
    "print(\"Incorrect Sentence:\", text)\n",
    "print(\"Correct Seentence:\",correct)\n",
    "print(\"___________________________________________________________________________\")\n",
    "print('Selected Model:',selected_model)\n",
    "pred = gec_prediction(text,correct,selected_tokenizer,selected_model)\n",
    "print(\"Predicted Sentence:\",pred)\n",
    "\n",
    "print(\"___________________________________________________________________________\")\n",
    "selected_tokenizer = \"MuRIL\"\n",
    "selected_model = \"T5_MuRIL_Full\"\n",
    "print('Selected Model:',selected_model)\n",
    "pred = gec_prediction(text,correct,selected_tokenizer,selected_model)\n",
    "print(\"Predicted Sentence:\",pred)\n",
    "\n",
    "print(\"___________________________________________________________________________\")\n",
    "selected_tokenizer = \"MuRIL\"\n",
    "selected_model = \"mT5_small\"\n",
    "print('Selected Model:',selected_model)\n",
    "pred = gec_prediction(text,correct,selected_tokenizer,selected_model)\n",
    "print(\"Predicted Sentence:\",pred)\n",
    "\n",
    "print(\"___________________________________________________________________________\")\n",
    "selected_tokenizer = \"bert-base-multilingual-cased\"\n",
    "selected_model = \"encoder_decoder_bert-multilingual\"\n",
    "print('Selected Model:',selected_model)\n",
    "pred = gec_prediction(text,correct,selected_tokenizer,selected_model)\n",
    "print(\"Predicted Sentence:\",pred)"
   ]
  },
  {
   "cell_type": "code",
   "execution_count": 165,
   "id": "63b7ce22-e3e1-4eda-9c9b-3374924187ca",
   "metadata": {},
   "outputs": [
    {
     "name": "stdout",
     "output_type": "stream",
     "text": [
      "Incorrect Sentence: उनको बॉम्बे विश्वविद्यालय और रॉयल ऍन्थ्रोपोलोजिकल इंस्टीट्युट से इन्हे कई ऑनर्स प्राप्त हुए है.\n",
      "Correct Seentence: उनको बॉम्बे विश्वविद्यालय और रॉयल ऍन्थ्रोपोलोजिकल इंस्टीट्युट से इन्हे कई ऑनर्स प्राप्त हुए हैं.\n",
      "___________________________________________________________________________\n",
      "Selected Model: T5_muRIL\n",
      "Predicted Sentence: उनको बॉम्बे विश्वविद्यालय और रॉयल [unused3]्थ्रोपोलोजिकल इंस्टीट्युट से इन्हे कई ऑनर्स प्राप्त ह\n",
      "___________________________________________________________________________\n",
      "Selected Model: T5_MuRIL_Full\n",
      "Predicted Sentence: उनको बॉम्बे विश्वविद्यालय और रॉयल धर्म्थ्रोपोलोजिकल इंस्टीट्युट से इन्हे कई शरीर्स प्राप्त हुए ह\n",
      "___________________________________________________________________________\n",
      "Selected Model: mT5_small\n",
      "Predicted Sentence: उनको बॉम्बे विश्वविद्यालय और रॉयल तत्थ्रोपोलोजिकल इंस्टीट शादी से इन्हे कई ऑनर्स प्राप्त हुए हैं\n",
      "___________________________________________________________________________\n",
      "Selected Model: encoder_decoder_bert-multilingual\n",
      "Predicted Sentence: उनको बॉम्बे विश्वविद्यालय और रॉयल ने ऍन्थ्रोपोलोजिकल इंस्टीट्युट से इन्हे कई ऑनर्स प्राप्त हुए ह\n"
     ]
    }
   ],
   "source": [
    "#df_test_etoori, df_test_HiWikEd, df_test_pron_infl, df_test_adj_infl, df_test_adp_infl, df_test_verb_infl,df_test_noun_infl\n",
    "\n",
    "text = df_test_verb_infl['enc_input'].iat[50]\n",
    "correct = df_test_verb_infl['dec_input'].iat[50]\n",
    "\n",
    "selected_tokenizer = \"MuRIL\"\n",
    "selected_model = \"T5_muRIL\"\n",
    "print(\"Incorrect Sentence:\", text)\n",
    "print(\"Correct Seentence:\",correct)\n",
    "print(\"___________________________________________________________________________\")\n",
    "print('Selected Model:',selected_model)\n",
    "pred = gec_prediction(text,correct,selected_tokenizer,selected_model)\n",
    "print(\"Predicted Sentence:\",pred)\n",
    "\n",
    "print(\"___________________________________________________________________________\")\n",
    "selected_tokenizer = \"MuRIL\"\n",
    "selected_model = \"T5_MuRIL_Full\"\n",
    "print('Selected Model:',selected_model)\n",
    "pred = gec_prediction(text,correct,selected_tokenizer,selected_model)\n",
    "print(\"Predicted Sentence:\",pred)\n",
    "\n",
    "print(\"___________________________________________________________________________\")\n",
    "selected_tokenizer = \"MuRIL\"\n",
    "selected_model = \"mT5_small\"\n",
    "print('Selected Model:',selected_model)\n",
    "pred = gec_prediction(text,correct,selected_tokenizer,selected_model)\n",
    "print(\"Predicted Sentence:\",pred)\n",
    "\n",
    "print(\"___________________________________________________________________________\")\n",
    "selected_tokenizer = \"bert-base-multilingual-cased\"\n",
    "selected_model = \"encoder_decoder_bert-multilingual\"\n",
    "print('Selected Model:',selected_model)\n",
    "pred = gec_prediction(text,correct,selected_tokenizer,selected_model)\n",
    "print(\"Predicted Sentence:\",pred)"
   ]
  },
  {
   "cell_type": "code",
   "execution_count": 166,
   "id": "5c191556-e765-42c4-8944-359b13a553c3",
   "metadata": {},
   "outputs": [
    {
     "name": "stdout",
     "output_type": "stream",
     "text": [
      "Incorrect Sentence: उन्होंने संस्कृत में आयुर्वेदिक औषधियों और जड़ी बूटी के ज्ञान में निपुणता प्राप्त की और इसका प्रचार प्रसार किया.\n",
      "Correct Seentence: उन्होंने संस्कृत में आयुर्वेदिक औषधियों और जड़ी बूटियों के ज्ञान में निपुणता प्राप्त की और इसका प्रचार प्रसार किया.\n",
      "___________________________________________________________________________\n",
      "Selected Model: T5_muRIL\n",
      "Predicted Sentence: उन्होंने संस्कृत में आयुर्वेदिक औषधियों और जड़ी बूटी के ज्ञान में निपुणता प्राप्त की और इसका प्रचार प्रसार किया.\n",
      "___________________________________________________________________________\n",
      "Selected Model: T5_MuRIL_Full\n",
      "Predicted Sentence: उन्होंने संस्कृत में आयुर्वेदिक औषधियों और जड़ी के के ज्ञान में निपुणता प्राप्त की और इसका प्रचार प्रसार किया. के ज\n",
      "___________________________________________________________________________\n",
      "Selected Model: mT5_small\n",
      "Predicted Sentence: उन्होंने संस्कृत में आयुर्वेदिक औषधियों और जड़ी बूटी के ज्ञान में निपुणता प्राप्त की और इसका प्रचार प्रसार किया कोह\n",
      "___________________________________________________________________________\n",
      "Selected Model: encoder_decoder_bert-multilingual\n",
      "Predicted Sentence: उन्होंने संस्कृत में आयुर्वेदिक औषधियों और जड़ी बूटी के ज्ञान में निपुणता प्राप्त की और इसका प्रचार प्रसार किया । उ\n"
     ]
    }
   ],
   "source": [
    "#df_test_etoori, df_test_HiWikEd, df_test_pron_infl, df_test_adj_infl, df_test_adp_infl, df_test_verb_infl,df_test_noun_infl\n",
    "\n",
    "text = df_test_noun_infl['enc_input'].iat[50]\n",
    "correct = df_test_noun_infl['dec_input'].iat[50]\n",
    "\n",
    "selected_tokenizer = \"MuRIL\"\n",
    "selected_model = \"T5_muRIL\"\n",
    "print(\"Incorrect Sentence:\", text)\n",
    "print(\"Correct Seentence:\",correct)\n",
    "print(\"___________________________________________________________________________\")\n",
    "print('Selected Model:',selected_model)\n",
    "pred = gec_prediction(text,correct,selected_tokenizer,selected_model)\n",
    "print(\"Predicted Sentence:\",pred)\n",
    "\n",
    "print(\"___________________________________________________________________________\")\n",
    "selected_tokenizer = \"MuRIL\"\n",
    "selected_model = \"T5_MuRIL_Full\"\n",
    "print('Selected Model:',selected_model)\n",
    "pred = gec_prediction(text,correct,selected_tokenizer,selected_model)\n",
    "print(\"Predicted Sentence:\",pred)\n",
    "\n",
    "print(\"___________________________________________________________________________\")\n",
    "selected_tokenizer = \"MuRIL\"\n",
    "selected_model = \"mT5_small\"\n",
    "print('Selected Model:',selected_model)\n",
    "pred = gec_prediction(text,correct,selected_tokenizer,selected_model)\n",
    "print(\"Predicted Sentence:\",pred)\n",
    "\n",
    "print(\"___________________________________________________________________________\")\n",
    "selected_tokenizer = \"bert-base-multilingual-cased\"\n",
    "selected_model = \"encoder_decoder_bert-multilingual\"\n",
    "print('Selected Model:',selected_model)\n",
    "pred = gec_prediction(text,correct,selected_tokenizer,selected_model)\n",
    "print(\"Predicted Sentence:\",pred)"
   ]
  },
  {
   "cell_type": "code",
   "execution_count": null,
   "id": "bec5761f-e0f9-451d-a0a7-c95d10e42d51",
   "metadata": {},
   "outputs": [],
   "source": []
  }
 ],
 "metadata": {
  "kernelspec": {
   "display_name": "Python 3 (ipykernel)",
   "language": "python",
   "name": "python3"
  },
  "language_info": {
   "codemirror_mode": {
    "name": "ipython",
    "version": 3
   },
   "file_extension": ".py",
   "mimetype": "text/x-python",
   "name": "python",
   "nbconvert_exporter": "python",
   "pygments_lexer": "ipython3",
   "version": "3.7.3"
  }
 },
 "nbformat": 4,
 "nbformat_minor": 5
}
